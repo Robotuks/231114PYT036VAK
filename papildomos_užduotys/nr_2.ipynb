{
 "cells": [
  {
   "cell_type": "markdown",
   "metadata": {},
   "source": [
    "1. Deklaruokite du `int` tipo kintamuosius. Apskaičiuokite jų sumą, skirtumą, sandaugą, liekaną, padalinkite vieną skaičių iš kito."
   ]
  },
  {
   "cell_type": "code",
   "execution_count": 6,
   "metadata": {},
   "outputs": [
    {
     "name": "stdout",
     "output_type": "stream",
     "text": [
      "24 + 5 = 29\n",
      "24 - 5 = 19\n",
      "24 * 5 = 120\n",
      "24 / 5 = 4.8\n",
      "24 % 5 = 4\n"
     ]
    }
   ],
   "source": [
    "number1 = 24\n",
    "number2 = 5\n",
    "\n",
    "# f-string (formatted string)\n",
    "print(f'{number1} + {number2} = {number1 + number2}')\n",
    "print(f'{number1} - {number2} = {number1 - number2}')\n",
    "print(f'{number1} * {number2} = {number1 * number2}')\n",
    "print(f'{number1} / {number2} = {number1 / number2}')\n",
    "print(f'{number1} % {number2} = {number1 % number2}')"
   ]
  },
  {
   "cell_type": "markdown",
   "metadata": {},
   "source": [
    "2. Deklaruokite du `float` tipo kintamuosius. Apskaičiuokite jų sumą, skirtumą, sandaugą, liekaną, padalinkite vieną skaičiu iš kito."
   ]
  },
  {
   "cell_type": "code",
   "execution_count": 9,
   "metadata": {},
   "outputs": [
    {
     "name": "stdout",
     "output_type": "stream",
     "text": [
      "24.5 + 5.12 = 29.62\n",
      "24.5 - 5.12 = 19.38\n",
      "24.5 * 5.12 = 125.44\n",
      "24.5 / 5.12 = 4.7851562500\n",
      "24.5 % 5.12 = 4.02\n"
     ]
    }
   ],
   "source": [
    "number1 = 24.5\n",
    "number2 = 5.12\n",
    "\n",
    "# f-string (formatted string)\n",
    "print(f'{number1} + {number2} = {number1 + number2}')\n",
    "print(f'{number1} - {number2} = {number1 - number2}')\n",
    "print(f'{number1} * {number2} = {number1 * number2}')\n",
    "print(f'{number1} / {number2} = {number1 / number2:0.10f}') # format to 10 decimal places\n",
    "print(f'{number1} % {number2} = {number1 % number2}')"
   ]
  },
  {
   "cell_type": "markdown",
   "metadata": {},
   "source": [
    "3. Atstumas iki Mėnulio yra apie 384,000 km, o iki Saulės 150,000,000 km. Apskaičiuokite:\n",
    "   1. kiek kartų atstumas iki Saulės yra didesnis nei iki Mėnulio?\n",
    "   2. Jeigu norėtume nuvažiuoti iki mėnulio automobiliu, kurio greitis 150km/h, kiek metų, mėnesių, dienų, valandų, sekundžių tai užtruktų?\n",
    "   3. Kiek dienų (apytiksliai) praėjo nuo jūsų gimimo dienos?\n"
   ]
  },
  {
   "cell_type": "code",
   "execution_count": 14,
   "metadata": {},
   "outputs": [
    {
     "name": "stdout",
     "output_type": "stream",
     "text": [
      "Atstumas iki saules yra 390.625 kartu didesnis nei atstumas iki menulio \n",
      "2560.0\n",
      "106.66666666666667\n",
      "3.5555555555555554\n",
      "0.2962962962962963\n",
      "153600.0\n",
      "9216000.0\n",
      "10220\n"
     ]
    }
   ],
   "source": [
    "dis_to_moon = 384_000 # same as 384000\n",
    "dis_to_sun = 150_000_000  # same as 150000000\n",
    "\n",
    "speed_per_hour = 150\n",
    "\n",
    "print(f'Atstumas iki saules yra {dis_to_sun / dis_to_moon} kartu didesnis nei atstumas iki menulio ')\n",
    "\n",
    "speed_per_day = speed_per_hour * 24\n",
    "speed_per_month = speed_per_day * 30\n",
    "speed_per_year = speed_per_month * 12\n",
    "speed_per_minutes = speed_per_hour/60\n",
    "speed_per_seconds = speed_per_minutes/60\n",
    "\n",
    "print(dis_to_moon/speed_per_hour)\n",
    "print(dis_to_moon/speed_per_day)\n",
    "print(dis_to_moon/speed_per_month)\n",
    "print(dis_to_moon/speed_per_year)\n",
    "print(dis_to_moon/speed_per_minutes)\n",
    "print(dis_to_moon/speed_per_seconds)\n",
    "\n",
    "print(28*365)"
   ]
  },
  {
   "cell_type": "code",
   "execution_count": 19,
   "metadata": {},
   "outputs": [
    {
     "name": "stdout",
     "output_type": "stream",
     "text": [
      "1995-09-15 00:30:00\n",
      "2023-11-28 19:08:33.058436\n",
      "10301 days, 18:38:33.058436\n",
      "10301\n"
     ]
    }
   ],
   "source": [
    "from datetime import datetime\n",
    "\n",
    "birthday = datetime(year=1995, month=9, day=15, minute=30)\n",
    "print(birthday)\n",
    "now = datetime.now()\n",
    "print(now)\n",
    "time_passed = now - birthday\n",
    "print(time_passed)\n",
    "print(time_passed.days)"
   ]
  },
  {
   "cell_type": "markdown",
   "metadata": {},
   "source": [
    "4. Deklaruokite True reikšmę 5 skirtingais būdais\n"
   ]
  },
  {
   "cell_type": "code",
   "execution_count": 21,
   "metadata": {},
   "outputs": [
    {
     "name": "stdout",
     "output_type": "stream",
     "text": [
      "True\n",
      "True\n",
      "True\n",
      "True\n",
      "True\n",
      "True\n",
      "True\n",
      "True\n",
      "True\n"
     ]
    }
   ],
   "source": [
    "print (10 < 50)\n",
    "print (10 >= 10)\n",
    "print (10 == 10)\n",
    "print(10 != 50)\n",
    "text = 'ponaspitonas'\n",
    "print ( 'p' in text )\n",
    "\n",
    "print (True and 3>2)\n",
    "print (True )\n",
    "print (bool(57457))\n",
    "print (bool('tekstas'))"
   ]
  },
  {
   "cell_type": "markdown",
   "metadata": {},
   "source": [
    "5. Deklaruokite False reikšmę 5 skirtingais būdais"
   ]
  },
  {
   "cell_type": "code",
   "execution_count": 22,
   "metadata": {},
   "outputs": [
    {
     "name": "stdout",
     "output_type": "stream",
     "text": [
      "False\n",
      "False\n",
      "False\n",
      "False\n",
      "False\n",
      "False\n",
      "False\n",
      "False\n",
      "False\n"
     ]
    }
   ],
   "source": [
    "print (10 > 50)\n",
    "print (50 <= 10)\n",
    "print (10 == 50)\n",
    "print(50 != 50)\n",
    "text = 'ponaspitonas'\n",
    "print ( 'u' in text )\n",
    "\n",
    "print (True and 3<2)\n",
    "print (False )\n",
    "print (bool(0) )\n",
    "print (bool('') )"
   ]
  },
  {
   "cell_type": "markdown",
   "metadata": {},
   "source": [
    "6. Deklaruokite False:\n",
    "   1. Naudodami tik `int` tipo duomenį\n",
    "   2. Tik string tipo duomenį\n"
   ]
  },
  {
   "cell_type": "code",
   "execution_count": 24,
   "metadata": {},
   "outputs": [
    {
     "name": "stdout",
     "output_type": "stream",
     "text": [
      "False\n",
      "False\n",
      "False\n"
     ]
    }
   ],
   "source": [
    "print (bool(0) )\n",
    "print (bool('') )\n",
    "text = 'ponaspitonas'\n",
    "print ( 'u' in text )"
   ]
  },
  {
   "cell_type": "code",
   "execution_count": null,
   "metadata": {},
   "outputs": [],
   "source": []
  }
 ],
 "metadata": {
  "kernelspec": {
   "display_name": "Python 3",
   "language": "python",
   "name": "python3"
  },
  "language_info": {
   "codemirror_mode": {
    "name": "ipython",
    "version": 3
   },
   "file_extension": ".py",
   "mimetype": "text/x-python",
   "name": "python",
   "nbconvert_exporter": "python",
   "pygments_lexer": "ipython3",
   "version": "3.10.2"
  }
 },
 "nbformat": 4,
 "nbformat_minor": 2
}
