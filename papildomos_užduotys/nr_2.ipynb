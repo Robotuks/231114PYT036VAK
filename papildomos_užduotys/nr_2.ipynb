{
 "cells": [
  {
   "cell_type": "markdown",
   "metadata": {},
   "source": [
    "1. Deklaruokite du `int` tipo kintamuosius. Apskaičiuokite jų sumą, skirtumą, sandaugą, liekaną, padalinkite vieną skaičių iš kito."
   ]
  },
  {
   "cell_type": "code",
   "execution_count": null,
   "metadata": {},
   "outputs": [],
   "source": []
  },
  {
   "cell_type": "markdown",
   "metadata": {},
   "source": [
    "2. Deklaruokite du `float` tipo kintamuosius. Apskaičiuokite jų sumą, skirtumą, sandaugą, liekaną, padalinkite vieną skaičiu iš kito."
   ]
  },
  {
   "cell_type": "code",
   "execution_count": null,
   "metadata": {},
   "outputs": [],
   "source": []
  },
  {
   "cell_type": "markdown",
   "metadata": {},
   "source": [
    "3. Atstumas iki Mėnulio yra apie 384,000 km, o iki Saulės 150,000,000 km. Apskaičiuokite:\n",
    "   1. kiek kartų atstumas iki Saulės yra didesnis nei iki Mėnulio?\n",
    "   2. Jeigu norėtume nuvažiuoti iki mėnulio automobiliu, kurio greitis 150km/h, kiek metų, mėnesių, dienų, valandų, sekundžių tai užtruktų?\n",
    "   3. Kiek dienų (apytiksliai) praėjo nuo jūsų gimimo dienos?\n"
   ]
  },
  {
   "cell_type": "code",
   "execution_count": null,
   "metadata": {},
   "outputs": [],
   "source": []
  },
  {
   "cell_type": "markdown",
   "metadata": {},
   "source": [
    "4. Deklaruokite True reikšmę 5 skirtingais būdais\n"
   ]
  },
  {
   "cell_type": "code",
   "execution_count": null,
   "metadata": {},
   "outputs": [],
   "source": []
  },
  {
   "cell_type": "markdown",
   "metadata": {},
   "source": [
    "5. Deklaruokite False reikšmę 5 skirtingais būdais"
   ]
  },
  {
   "cell_type": "code",
   "execution_count": null,
   "metadata": {},
   "outputs": [],
   "source": []
  },
  {
   "cell_type": "markdown",
   "metadata": {},
   "source": [
    "6. Deklaruokite False:\n",
    "   1. Naudodami tik `int` tipo duomenį\n",
    "   2. Tik string tipo duomenį\n"
   ]
  },
  {
   "cell_type": "code",
   "execution_count": null,
   "metadata": {},
   "outputs": [],
   "source": []
  }
 ],
 "metadata": {
  "language_info": {
   "name": "python"
  }
 },
 "nbformat": 4,
 "nbformat_minor": 2
}
