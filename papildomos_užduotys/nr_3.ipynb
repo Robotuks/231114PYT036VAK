{
 "cells": [
  {
   "cell_type": "markdown",
   "metadata": {},
   "source": [
    "1. Surasti didžiausią reikšmę esančia sąraše. Gautą reikšmę padalinti iš sąrašo narių sumos ir atspausdinti. Naudoti sum() funkciją."
   ]
  },
  {
   "cell_type": "code",
   "execution_count": null,
   "metadata": {},
   "outputs": [],
   "source": []
  },
  {
   "cell_type": "markdown",
   "metadata": {},
   "source": [
    "2. Turite sąrašą `fruits`, kuriame yra turimi vaisiai. Leisti vartotojui nurodyti norimą vaisių (naudoti input() ) ir atspausdinti ar vaisius yra sąraše (True arba False)."
   ]
  },
  {
   "cell_type": "code",
   "execution_count": null,
   "metadata": {},
   "outputs": [],
   "source": [
    "fruits = ['apple', 'banana', 'orange', 'grapes', 'pineapple',]"
   ]
  },
  {
   "cell_type": "markdown",
   "metadata": {},
   "source": [
    "3. Paklauskite vartotojo, kiek skaičių (1-100) nori panaudoti skaičiavimams. Iš `list_1` paimti vartotojo nurodytą skaičių kiekį (naudoti *slicing*) ir išsaugoti `selected_numbers` kintamajame. Paskaičiuoti ir atspausdinti `selected_numbers` sumą, vidutinę, minimalią ir maksimalią vertę. Reikalingos sum(), max(), min() funkcijos."
   ]
  },
  {
   "cell_type": "code",
   "execution_count": null,
   "metadata": {},
   "outputs": [],
   "source": [
    "list_1 = [11, 23, 97, 10, 55, 46, 16, 72, 3, 72, 17, 29, 21, 48, 50, 4, 73, 44, 18, 30, 53, 95, 15, 69, 86, 39, 6, 89, 89, 2, 26, 54, 27, 39, 3, 69, 21, 62, 99, 11, 49, 58, 78, 53, 46, 50, 39, 100, 77, 41, 7, 10, 53, 33, 74, 78, 20, 41, 65, 9, 84, 11, 90, 65, 43, 78, 15, 49, 87, 48, 84, 31, 17, 17, 60, 47, 71, 7, 23, 56, 74, 45, 74, 17, 27, 52, 80, 26, 93, 14, 76, 28, 99, 3, 61, 67, 71, 24, 77, 74]"
   ]
  },
  {
   "cell_type": "markdown",
   "metadata": {},
   "source": [
    "4. \n",
    "   1. Parašykite Python programą, kuri paprašo vartotojo įvesti pajamų sumą.\n",
    "   2. Tegul programa apskaičiuoja mokesčių procentą pagal šią logiką:\n",
    "      *  Jei suma yra iki 1000, mokesčių tarifas yra 10%.\n",
    "      *  Jei suma yra tarp 1000 ir 5000, mokesčių tarifas yra 15%.\n",
    "      *  Jei suma viršija 5000, mokesčių tarifas yra 20%.\n",
    "   3. Programa turėtų atspausdinti skaičiuotą mokesčių procentą ir skaičiuotą mokesčių sumą."
   ]
  },
  {
   "cell_type": "code",
   "execution_count": null,
   "metadata": {},
   "outputs": [],
   "source": [
    "# Pavyzdys:\n",
    "# Įveskite pajamų sumą: 3000\n",
    "# Mokesčių procentas: 15%\n",
    "# Mokesčių suma: 450"
   ]
  },
  {
   "cell_type": "markdown",
   "metadata": {},
   "source": []
  }
 ],
 "metadata": {
  "language_info": {
   "name": "python"
  }
 },
 "nbformat": 4,
 "nbformat_minor": 2
}
