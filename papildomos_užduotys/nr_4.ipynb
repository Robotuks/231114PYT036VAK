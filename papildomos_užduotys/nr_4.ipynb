{
 "cells": [
  {
   "cell_type": "markdown",
   "metadata": {},
   "source": [
    "1. Leiskite vartotojui pasirinkti skaičių, atspausdinkite jo sandaugą nuo 1 iki 10 imtinai"
   ]
  },
  {
   "cell_type": "code",
   "execution_count": null,
   "metadata": {},
   "outputs": [],
   "source": []
  },
  {
   "cell_type": "markdown",
   "metadata": {},
   "source": [
    "2. Gaukite visas įmanomas kombinacijas iš šių sąrašų, įrašykite jas į list’ą. Bus reikalingas dvigubas for ciklas (ciklas cikle)  \n",
    "Rezultatas turi gautis panašus į:  \n",
    "kombinacijos = [ [ ‘Pirmadienis’, 10 ], [ ‘Pirmadienis’, 11], [ ‘Pirmadienis’, 12]... ]"
   ]
  },
  {
   "cell_type": "code",
   "execution_count": null,
   "metadata": {},
   "outputs": [],
   "source": [
    "dienos = ['Pirmadienis', 'Antradienis', 'Treciadienis','Ketvirtadienis', 'Penktadienis', 'Sestadienis' , 'Sekmadienis']\n",
    "valandos = [10, 11, 12, 13, 14, 15, 16, 17, 18, 19]"
   ]
  },
  {
   "cell_type": "markdown",
   "metadata": {},
   "source": [
    "3. Tikrinant skaičius nuo 1 iki 20, atspausdinkite skaičius, kurie dalinasi iš 3 be liekanos. Naudokite for loop ir if"
   ]
  },
  {
   "cell_type": "code",
   "execution_count": null,
   "metadata": {},
   "outputs": [],
   "source": []
  },
  {
   "cell_type": "markdown",
   "metadata": {},
   "source": [
    "4. Tikrinant skaičius nuo 1 iki 50, pridėkite skaičių prie sumos, jei nauja būsima suma bus lyginė. Naudokite for loop ir if"
   ]
  },
  {
   "cell_type": "code",
   "execution_count": null,
   "metadata": {},
   "outputs": [],
   "source": []
  },
  {
   "cell_type": "markdown",
   "metadata": {},
   "source": [
    "5. Leiskite vartotojui pasirinkti skaičių, atspausdinkite jo sandaugą nuo 1 iki 10 tik tada, jei pasirinktas skaičius pakeltas kvadratu yra nelyginis."
   ]
  },
  {
   "cell_type": "code",
   "execution_count": null,
   "metadata": {},
   "outputs": [],
   "source": []
  },
  {
   "cell_type": "markdown",
   "metadata": {},
   "source": [
    "6. Gaukite visas įmanomas kombinacijas iš šių sąrašų tik tada, jei diena yra arba pirmadienis arba trečiadienis, o valandos yra nuo 12 iki 17, įrašykite jas į list’ą"
   ]
  },
  {
   "cell_type": "code",
   "execution_count": null,
   "metadata": {},
   "outputs": [],
   "source": [
    "dienos = ('Pirmadienis', 'Antradienis', 'Treciadienis','Ketvirtadienis', 'Penktadienis', 'Sestadienis' , 'Sekmadienis')\n",
    "valandos = [10, 11, 12, 13, 14, 15, 16, 17, 18, 19]"
   ]
  }
 ],
 "metadata": {
  "language_info": {
   "name": "python"
  }
 },
 "nbformat": 4,
 "nbformat_minor": 2
}
