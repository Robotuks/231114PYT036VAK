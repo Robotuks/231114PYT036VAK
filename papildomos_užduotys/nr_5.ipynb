{
 "cells": [
  {
   "cell_type": "markdown",
   "metadata": {},
   "source": [
    "1. Sudėti du tuple ir rezultatą išsaugoti kintamajame. Išimti paskutinį narį iš sudėto tuple, išrikiuoti tuple, suskaičiuoti kiek yra kokios nors reikšmės įvesčių tuple, rasti didžiausią reikšmę "
   ]
  },
  {
   "cell_type": "code",
   "execution_count": null,
   "metadata": {},
   "outputs": [],
   "source": []
  },
  {
   "cell_type": "markdown",
   "metadata": {},
   "source": [
    "2. Tikrinant skaičius nuo 1 iki 100, jeigu skaičius dalinasi iš 2 be liekanos, atspausdinkite ‘Fizz’, jeigu skaičius dalinasi iš 3 be liekanos atspausdinkite ‘Buzz’, jei skaičius dalinasi iš 2 ir 3 be liekanos, atspausdinkite ‘FizzBuzz’"
   ]
  },
  {
   "cell_type": "code",
   "execution_count": null,
   "metadata": {},
   "outputs": [],
   "source": []
  },
  {
   "cell_type": "markdown",
   "metadata": {},
   "source": [
    "3. Leiskite pasirinkti skaičių. Jeigu įvestas skaičius yra daugiau arba lygus 10, einant per skaičius nuo 1 iki pasirinkto skaičiaus, atspausdinkite visus skaičius kurie dalinasi iš 5 su liekana."
   ]
  },
  {
   "cell_type": "code",
   "execution_count": null,
   "metadata": {},
   "outputs": [],
   "source": []
  },
  {
   "cell_type": "markdown",
   "metadata": {},
   "source": [
    "4. Koks yra sąrašo ilgis sudaryto iš pateiktų sąrašų kombinacijų (kombinacija sudaryta iš vieno nario iš kiekvieno a, b ir c sąrašo), jeigu norime rasti visas įmanomas reikšmes? Sudėkite visas kombinacijas į kombinacijų sąrašą.\n",
    "Bonus užduotis: Išrikiuokite sąrašą nuo didžiausios iki mažiausios reikšmės. Teks pasidomėti kaip tai galima atlikti teisingai. \n"
   ]
  },
  {
   "cell_type": "code",
   "execution_count": 3,
   "metadata": {},
   "outputs": [],
   "source": [
    "a = ['1','2','3','4','5']\n",
    "b = ['labas', 'vakaras', 'kokia grazi diena', 'siandien uz lango', '10 laipsniu silumos']\n",
    "c = ['100', '200', 40, 10]\n"
   ]
  },
  {
   "cell_type": "markdown",
   "metadata": {},
   "source": [
    "5.1 Atspausdinkite 'Ford', gaukite žodyno car ilgį, pakeiskite metus į 2022"
   ]
  },
  {
   "cell_type": "code",
   "execution_count": 4,
   "metadata": {},
   "outputs": [],
   "source": [
    "car =\t{\n",
    "    \"brand\": \"Ford\",\n",
    "    \"model\": \"Mustang\",\n",
    "    \"year\": 1964\n",
    "}\n"
   ]
  },
  {
   "cell_type": "markdown",
   "metadata": {},
   "source": [
    "5.2 Prie esamo žodyno pridėkite naujas reikšmes\n",
    "\n",
    "'color' = 'red'  \n",
    "'used' =  True\n",
    "\n"
   ]
  },
  {
   "cell_type": "code",
   "execution_count": null,
   "metadata": {},
   "outputs": [],
   "source": []
  },
  {
   "cell_type": "markdown",
   "metadata": {},
   "source": [
    "5.3 Iš esamo žodyno ištrinti 'brand' raktą ir reikšmę, o 'year' reikšmę paverskite į None"
   ]
  },
  {
   "cell_type": "code",
   "execution_count": null,
   "metadata": {},
   "outputs": [],
   "source": []
  },
  {
   "cell_type": "markdown",
   "metadata": {},
   "source": [
    "6. Paskaičiuoti pelną pardavus visas prekes. Informacija apie kainą ir kiekius yra pateikiama  kaip dictionary, atsakymą suapvalinti iki 2 skaičių po kablelio\n"
   ]
  },
  {
   "cell_type": "code",
   "execution_count": 5,
   "metadata": {},
   "outputs": [],
   "source": [
    "x = { \n",
    "    \"cost_price\": 32.67,\n",
    "    \"sell_price\": 45.00,\n",
    "    \"inventory\": 1212\n",
    "}\n"
   ]
  }
 ],
 "metadata": {
  "kernelspec": {
   "display_name": "Python 3",
   "language": "python",
   "name": "python3"
  },
  "language_info": {
   "codemirror_mode": {
    "name": "ipython",
    "version": 3
   },
   "file_extension": ".py",
   "mimetype": "text/x-python",
   "name": "python",
   "nbconvert_exporter": "python",
   "pygments_lexer": "ipython3",
   "version": "3.10.2"
  }
 },
 "nbformat": 4,
 "nbformat_minor": 2
}
