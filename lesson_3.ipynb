{
 "cells": [
  {
   "cell_type": "markdown",
   "metadata": {},
   "source": [
    "# Papildomos užduotys Nr. 1"
   ]
  },
  {
   "cell_type": "markdown",
   "metadata": {},
   "source": [
    "1. Susikurkite šiuos kintamuosius, saugančius informaciją apie gyvūną: pavadinimas, amžius, kailio spalva, svoris. Išveskite šiuos duomenis gražiai suformatuotus vienoje eilutėje, sakinio forma. Pavyzdžiui:\n",
    "\"Gyvūnas - šuo (2 m.) turi rudą kailio spalvą ir sveria 1.4 kg.\""
   ]
  },
  {
   "cell_type": "code",
   "execution_count": 1,
   "metadata": {},
   "outputs": [
    {
     "name": "stdout",
     "output_type": "stream",
     "text": [
      "Gyvunas - Rokis, (5 m.) turi baltos spalvos kailį ir sveria 8 kg.\n"
     ]
    }
   ],
   "source": [
    "gyvūno_pavadinimas = \"Rokis\"\n",
    "# SI matavimo sistema\n",
    "amžius = 5 # metai\n",
    "spalva = \"baltos\"\n",
    "# svoris_kg = 8\n",
    "svoris = 8 # kg\n",
    "\n",
    "print( f'Gyvunas - {gyvūno_pavadinimas}, ({amžius} m.) turi {spalva} spalvos kailį ir sveria {svoris} kg.')  "
   ]
  },
  {
   "cell_type": "markdown",
   "metadata": {},
   "source": [
    "2. Apverskite žodį \"stressed\". Galima naudoti Slicing arba String metodą."
   ]
  },
  {
   "cell_type": "code",
   "execution_count": 2,
   "metadata": {},
   "outputs": [
    {
     "name": "stdout",
     "output_type": "stream",
     "text": [
      "stressed[::-1] - desserts\n",
      "stressed[::-1] - desserts\n"
     ]
    }
   ],
   "source": [
    "word = 'stressed'\n",
    "\n",
    "print( 'stressed[::-1] -', word[::-1] )\n",
    "print( 'stressed[::-1] -', word[::-1] )\n"
   ]
  },
  {
   "cell_type": "markdown",
   "metadata": {},
   "source": [
    "3. Patikrinti ar kintamojo 'needle' vertė yra dalis 'haystack' kintamojo vertės (gauti atsakymą True arba False). Pagooglinti (Python check substring in string) ir panaudoti Python raktažodį - in\n",
    "needle =\"racecar\"\n",
    "haystack = \"The racecar is fast, but can it outrun a palindrome?\""
   ]
  },
  {
   "cell_type": "code",
   "execution_count": 3,
   "metadata": {},
   "outputs": [
    {
     "data": {
      "text/plain": [
       "True"
      ]
     },
     "execution_count": 3,
     "metadata": {},
     "output_type": "execute_result"
    }
   ],
   "source": [
    "needle = \"outrun\"\n",
    "haystack = \"The racecar is fast, but can it outrun a palindrome?\"\n",
    "\n",
    "needle in haystack"
   ]
  },
  {
   "cell_type": "markdown",
   "metadata": {},
   "source": [
    "4. Didžiųjų Raidžių Pakeitimas: Parašykite vienos eilutės kodą, kuris pakeičia visas eilutės raides į didžiąsias."
   ]
  },
  {
   "cell_type": "code",
   "execution_count": 4,
   "metadata": {},
   "outputs": [
    {
     "name": "stdout",
     "output_type": "stream",
     "text": [
      "Labas, Pasauli!\n",
      "LABAS, PASAULI!\n"
     ]
    }
   ],
   "source": [
    "print('Labas, Pasauli!')\n",
    "print('Labas, Pasauli!'.upper() )"
   ]
  },
  {
   "cell_type": "markdown",
   "metadata": {},
   "source": [
    "5. Eilutės Dalies Pakeitimas: Sukurkite vienos eilutės kodą, kuris pakeičia vieną nurodytą eilutės fragmentą (old_fragment) kitu (new_fragment)."
   ]
  },
  {
   "cell_type": "code",
   "execution_count": 10,
   "metadata": {},
   "outputs": [
    {
     "name": "stdout",
     "output_type": "stream",
     "text": [
      "Man patinka kava ir arbata.\n"
     ]
    }
   ],
   "source": [
    "tekstas = \"Man patinka kava ir arbata.\"\n",
    "old_fragment = \"arbata\"\n",
    "new_fragment = \"šokoladas\"\n",
    "\n",
    "print( tekstas.replace(old_fragment, new_fragment) )\n"
   ]
  },
  {
   "cell_type": "code",
   "execution_count": 7,
   "metadata": {},
   "outputs": [
    {
     "name": "stdout",
     "output_type": "stream",
     "text": [
      "print veikia \n",
      "print neveikia\n"
     ]
    }
   ],
   "source": [
    "print( 'print veikia ' )\n",
    "# print = 'PRINT TEKSTAS' # nepperašykime print ar kitų funkcijų\n",
    "print( 'print neveikia' )"
   ]
  },
  {
   "cell_type": "markdown",
   "metadata": {},
   "source": [
    "6. Simbolių Skaičiavimas: Parašykite vienos eilutės kodą, kuris suskaičiuoja, kiek kartų pasikartoja tam tikras simbolis eilutėje.\n",
    "input_string = \"Obuolys ir bananas\" \n",
    "specific_character = \"a\""
   ]
  },
  {
   "cell_type": "code",
   "execution_count": 22,
   "metadata": {},
   "outputs": [
    {
     "name": "stdout",
     "output_type": "stream",
     "text": [
      "Obuolys, kivis ir bananas banana\n",
      "1\n"
     ]
    }
   ],
   "source": [
    "input_string = \"Obuolys, kivis ir bananas banana\" \n",
    "specific_character = \"bananas\"\n",
    "\n",
    "print(input_string)\n",
    "print(input_string.count(specific_character))"
   ]
  },
  {
   "cell_type": "code",
   "execution_count": 26,
   "metadata": {},
   "outputs": [
    {
     "name": "stdout",
     "output_type": "stream",
     "text": [
      "Jevgenij Ivanov\n",
      "Jevgenij Ivanov\n"
     ]
    }
   ],
   "source": [
    "vardas = \"Jevgenij\"\n",
    "pavarde = 'Ivanov'\n",
    "print (vardas,     pavarde)\n",
    "print (f'{vardas} {pavarde}')"
   ]
  },
  {
   "cell_type": "code",
   "execution_count": 28,
   "metadata": {},
   "outputs": [
    {
     "name": "stdout",
     "output_type": "stream",
     "text": [
      "PHYTON MAKES ME REALLY HAPPY\n"
     ]
    },
    {
     "data": {
      "text/plain": [
       "'PyThoN makes me really happy'"
      ]
     },
     "execution_count": 28,
     "metadata": {},
     "output_type": "execute_result"
    }
   ],
   "source": [
    "in_string = 'phyton makes me really happy'\n",
    "\n",
    "print(in_string.upper() )\n",
    "\n",
    "old = 'phyton'\n",
    "new = 'PyThoN'\n",
    "in_string.replace(old, new)"
   ]
  },
  {
   "cell_type": "code",
   "execution_count": 37,
   "metadata": {},
   "outputs": [
    {
     "name": "stdout",
     "output_type": "stream",
     "text": [
      "happy\n",
      "to\n",
      "to\n",
      "40\n"
     ]
    }
   ],
   "source": [
    "text = 'Hello World, I am happy to learn Python!'\n",
    "word_to_find = 'happy'\n",
    "\n",
    "print( text[ text.find(word_to_find) : text.find(word_to_find) + len(word_to_find) ] ) \n",
    "\n",
    "word_to_find = 'to'\n",
    "print( text[ text.find(word_to_find) : text.find(word_to_find) + len(word_to_find) ] ) \n",
    "print( text[ 24:26 ] ) \n",
    "\n",
    "print( len(text) )"
   ]
  },
  {
   "cell_type": "markdown",
   "metadata": {},
   "source": [
    "# Numbers"
   ]
  },
  {
   "cell_type": "code",
   "execution_count": 46,
   "metadata": {},
   "outputs": [
    {
     "name": "stdout",
     "output_type": "stream",
     "text": [
      "<class 'int'>\n",
      "<class 'float'>\n",
      "<class 'float'>\n",
      "<class 'float'>\n"
     ]
    }
   ],
   "source": [
    "\n",
    "number = 16\n",
    "\n",
    "float_number = 16.5\n",
    "float_number_2 = 16.\n",
    "\n",
    "n = 17.\n",
    "\n",
    "print( type(number) )\n",
    "print( type(float_number) )\n",
    "print( type(float_number_2) )\n",
    "print( type(n) )"
   ]
  },
  {
   "cell_type": "code",
   "execution_count": 56,
   "metadata": {},
   "outputs": [
    {
     "name": "stdout",
     "output_type": "stream",
     "text": [
      "10 + 5 = 15\n",
      "10 - 5 = 5\n",
      "10 * 5 = 50\n",
      "10 / 5 = 2.0\n",
      "13 // 5 = 2\n",
      "18 // 5 = 3\n",
      "15 // 5 = 3\n",
      "14 // 5 = 2\n",
      "19 // 5 = 3\n",
      "20 // 5 = 4\n"
     ]
    }
   ],
   "source": [
    "print(f'10 + 5 = {10 + 5}')\n",
    "print(f'10 - 5 = {10 - 5}')\n",
    "print(f'10 * 5 = {10 * 5}')\n",
    "print(f'10 / 5 = {10 / 5}')\n",
    "print(f'13 // 5 = {13 // 5}') # sveikoji dalis\n",
    "print(f'18 // 5 = {18 // 5}')\n",
    "print(f'15 // 5 = {15 // 5}')\n",
    "print(f'14 // 5 = {14 // 5}')\n",
    "print(f'19 // 5 = {19 // 5}')\n",
    "print(f'20 // 5 = {20 // 5}')"
   ]
  },
  {
   "cell_type": "code",
   "execution_count": 64,
   "metadata": {},
   "outputs": [
    {
     "name": "stdout",
     "output_type": "stream",
     "text": [
      "18 % 5 = 3\n",
      "19 % 5 = 4\n",
      "20 % 5 = 0\n",
      "21 % 5 = 1\n",
      "21 % 2 = 1\n",
      "22 % 2 = 0\n",
      "23 % 2 = 1\n",
      "24 % 2 = 0\n",
      "0 % 3 = 0\n",
      "1 % 3 = 1\n",
      "2 % 3 = 2\n",
      "3 % 3 = 0\n",
      "4 % 3 = 1\n",
      "5 % 3 = 2\n",
      "6 % 3 = 0\n"
     ]
    }
   ],
   "source": [
    "print(f'18 % 5 = {18 % 5}') # liekancioji dalis - modulus\n",
    "print(f'19 % 5 = {19 % 5}') # liekancioji dalis - modulus\n",
    "print(f'20 % 5 = {20 % 5}')\n",
    "print(f'21 % 5 = {21 % 5}')\n",
    "\n",
    "print(f'21 % 2 = {21 % 2}')\n",
    "print(f'22 % 2 = {22 % 2}')\n",
    "print(f'23 % 2 = {23 % 2}')\n",
    "print(f'24 % 2 = {24 % 2}')\n",
    "\n",
    "print(f'0 % 3 = {0 % 3}')\n",
    "print(f'1 % 3 = {1 % 3}')\n",
    "print(f'2 % 3 = {2 % 3}')\n",
    "print(f'3 % 3 = {3 % 3}')\n",
    "print(f'4 % 3 = {4 % 3}')\n",
    "print(f'5 % 3 = {5 % 3}')\n",
    "print(f'6 % 3 = {6 % 3}')"
   ]
  },
  {
   "cell_type": "code",
   "execution_count": 70,
   "metadata": {},
   "outputs": [
    {
     "name": "stdout",
     "output_type": "stream",
     "text": [
      "2 ** 5 = 32\n",
      "3 ** 2 = 9\n",
      "3 ** 3 = 27\n",
      "16 ** 0.5 = 4.0\n",
      "9 ** 0.5 = 3.0\n"
     ]
    }
   ],
   "source": [
    "print(f'2 ** 5 = {2 ** 5}') # 2^5 kelimas laipsnius - power\n",
    "print(f'3 ** 2 = {3 ** 2}')\n",
    "print(f'3 ** 3 = {3 ** 3}')\n",
    "\n",
    "print(f'16 ** 0.5 = {16 ** 0.5}')\n",
    "print(f'9 ** 0.5 = {9 ** 0.5}')"
   ]
  },
  {
   "cell_type": "code",
   "execution_count": 71,
   "metadata": {},
   "outputs": [
    {
     "data": {
      "text/plain": [
       "4.0"
      ]
     },
     "execution_count": 71,
     "metadata": {},
     "output_type": "execute_result"
    }
   ],
   "source": [
    "import math\n",
    "math.sqrt(16)"
   ]
  },
  {
   "cell_type": "code",
   "execution_count": 80,
   "metadata": {},
   "outputs": [
    {
     "name": "stdout",
     "output_type": "stream",
     "text": [
      "1\n",
      "2\n",
      "3\n",
      "4\n",
      "8\n",
      "2.0\n",
      "2.0\n"
     ]
    }
   ],
   "source": [
    "# accumulate - kaupiklis. \n",
    "suma = 0\n",
    "suma = suma + 1\n",
    "print(suma)\n",
    "suma = suma + 1\n",
    "print(suma)\n",
    "suma += 1 # same as: suma = suma + 1\n",
    "print(suma)\n",
    "suma += 1\n",
    "print(suma)\n",
    "suma *= 2 # same as: suma = suma * 2\n",
    "print(suma)\n",
    "suma /= 4 # same as: suma = suma / 4\n",
    "print(suma)\n",
    "suma / 4\n",
    "suma / 4\n",
    "print(suma)"
   ]
  },
  {
   "cell_type": "code",
   "execution_count": 81,
   "metadata": {},
   "outputs": [
    {
     "name": "stdout",
     "output_type": "stream",
     "text": [
      "1000000\n",
      "1000000\n"
     ]
    }
   ],
   "source": [
    "big_number = 1_000_000 # tik del skaitymo palengvinimo\n",
    "big_number_2 = 1000000\n",
    "print(big_number)\n",
    "print(big_number_2)"
   ]
  },
  {
   "cell_type": "code",
   "execution_count": null,
   "metadata": {},
   "outputs": [],
   "source": [
    "num_1 = 10.5\n",
    "num_2 = 3.13\n"
   ]
  },
  {
   "cell_type": "markdown",
   "metadata": {},
   "source": [
    "# Boolean (Bool)"
   ]
  },
  {
   "cell_type": "code",
   "execution_count": 83,
   "metadata": {},
   "outputs": [
    {
     "name": "stdout",
     "output_type": "stream",
     "text": [
      "True\n",
      "<class 'bool'>\n"
     ]
    }
   ],
   "source": [
    "bool_1 = True\n",
    "print(bool_1)\n",
    "print(type(bool_1))"
   ]
  },
  {
   "cell_type": "code",
   "execution_count": 84,
   "metadata": {},
   "outputs": [
    {
     "name": "stdout",
     "output_type": "stream",
     "text": [
      "False\n",
      "<class 'bool'>\n"
     ]
    }
   ],
   "source": [
    "bool_2 = False\n",
    "print(bool_2)\n",
    "print(type(bool_2))"
   ]
  },
  {
   "cell_type": "code",
   "execution_count": 97,
   "metadata": {},
   "outputs": [
    {
     "name": "stdout",
     "output_type": "stream",
     "text": [
      "True\n",
      "False\n",
      "False\n",
      "True\n",
      "True\n",
      "True\n",
      "True\n"
     ]
    }
   ],
   "source": [
    "num = 1\n",
    "print( bool(num) ) # typecasting - paversti i kita tipa\n",
    "print( bool(0) )\n",
    "print( bool(0.0) )\n",
    "print ( bool(0.00000000000000000001) )\n",
    "print( bool(-1) )\n",
    "print( bool(100) )\n",
    "print( bool(0.5) )\n",
    "# False tik kai 0, visais kitais atvejais True\n",
    "\n",
    "bool(0.5)\n",
    "# Jupyter atspausdina paskutinę eilutę, jei gali\n",
    "x = 1"
   ]
  },
  {
   "cell_type": "code",
   "execution_count": 102,
   "metadata": {},
   "outputs": [
    {
     "name": "stdout",
     "output_type": "stream",
     "text": [
      "True\n",
      "False\n",
      "True\n",
      "True\n",
      "False\n",
      "True\n"
     ]
    }
   ],
   "source": [
    "print ( bool('asfhinuah') )\n",
    "print ( bool('') )\n",
    "print ( bool(' ') )\n",
    "print ( bool('0') )\n",
    "print ( bool(0) )\n",
    "print ( bool('False') )\n",
    "# False tik tuscias tekstas, visais kitais atvejais True"
   ]
  },
  {
   "cell_type": "code",
   "execution_count": 113,
   "metadata": {},
   "outputs": [
    {
     "name": "stdout",
     "output_type": "stream",
     "text": [
      "True\n",
      "'101'\n",
      "101\n",
      "116\n",
      "116\n",
      "'1634'\n",
      "1634\n"
     ]
    }
   ],
   "source": [
    "bool_number = bool(100)\n",
    "print(bool_number)\n",
    "\n",
    "text_of_numbers = '101'\n",
    "number = int(text_of_numbers)\n",
    "print(repr(text_of_numbers))\n",
    "# print(text_of_numbers)\n",
    "print(number)\n",
    "\n",
    "print( 15 + number )\n",
    "# print( 15 + text_of_numbers ) # error\n",
    "print( 15 + int(text_of_numbers) )\n",
    "print( repr( \"16\" + str(34) ) ) # concatenation - sujungimas\n",
    "print( repr( 1634 ) )"
   ]
  },
  {
   "cell_type": "code",
   "execution_count": 114,
   "metadata": {},
   "outputs": [
    {
     "name": "stdout",
     "output_type": "stream",
     "text": [
      "False\n",
      "True\n",
      "False\n",
      "True\n",
      "True\n",
      "False\n",
      "nelygus\n",
      "True\n",
      "False\n"
     ]
    }
   ],
   "source": [
    "print (2 > 5)\n",
    "print (2 < 5)\n",
    "print (5 > 5)\n",
    "print (5 >= 5)\n",
    "\n",
    "print (5 == 5)\n",
    "print (10 == 5)\n",
    "\n",
    "print ('nelygus')\n",
    "print(10 != 5)\n",
    "print(10 != 10)"
   ]
  },
  {
   "cell_type": "code",
   "execution_count": 115,
   "metadata": {},
   "outputs": [
    {
     "name": "stdout",
     "output_type": "stream",
     "text": [
      "True\n",
      "True\n",
      "False\n"
     ]
    }
   ],
   "source": [
    "text = 'Hello world'\n",
    "print ( 'w' in text )\n",
    "print ( 'world' in text )\n",
    "print ( 'World' in text )"
   ]
  },
  {
   "cell_type": "code",
   "execution_count": null,
   "metadata": {},
   "outputs": [],
   "source": []
  }
 ],
 "metadata": {
  "kernelspec": {
   "display_name": "Python 3",
   "language": "python",
   "name": "python3"
  },
  "language_info": {
   "codemirror_mode": {
    "name": "ipython",
    "version": 3
   },
   "file_extension": ".py",
   "mimetype": "text/x-python",
   "name": "python",
   "nbconvert_exporter": "python",
   "pygments_lexer": "ipython3",
   "version": "3.10.2"
  }
 },
 "nbformat": 4,
 "nbformat_minor": 2
}
