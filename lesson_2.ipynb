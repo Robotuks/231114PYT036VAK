{
 "cells": [
  {
   "cell_type": "markdown",
   "metadata": {},
   "source": [
    "# Jupyter notebook dokumentas"
   ]
  },
  {
   "cell_type": "code",
   "execution_count": null,
   "metadata": {},
   "outputs": [],
   "source": [
    "# celė"
   ]
  },
  {
   "cell_type": "code",
   "execution_count": null,
   "metadata": {},
   "outputs": [],
   "source": [
    "import this "
   ]
  },
  {
   "cell_type": "code",
   "execution_count": null,
   "metadata": {},
   "outputs": [],
   "source": [
    "print(\"Hello world!\") # Ctrl + Alt + Enter"
   ]
  },
  {
   "cell_type": "markdown",
   "metadata": {},
   "source": [
    "# String"
   ]
  },
  {
   "cell_type": "code",
   "execution_count": null,
   "metadata": {},
   "outputs": [],
   "source": [
    "vardas = \"Darius\""
   ]
  },
  {
   "cell_type": "code",
   "execution_count": null,
   "metadata": {},
   "outputs": [],
   "source": [
    "x = 2\n",
    "y = 2\n",
    "c = 3\n",
    "print( (x + y)*c )\n",
    "c = 4"
   ]
  },
  {
   "cell_type": "code",
   "execution_count": null,
   "metadata": {},
   "outputs": [],
   "source": [
    "ilgas_tekstas = 'adsfgdsagfasdfg' * 1000000\n",
    "\n",
    "print (len( ilgas_tekstas ) )\n",
    "print(ilgas_tekstas)"
   ]
  },
  {
   "cell_type": "markdown",
   "metadata": {},
   "source": [
    "## indexing"
   ]
  },
  {
   "cell_type": "code",
   "execution_count": null,
   "metadata": {},
   "outputs": [],
   "source": [
    "print( vardas )\n",
    "print( 'vardas[0] -', vardas[0] )\n",
    "print( 'vardas[1] -', vardas[1] )\n",
    "print( 'vardas[4] -', vardas[4] )\n",
    "print( 'vardas[5] -', vardas[5] )\n",
    "print( 'vardas[-1] -', vardas[-1] )\n",
    "print( 'vardas[-2] -', vardas[-2] )"
   ]
  },
  {
   "cell_type": "markdown",
   "metadata": {},
   "source": [
    "## slicing"
   ]
  },
  {
   "cell_type": "markdown",
   "metadata": {},
   "source": [
    "tekstas"
   ]
  },
  {
   "cell_type": "code",
   "execution_count": null,
   "metadata": {},
   "outputs": [],
   "source": [
    "skaiciu_tekstas = '51846,654684'\n",
    "x = 2\n",
    "print( skaiciu_tekstas )\n",
    "\n",
    "print( vardas ) # komentavimo shortcut: Ctrl + /\n",
    "print( 'vardas[0:4] -', vardas[0:4] ) # cia yra komentaras\n",
    "print( 'vardas[4] -', vardas[4] )\n",
    "print( 'vardas[:4] -', vardas[:4] )\n",
    "print( 'vardas[2:5] -', vardas[2:5] )\n",
    "\n",
    "print( 'vardas[4:] -', vardas[4:] ) # Ctrl + c, Ctrl + v\n",
    "bet_kas = 'vardas[4:] - ' + vardas[4:]\n",
    "\n",
    "print( bet_kas[4:14] )\n",
    "print( 'vardas[-2:] -', vardas[-2:] )\n",
    "# [start:stop]"
   ]
  },
  {
   "cell_type": "code",
   "execution_count": null,
   "metadata": {},
   "outputs": [],
   "source": [
    "# Slicing with step\n",
    "surname = 'Grigaliunas'\n",
    "# [start:stop:step]\n",
    "print(surname)\n",
    "print( 'surname[4:] -', surname[4:] )\n",
    "print( 'surname[4::1] -', surname[4::1] )\n",
    "print( 'surname[4::2] -', surname[4::2] )\n",
    "print( 'surname[4::3] -', surname[4::3] )\n",
    "\n",
    "print( 'surname[::-1] -', surname[::-1] ) # reverse string\n",
    "print( 'surname[::-2] -', surname[::-2] ) # reverse string\n",
    "print( 'surname[6:11] -', surname[6:11] )\n",
    "print( 'surname[10:5:-1] -', surname[10:5:-1] )"
   ]
  },
  {
   "cell_type": "markdown",
   "metadata": {},
   "source": [
    "## ' ' vs \" \" vs \"\"\" \"\"\"\n"
   ]
  },
  {
   "cell_type": "code",
   "execution_count": null,
   "metadata": {},
   "outputs": [],
   "source": [
    "# text = 'I can't go out today' # Error\n",
    "text = \"I can't go out today\"\n",
    "print( text )\n",
    "text_2 = 'I can\\'t go out today'\n",
    "print( text_2 )\n",
    "text_3 = '''I can't go out today'''\n",
    "print( text_3 )"
   ]
  },
  {
   "cell_type": "markdown",
   "metadata": {},
   "source": [
    "### multiline text"
   ]
  },
  {
   "cell_type": "code",
   "execution_count": null,
   "metadata": {},
   "outputs": [],
   "source": [
    "# multi_line_text = \"I can't go out today\n",
    "# because I am sick\" # Error\n",
    "\n",
    "\n",
    "multi_line_text = '''I can't go out today\n",
    "because I am sick\n",
    "\n",
    "NEW LINE\n",
    "'''\n",
    "print( multi_line_text )"
   ]
  },
  {
   "cell_type": "code",
   "execution_count": null,
   "metadata": {},
   "outputs": [],
   "source": [
    "print( surname )\n",
    "print( len(surname) )"
   ]
  },
  {
   "cell_type": "code",
   "execution_count": null,
   "metadata": {},
   "outputs": [],
   "source": [
    "print( len( '   ' ) )"
   ]
  },
  {
   "cell_type": "code",
   "execution_count": null,
   "metadata": {},
   "outputs": [],
   "source": [
    "surname = 'Grigaliunas'\n",
    "print( surname )\n",
    "print( surname.lower() )\n",
    "print( surname.upper() )\n",
    "print( surname )\n",
    "surname = surname.upper()\n",
    "print( surname )"
   ]
  },
  {
   "cell_type": "code",
   "execution_count": null,
   "metadata": {},
   "outputs": [],
   "source": [
    "text = 'Today is a beautiful Day'\n",
    "print( text )\n",
    "print( text.replace('Day', 'Morning') )\n",
    "print( text.replace('today', 'yesterday') )\n",
    "print( text.lower().replace('today', 'yesterday') )"
   ]
  },
  {
   "cell_type": "code",
   "execution_count": null,
   "metadata": {},
   "outputs": [],
   "source": [
    "text = 'Yesterday was     a beautiful and sunny Day'\n",
    "print( text.find('beautiful') )\n",
    "print( text[15] )\n",
    "print( text[ text.find('beautiful'): ] )\n",
    "# atspaudinti teksta beautiful is 'text' kintamojo\n",
    "print( text[ text.find('beautiful'): text.find('Day') ] ) \n",
    "print( 'len(\"beautiful\") - ', len('beautiful') )\n",
    "print( text[ 16 : 25 ] ) \n",
    "# slicing [start:stop]\n",
    "print( text[ text.find('beautiful') : text.find('beautiful') + len('beautiful') ] ) "
   ]
  },
  {
   "cell_type": "code",
   "execution_count": null,
   "metadata": {},
   "outputs": [],
   "source": [
    "text = 'Yesterday was     azkufhlal;awutha beautiful asdfhlaoihwjteroand sunny Day'\n",
    "word_to_find = 'TODAY'\n",
    "\n",
    "print( text[ text.find(word_to_find) : text.find(word_to_find) + len(word_to_find) ] ) "
   ]
  },
  {
   "cell_type": "markdown",
   "metadata": {},
   "source": [
    "## Text formatting"
   ]
  },
  {
   "cell_type": "code",
   "execution_count": null,
   "metadata": {},
   "outputs": [],
   "source": [
    "name = 'Tomas'\n",
    "question = 'How much do you earn?'\n",
    "\n",
    "print('Hello Darius. How are you?')\n",
    "print('Hello ' + name + '. ' + question)\n",
    "print('Hello {}. {}'.format(name, question)) # older style\n",
    "# newest style - f-strings. Recommended\n",
    "print( f'Hello {name}. {question}'                       )"
   ]
  },
  {
   "cell_type": "markdown",
   "metadata": {},
   "source": [
    "## String operations"
   ]
  },
  {
   "cell_type": "code",
   "execution_count": null,
   "metadata": {},
   "outputs": [],
   "source": [
    "'Hello' + ' ' + 'world'"
   ]
  },
  {
   "cell_type": "code",
   "execution_count": null,
   "metadata": {},
   "outputs": [],
   "source": [
    "'Hello' - 'l' # Error"
   ]
  },
  {
   "cell_type": "code",
   "execution_count": null,
   "metadata": {},
   "outputs": [],
   "source": [
    "'Hello'.replace('l', '', 1)"
   ]
  },
  {
   "cell_type": "code",
   "execution_count": null,
   "metadata": {},
   "outputs": [],
   "source": [
    "print ('Hello\\n' * 5) # \\n - new line. Special symbol"
   ]
  },
  {
   "cell_type": "code",
   "execution_count": 84,
   "metadata": {},
   "outputs": [
    {
     "ename": "TypeError",
     "evalue": "unsupported operand type(s) for /: 'str' and 'str'",
     "output_type": "error",
     "traceback": [
      "\u001b[1;31m---------------------------------------------------------------------------\u001b[0m",
      "\u001b[1;31mTypeError\u001b[0m                                 Traceback (most recent call last)",
      "\u001b[1;32mc:\\Users\\Robotux\\Documents\\Python\\231114PYT036VAK\\lesson_2.ipynb Cell 32\u001b[0m line \u001b[0;36m<module>\u001b[1;34m\u001b[0m\n\u001b[1;32m----> <a href='vscode-notebook-cell:/c%3A/Users/Robotux/Documents/Python/231114PYT036VAK/lesson_2.ipynb#X45sZmlsZQ%3D%3D?line=0'>1</a>\u001b[0m \u001b[39mprint\u001b[39m (\u001b[39m'\u001b[39;49m\u001b[39mHello\u001b[39;49m\u001b[39m\\n\u001b[39;49;00m\u001b[39m'\u001b[39;49m \u001b[39m/\u001b[39;49m \u001b[39m'\u001b[39;49m\u001b[39mo\u001b[39;49m\u001b[39m'\u001b[39;49m)\n",
      "\u001b[1;31mTypeError\u001b[0m: unsupported operand type(s) for /: 'str' and 'str'"
     ]
    }
   ],
   "source": [
    "print ('Hello\\n' / 'o') # error"
   ]
  },
  {
   "cell_type": "code",
   "execution_count": 90,
   "metadata": {},
   "outputs": [
    {
     "name": "stdout",
     "output_type": "stream",
     "text": [
      "<class 'str'>\n",
      "<class 'int'>\n",
      "<class 'str'>\n",
      "<class 'str'>\n",
      "<class 'int'>\n"
     ]
    },
    {
     "ename": "AttributeError",
     "evalue": "'int' object has no attribute 'replace'",
     "output_type": "error",
     "traceback": [
      "\u001b[1;31m---------------------------------------------------------------------------\u001b[0m",
      "\u001b[1;31mAttributeError\u001b[0m                            Traceback (most recent call last)",
      "\u001b[1;32mc:\\Users\\Robotux\\Documents\\Python\\231114PYT036VAK\\lesson_2.ipynb Cell 33\u001b[0m line \u001b[0;36m<module>\u001b[1;34m\u001b[0m\n\u001b[0;32m      <a href='vscode-notebook-cell:/c%3A/Users/Robotux/Documents/Python/231114PYT036VAK/lesson_2.ipynb#X46sZmlsZQ%3D%3D?line=5'>6</a>\u001b[0m name \u001b[39m=\u001b[39m \u001b[39m450\u001b[39m\n\u001b[0;32m      <a href='vscode-notebook-cell:/c%3A/Users/Robotux/Documents/Python/231114PYT036VAK/lesson_2.ipynb#X46sZmlsZQ%3D%3D?line=6'>7</a>\u001b[0m \u001b[39mprint\u001b[39m( \u001b[39mtype\u001b[39m( name ) )\n\u001b[1;32m----> <a href='vscode-notebook-cell:/c%3A/Users/Robotux/Documents/Python/231114PYT036VAK/lesson_2.ipynb#X46sZmlsZQ%3D%3D?line=7'>8</a>\u001b[0m name\u001b[39m.\u001b[39;49mreplace(\u001b[39m'\u001b[39m\u001b[39m4\u001b[39m\u001b[39m'\u001b[39m, \u001b[39m'\u001b[39m\u001b[39m5\u001b[39m\u001b[39m'\u001b[39m)\n",
      "\u001b[1;31mAttributeError\u001b[0m: 'int' object has no attribute 'replace'"
     ]
    }
   ],
   "source": [
    "print( type( 'hi' ) )\n",
    "print( type( 5 ) )\n",
    "print( type( '546' ) )\n",
    "print( type( surname ) )\n",
    "\n",
    "# name = 450\n",
    "# print( type( name ) )\n",
    "# name.replace('4', '5')"
   ]
  },
  {
   "cell_type": "code",
   "execution_count": null,
   "metadata": {},
   "outputs": [],
   "source": []
  }
 ],
 "metadata": {
  "kernelspec": {
   "display_name": "Python 3",
   "language": "python",
   "name": "python3"
  },
  "language_info": {
   "codemirror_mode": {
    "name": "ipython",
    "version": 3
   },
   "file_extension": ".py",
   "mimetype": "text/x-python",
   "name": "python",
   "nbconvert_exporter": "python",
   "pygments_lexer": "ipython3",
   "version": "3.10.2"
  }
 },
 "nbformat": 4,
 "nbformat_minor": 2
}
