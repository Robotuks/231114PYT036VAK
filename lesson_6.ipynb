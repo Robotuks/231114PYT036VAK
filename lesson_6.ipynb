{
 "cells": [
  {
   "cell_type": "markdown",
   "metadata": {},
   "source": [
    "# Tuple"
   ]
  },
  {
   "cell_type": "code",
   "execution_count": 6,
   "metadata": {},
   "outputs": [
    {
     "name": "stdout",
     "output_type": "stream",
     "text": [
      "<class 'tuple'>\n",
      "<class 'tuple'>\n",
      "<class 'list'>\n",
      "<class 'tuple'>\n"
     ]
    }
   ],
   "source": [
    "my_tuple = (1, 2, 3, 4, 5)\n",
    "my_list = [1, 2, 3, 4, 5]\n",
    "print( type(my_tuple) )\n",
    "\n",
    "print( type( ('a', 'b') ))\n",
    "print( type( [] ))\n",
    "print( type( () ))"
   ]
  },
  {
   "cell_type": "code",
   "execution_count": 8,
   "metadata": {},
   "outputs": [
    {
     "name": "stdout",
     "output_type": "stream",
     "text": [
      "(1, 2, 3, 4, 5)\n",
      "[1, 2, 3, 4, 5]\n",
      "5\n"
     ]
    }
   ],
   "source": [
    "print( my_tuple )\n",
    "print( my_list )\n",
    "print( len( my_tuple ) )"
   ]
  },
  {
   "cell_type": "code",
   "execution_count": 11,
   "metadata": {},
   "outputs": [
    {
     "ename": "TypeError",
     "evalue": "can only concatenate tuple (not \"int\") to tuple",
     "output_type": "error",
     "traceback": [
      "\u001b[1;31m---------------------------------------------------------------------------\u001b[0m",
      "\u001b[1;31mTypeError\u001b[0m                                 Traceback (most recent call last)",
      "\u001b[1;32mc:\\Users\\Robotux\\Documents\\Python\\231114PYT036VAK\\lesson_6.ipynb Cell 4\u001b[0m line \u001b[0;36m<module>\u001b[1;34m\u001b[0m\n\u001b[1;32m----> <a href='vscode-notebook-cell:/c%3A/Users/Robotux/Documents/Python/231114PYT036VAK/lesson_6.ipynb#W3sZmlsZQ%3D%3D?line=0'>1</a>\u001b[0m my_tuple \u001b[39m+\u001b[39;49m \u001b[39m6\u001b[39;49m\n",
      "\u001b[1;31mTypeError\u001b[0m: can only concatenate tuple (not \"int\") to tuple"
     ]
    }
   ],
   "source": [
    "my_tuple + 6"
   ]
  },
  {
   "cell_type": "code",
   "execution_count": 13,
   "metadata": {},
   "outputs": [
    {
     "ename": "TypeError",
     "evalue": "can only concatenate tuple (not \"list\") to tuple",
     "output_type": "error",
     "traceback": [
      "\u001b[1;31m---------------------------------------------------------------------------\u001b[0m",
      "\u001b[1;31mTypeError\u001b[0m                                 Traceback (most recent call last)",
      "\u001b[1;32mc:\\Users\\Robotux\\Documents\\Python\\231114PYT036VAK\\lesson_6.ipynb Cell 5\u001b[0m line \u001b[0;36m<module>\u001b[1;34m\u001b[0m\n\u001b[1;32m----> <a href='vscode-notebook-cell:/c%3A/Users/Robotux/Documents/Python/231114PYT036VAK/lesson_6.ipynb#W4sZmlsZQ%3D%3D?line=0'>1</a>\u001b[0m my_tuple \u001b[39m+\u001b[39;49m my_list\n",
      "\u001b[1;31mTypeError\u001b[0m: can only concatenate tuple (not \"list\") to tuple"
     ]
    }
   ],
   "source": [
    "my_tuple + my_list"
   ]
  },
  {
   "cell_type": "code",
   "execution_count": 16,
   "metadata": {},
   "outputs": [
    {
     "name": "stdout",
     "output_type": "stream",
     "text": [
      "1\n",
      "(3, 4, 5, 7)\n"
     ]
    }
   ],
   "source": [
    "my_tuple = (1, 2, 3, 4, 5, 7 )\n",
    "print( my_tuple[0] )\n",
    "print( my_tuple[2:] )"
   ]
  },
  {
   "cell_type": "code",
   "execution_count": 18,
   "metadata": {},
   "outputs": [
    {
     "name": "stdout",
     "output_type": "stream",
     "text": [
      "[1, 2, 3, 4, 5]\n",
      "[10, 2, 3, 4, 5]\n",
      "(1, 2, 3, 4, 5, 7)\n"
     ]
    },
    {
     "ename": "TypeError",
     "evalue": "'tuple' object does not support item assignment",
     "output_type": "error",
     "traceback": [
      "\u001b[1;31m---------------------------------------------------------------------------\u001b[0m",
      "\u001b[1;31mTypeError\u001b[0m                                 Traceback (most recent call last)",
      "\u001b[1;32mc:\\Users\\Robotux\\Documents\\Python\\231114PYT036VAK\\lesson_6.ipynb Cell 7\u001b[0m line \u001b[0;36m<module>\u001b[1;34m\u001b[0m\n\u001b[0;32m      <a href='vscode-notebook-cell:/c%3A/Users/Robotux/Documents/Python/231114PYT036VAK/lesson_6.ipynb#W6sZmlsZQ%3D%3D?line=4'>5</a>\u001b[0m \u001b[39mprint\u001b[39m( my_list )\n\u001b[0;32m      <a href='vscode-notebook-cell:/c%3A/Users/Robotux/Documents/Python/231114PYT036VAK/lesson_6.ipynb#W6sZmlsZQ%3D%3D?line=5'>6</a>\u001b[0m \u001b[39mprint\u001b[39m( my_tuple )\n\u001b[1;32m----> <a href='vscode-notebook-cell:/c%3A/Users/Robotux/Documents/Python/231114PYT036VAK/lesson_6.ipynb#W6sZmlsZQ%3D%3D?line=6'>7</a>\u001b[0m my_tuple[\u001b[39m0\u001b[39m] \u001b[39m=\u001b[39m \u001b[39m10\u001b[39m\n",
      "\u001b[1;31mTypeError\u001b[0m: 'tuple' object does not support item assignment"
     ]
    }
   ],
   "source": [
    "my_list = [1, 2, 3, 4, 5]\n",
    "my_tuple = (1, 2, 3, 4, 5, 7 )\n",
    "print( my_list )\n",
    "my_list[0] = 10\n",
    "print( my_list )\n",
    "print( my_tuple )\n",
    "my_tuple[0] = 10"
   ]
  },
  {
   "cell_type": "code",
   "execution_count": 25,
   "metadata": {},
   "outputs": [
    {
     "name": "stdout",
     "output_type": "stream",
     "text": [
      "(1, 2, 3, 4, 5, 7)\n",
      "[1, 2, 3, 4, 5, 7]\n",
      "[10, 2, 3, 4, 5, 7]\n",
      "(10, 2, 3, 4, 5, 7)\n"
     ]
    }
   ],
   "source": [
    "my_tuple = (1, 2, 3, 4, 5, 7 )\n",
    "print( my_tuple )\n",
    "tmp = list( my_tuple )\n",
    "print( tmp )\n",
    "tmp[0] = 10\n",
    "print( tmp )\n",
    "my_tuple = tuple( tmp )\n",
    "print( my_tuple )"
   ]
  },
  {
   "cell_type": "code",
   "execution_count": 30,
   "metadata": {},
   "outputs": [
    {
     "name": "stdout",
     "output_type": "stream",
     "text": [
      "(1, 2, 3, 3, 7, 4, 5, 7)\n",
      "0\n",
      "2\n",
      "4\n",
      "7\n",
      "7\n"
     ]
    }
   ],
   "source": [
    "my_tuple = (1, 2, 3, 3, 7, 4, 5, 7 )\n",
    "print( my_tuple )\n",
    "print( my_tuple.count(0) )\n",
    "print( my_tuple.count(7) )\n",
    "\n",
    "print( my_tuple.index(7) )\n",
    "print( my_tuple[4] )\n",
    "print( my_tuple[ my_tuple.index(7) ] )\n"
   ]
  },
  {
   "cell_type": "code",
   "execution_count": 33,
   "metadata": {},
   "outputs": [
    {
     "name": "stdout",
     "output_type": "stream",
     "text": [
      "False\n",
      "True\n"
     ]
    },
    {
     "ename": "ValueError",
     "evalue": "tuple.index(x): x not in tuple",
     "output_type": "error",
     "traceback": [
      "\u001b[1;31m---------------------------------------------------------------------------\u001b[0m",
      "\u001b[1;31mValueError\u001b[0m                                Traceback (most recent call last)",
      "\u001b[1;32mc:\\Users\\Robotux\\Documents\\Python\\231114PYT036VAK\\lesson_6.ipynb Cell 10\u001b[0m line \u001b[0;36m<module>\u001b[1;34m\u001b[0m\n\u001b[0;32m      <a href='vscode-notebook-cell:/c%3A/Users/Robotux/Documents/Python/231114PYT036VAK/lesson_6.ipynb#X12sZmlsZQ%3D%3D?line=0'>1</a>\u001b[0m \u001b[39mprint\u001b[39m( \u001b[39m10\u001b[39m \u001b[39min\u001b[39;00m my_tuple )\n\u001b[0;32m      <a href='vscode-notebook-cell:/c%3A/Users/Robotux/Documents/Python/231114PYT036VAK/lesson_6.ipynb#X12sZmlsZQ%3D%3D?line=1'>2</a>\u001b[0m \u001b[39mprint\u001b[39m( \u001b[39m7\u001b[39m \u001b[39min\u001b[39;00m my_tuple )\n\u001b[1;32m----> <a href='vscode-notebook-cell:/c%3A/Users/Robotux/Documents/Python/231114PYT036VAK/lesson_6.ipynb#X12sZmlsZQ%3D%3D?line=2'>3</a>\u001b[0m \u001b[39mprint\u001b[39m( my_tuple\u001b[39m.\u001b[39;49mindex(\u001b[39m10\u001b[39;49m) )\n",
      "\u001b[1;31mValueError\u001b[0m: tuple.index(x): x not in tuple"
     ]
    }
   ],
   "source": [
    "print( 10 in my_tuple )\n",
    "print( 7 in my_tuple )\n",
    "# print( my_tuple.index(10) ) # ValueError: tuple.index(x): x not in tuple\n"
   ]
  },
  {
   "cell_type": "code",
   "execution_count": 34,
   "metadata": {},
   "outputs": [
    {
     "name": "stdout",
     "output_type": "stream",
     "text": [
      "(1, 2, 3, 4, 5, 7)\n",
      "<class 'tuple'>\n"
     ]
    }
   ],
   "source": [
    "this_is_tuple = 1, 2, 3, 4, 5, 7\n",
    "print( this_is_tuple )\n",
    "print( type(this_is_tuple) )"
   ]
  },
  {
   "cell_type": "code",
   "execution_count": null,
   "metadata": {},
   "outputs": [],
   "source": [
    "integer = 1\n",
    "float_number = 1.5\n"
   ]
  },
  {
   "cell_type": "code",
   "execution_count": 57,
   "metadata": {},
   "outputs": [
    {
     "name": "stdout",
     "output_type": "stream",
     "text": [
      "9\n",
      "[0, 1, 2, 3, 4, 5, 6, 7, 8]\n",
      "(1, 2, 'tekstas', 3, False, 4, 5, ('a', 'b'), [100, [50, 60, 70], 500])\n",
      "('a', 'b')\n",
      "[100, [50, 60, 70], 500]\n",
      "500\n",
      "[50, 60, 70]\n",
      "('a', 'b')\n",
      "b\n",
      "b\n",
      "[100, [50, 60, 70], 500]\n",
      "[50, 60, 70]\n",
      "50\n"
     ]
    }
   ],
   "source": [
    "my_tuple = (1, 2, 'tekstas', 3, False, 4, 5, ('a', 'b'), [100, [50,60,70] ,500] )\n",
    "print( len( my_tuple ) )\n",
    "print( list( range( len( my_tuple ) ) ) )\n",
    "print( my_tuple )\n",
    "print( my_tuple[-2] )\n",
    "print( my_tuple[-1] )\n",
    "print( my_tuple[-1][-1] )\n",
    "print( my_tuple[-1][1] )\n",
    "\n",
    "print( my_tuple[-2] )\n",
    "print( my_tuple[-2][1] )\n",
    "print( my_tuple[-2][-1] )\n",
    "\n",
    "print( my_tuple[-1] )\n",
    "print( my_tuple[-1][1] )\n",
    "print( my_tuple[-1][1][0] )\n"
   ]
  },
  {
   "cell_type": "code",
   "execution_count": 59,
   "metadata": {},
   "outputs": [
    {
     "name": "stdout",
     "output_type": "stream",
     "text": [
      "1\n",
      "<class 'int'>\n",
      "(1,)\n",
      "<class 'tuple'>\n"
     ]
    }
   ],
   "source": [
    "this_is_NOT_tuple = (1)\n",
    "print (this_is_NOT_tuple)\n",
    "print (type(this_is_NOT_tuple))\n",
    "\n",
    "this_is_IS_tuple = (1,)\n",
    "print (this_is_IS_tuple)\n",
    "print (type(this_is_IS_tuple))"
   ]
  },
  {
   "cell_type": "code",
   "execution_count": 61,
   "metadata": {},
   "outputs": [
    {
     "name": "stdout",
     "output_type": "stream",
     "text": [
      "[6, [7, 8]]\n",
      "[7, 8]\n",
      "8\n",
      "8\n"
     ]
    }
   ],
   "source": [
    "my_tuple = (1, 2, ['3', 4, 5], [6, [7, (8)]])\n",
    "print ( my_tuple[-1] )\n",
    "print ( my_tuple[-1][1] )\n",
    "print ( my_tuple[-1] [1] [1])\n",
    "print ( my_tuple[3][1][1] )\n"
   ]
  },
  {
   "cell_type": "code",
   "execution_count": 65,
   "metadata": {},
   "outputs": [
    {
     "name": "stdout",
     "output_type": "stream",
     "text": [
      "(11, [222, 33], 44, 55)\n",
      "[11, [222, 33], 44, 55]\n",
      "[222, 33]\n",
      "[11, [222, 22], 44, 55]\n",
      "(11, [222, 22], 44, 55)\n"
     ]
    }
   ],
   "source": [
    "tuple1 = (11, [222, 33], 44, 55)\n",
    "print( tuple1 )\n",
    "list_1 = list( tuple1 )\n",
    "print( list_1 )\n",
    "print( list_1[1] )\n",
    "list_1[1] = [222, 22]\n",
    "print( list_1 )\n",
    "tuple1 = tuple( list_1 )\n",
    "# tuple1 = (11, [222, 22], 44, 55)\n",
    "print( tuple1 )"
   ]
  },
  {
   "cell_type": "code",
   "execution_count": 68,
   "metadata": {},
   "outputs": [
    {
     "name": "stdout",
     "output_type": "stream",
     "text": [
      "(11, [222, 33], 44, 55)\n",
      "33\n",
      "(11, [222, 22], 44, 55)\n"
     ]
    }
   ],
   "source": [
    "tuple1 = (11, [222, 33], 44, 55)\n",
    "print( tuple1 )\n",
    "# tuple1[1] = [222, 22] # error\n",
    "print( tuple1[1][1] ) \n",
    "tuple1[1][1] = 22\n",
    "print( tuple1 )"
   ]
  },
  {
   "cell_type": "markdown",
   "metadata": {},
   "source": [
    "# None a.k.a null, nill, NaN - Not a Number"
   ]
  },
  {
   "cell_type": "code",
   "execution_count": 70,
   "metadata": {},
   "outputs": [
    {
     "name": "stdout",
     "output_type": "stream",
     "text": [
      "None\n",
      "<class 'NoneType'>\n"
     ]
    }
   ],
   "source": [
    "niekas = None\n",
    "print( niekas )\n",
    "print( type(niekas) )"
   ]
  },
  {
   "cell_type": "code",
   "execution_count": 72,
   "metadata": {},
   "outputs": [
    {
     "name": "stdout",
     "output_type": "stream",
     "text": [
      "None\n",
      "[1, 5, 10, 50, 100]\n"
     ]
    }
   ],
   "source": [
    "my_list = [1, 100, 50, 10, 5]\n",
    "print( my_list.sort() )\n",
    "print( my_list )"
   ]
  },
  {
   "cell_type": "code",
   "execution_count": 78,
   "metadata": {},
   "outputs": [
    {
     "name": "stdout",
     "output_type": "stream",
     "text": [
      "\n"
     ]
    }
   ],
   "source": [
    "vardas = ''\n",
    "# print( len(vardas) )\n",
    "\n",
    "# ilgas kodas\n",
    "if True:\n",
    "    vardas = input('Iveskite varda: ')\n",
    "\n",
    "print( vardas )"
   ]
  },
  {
   "cell_type": "code",
   "execution_count": 81,
   "metadata": {},
   "outputs": [
    {
     "name": "stdout",
     "output_type": "stream",
     "text": [
      "None\n"
     ]
    }
   ],
   "source": [
    "vardas = None\n",
    "# print( len(vardas) )\n",
    "\n",
    "# ilgas kodas\n",
    "if False:\n",
    "    vardas = input('Iveskite varda: ')\n",
    "\n",
    "print( vardas )"
   ]
  },
  {
   "cell_type": "markdown",
   "metadata": {},
   "source": [
    "# List comprehension"
   ]
  },
  {
   "cell_type": "code",
   "execution_count": 83,
   "metadata": {},
   "outputs": [
    {
     "name": "stdout",
     "output_type": "stream",
     "text": [
      "[1, 2, 3, 4, 5, 6, 7, 8, 9, 10, 11, 12, 13, 14, 15, 16, 17, 18, 19, 20]\n",
      "[3, 6, 9, 12, 15, 18]\n"
     ]
    }
   ],
   "source": [
    "numbers = list(range(1,21) )\n",
    "print(numbers)\n",
    "# take numbers divisible by 3\n",
    "divisble_by_3 = []\n",
    "for number in numbers:\n",
    "    if number % 3 == 0:\n",
    "        divisble_by_3.append(number)\n",
    "\n",
    "print(divisble_by_3)"
   ]
  },
  {
   "cell_type": "code",
   "execution_count": 87,
   "metadata": {},
   "outputs": [
    {
     "name": "stdout",
     "output_type": "stream",
     "text": [
      "[1, 2, 3, 4, 5, 6, 7, 8, 9, 10, 11, 12, 13, 14, 15, 16, 17, 18, 19, 20]\n",
      "[3, 6, 9, 12, 15, 18]\n",
      "[9, 36, 81, 144, 225, 324]\n"
     ]
    }
   ],
   "source": [
    "numbers = list(range(1,21) )\n",
    "print(numbers)\n",
    "\n",
    "# [ <item_result> for <item> in <list> if <condition>  ]\n",
    "divisble_by_3 = [ number for number in numbers if number % 3 == 0 ]\n",
    "print(divisble_by_3)\n",
    "\n",
    "divisble_by_3_squared = [ number**2 for number in numbers if number % 3 == 0 ]\n",
    "print(divisble_by_3_squared)"
   ]
  },
  {
   "cell_type": "code",
   "execution_count": 88,
   "metadata": {},
   "outputs": [
    {
     "name": "stdout",
     "output_type": "stream",
     "text": [
      "[2, 4, 6, 8, 10, 12, 14, 16, 18, 20, 22, 24, 26, 28, 30, 32, 34, 36, 38, 40]\n"
     ]
    }
   ],
   "source": [
    "# [ <item_result> for <item> in <list>]\n",
    "numbers_multiplied_by_2 = [ number*2 for number in numbers ]\n",
    "print(numbers_multiplied_by_2)"
   ]
  },
  {
   "cell_type": "code",
   "execution_count": 91,
   "metadata": {},
   "outputs": [
    {
     "name": "stdout",
     "output_type": "stream",
     "text": [
      "[None, None, 9, None, None, 36, None, None, 81, None, None, 144, None, None, 225, None, None, 324, None, None]\n"
     ]
    }
   ],
   "source": [
    "# [ <item_result> if <condition> else <item_results> for <item> in <list>]\n",
    "divisble_by_3_squared = [ number**2 if number % 3 == 0 else None for number in numbers ]\n",
    "print(divisble_by_3_squared)"
   ]
  },
  {
   "cell_type": "markdown",
   "metadata": {},
   "source": [
    "# Dictionary\n",
    "\n",
    "### Dictionary is mutable"
   ]
  },
  {
   "cell_type": "code",
   "execution_count": 92,
   "metadata": {},
   "outputs": [],
   "source": [
    "me = {\n",
    "    # <key>: <value>\n",
    "    'vardas': 'Darius',\n",
    "    'pavarde': 'Grigaliunas',\n",
    "    'amzius': 30,\n",
    "    'hobiai': ['programuoti', 'tenisas', 'dviraciai'],\n",
    "}"
   ]
  },
  {
   "cell_type": "code",
   "execution_count": 96,
   "metadata": {},
   "outputs": [
    {
     "name": "stdout",
     "output_type": "stream",
     "text": [
      "{'vardas': 'Darius', 'pavarde': 'Grigaliunas', 'amzius': 30, 'hobiai': ['programuoti', 'tenisas', 'dviraciai']}\n",
      "Darius\n",
      "['programuoti', 'tenisas', 'dviraciai']\n",
      "programuoti\n"
     ]
    }
   ],
   "source": [
    "print( me )\n",
    "print( me[ 'vardas' ] )\n",
    "print( me[ 'hobiai' ] )\n",
    "print( me[ 'hobiai' ][ 0 ] )"
   ]
  },
  {
   "cell_type": "code",
   "execution_count": 105,
   "metadata": {},
   "outputs": [
    {
     "name": "stdout",
     "output_type": "stream",
     "text": [
      "{'vardas': 'Darius', 'pavarde': 'Grigaliunas', 'amzius': 30, 'hobiai': ['programuoti', 'tenisas', 'dviraciai'], 'miestas': 'Vilnius'}\n"
     ]
    }
   ],
   "source": [
    "me[ 'miestas' ] = 'Vilnius'\n",
    "print( me )\n",
    "# print( me[ 0 ] ) # KeyError: 0 "
   ]
  },
  {
   "cell_type": "code",
   "execution_count": 100,
   "metadata": {},
   "outputs": [],
   "source": [
    "someone = {\n",
    "    True: 'tiesa',\n",
    "    False: 'melas',\n",
    "    None: 'niekas',\n",
    "    2: 'du',\n",
    "}"
   ]
  },
  {
   "cell_type": "code",
   "execution_count": 103,
   "metadata": {},
   "outputs": [
    {
     "name": "stdout",
     "output_type": "stream",
     "text": [
      "0\n",
      "True\n"
     ]
    }
   ],
   "source": [
    "print( int( False ) )\n",
    "print( False == 0 )"
   ]
  },
  {
   "cell_type": "code",
   "execution_count": 110,
   "metadata": {},
   "outputs": [
    {
     "name": "stdout",
     "output_type": "stream",
     "text": [
      "melas\n",
      "tiesa\n",
      "niekas\n",
      "du\n"
     ]
    }
   ],
   "source": [
    "print( someone[ 0 ] )\n",
    "print( someone[ True ] )\n",
    "print( someone[ None ] )\n",
    "print( someone[ 2 ] )\n",
    "# print( someone[ 3 ] ) # neegzistuojantis raktazodis"
   ]
  },
  {
   "cell_type": "code",
   "execution_count": 117,
   "metadata": {},
   "outputs": [
    {
     "name": "stdout",
     "output_type": "stream",
     "text": [
      "Jonas\n",
      "Petras\n",
      "Karolis\n",
      "Edvinas\n"
     ]
    }
   ],
   "source": [
    "zmones = [\n",
    "    {'vardas': 'Jonas', 'amzius': 35},\n",
    "    {'vardas': 'Petras', 'amzius': 50},\n",
    "    {'vardas': 'Karolis', 'amzius': 35},\n",
    "    {'vardas': 'Edvinas', 'amzius': 50}\n",
    "]\n",
    "# print( zmones )\n",
    "# print( zmones[ 0 ] )\n",
    "# print( zmones[ 0 ]['vardas'] )\n",
    "for zmogus in zmones:\n",
    "    print( zmogus['vardas'] )"
   ]
  },
  {
   "cell_type": "code",
   "execution_count": 120,
   "metadata": {},
   "outputs": [
    {
     "name": "stdout",
     "output_type": "stream",
     "text": [
      "{'name': 'Tomas', 'age': 27, 'city': 'Vilnius', 'hobbies': ['coding', 'reading', 'gaming']}\n",
      "{'name': 'Tomas', 'age': 27, 'hobbies': ['coding', 'reading', 'gaming']}\n",
      "{}\n"
     ]
    }
   ],
   "source": [
    "me = {'name': 'Tomas', 'age': 27, 'city': 'Vilnius', 'hobbies': ['coding', 'reading', 'gaming']}\n",
    "print( me )\n",
    "del me['city']\n",
    "print( me )\n",
    "me.clear()\n",
    "print( me )"
   ]
  },
  {
   "cell_type": "code",
   "execution_count": 122,
   "metadata": {},
   "outputs": [
    {
     "name": "stdout",
     "output_type": "stream",
     "text": [
      "{'name': 'Tomas', 'age': 27, 'city': None, 'hobbies': ['coding', 'reading', 'gaming']}\n",
      "None\n",
      "{'name': 'Tomas', 'age': 27, 'hobbies': ['coding', 'reading', 'gaming']}\n"
     ]
    }
   ],
   "source": [
    "me = {'name': 'Tomas', 'age': 27, 'city': None, 'hobbies': ['coding', 'reading', 'gaming']}\n",
    "print( me )\n",
    "print( me.pop('city') )\n",
    "print( me )"
   ]
  },
  {
   "cell_type": "code",
   "execution_count": 127,
   "metadata": {},
   "outputs": [
    {
     "name": "stdout",
     "output_type": "stream",
     "text": [
      "('some_list', [1, 2, 3, 4, 5, 6, 7, 8, 9, 10])\n",
      "some_list\n",
      "[1, 2, 3, 4, 5, 6, 7, 8, 9, 10]\n",
      "{'name': 'Tomas', 'age': 27, 'city': 'Vilnius', 'hobbies': ['coding', 'reading', 'gaming']}\n",
      "('hobbies', ['coding', 'reading', 'gaming'])\n",
      "{'name': 'Tomas', 'age': 27, 'city': 'Vilnius'}\n"
     ]
    }
   ],
   "source": [
    "me = {'name': 'Tomas', 'age': 27, 'city': 'Vilnius', 'hobbies': ['coding', 'reading', 'gaming'], 'some_list': [1,2,3,4,5,6,7,8,9,10]}\n",
    "pop_tuple = me.popitem()\n",
    "pop_key = pop_tuple[0]\n",
    "pop_value = pop_tuple[1]\n",
    "print( pop_tuple )\n",
    "print( pop_key )\n",
    "print( pop_value )\n",
    "print( me )\n",
    "print( me.popitem() )\n",
    "print( me )"
   ]
  },
  {
   "cell_type": "code",
   "execution_count": 136,
   "metadata": {},
   "outputs": [
    {
     "name": "stdout",
     "output_type": "stream",
     "text": [
      "None\n",
      "Vilnius\n",
      "NEEGZISTUOJA\n",
      "Vilnius\n",
      "0\n",
      "Tomas\n"
     ]
    }
   ],
   "source": [
    "me = {'name': 'Tomas', 'age': 27, 'city': 'Vilnius', 'hobbies': ['coding', 'reading', 'gaming']}\n",
    "# print( me['neegzistuojantis_raktazodis'] ) # KeyError\n",
    "print( me.get('neegzistuojantis_raktazodis') )\n",
    "print( me.get('city') )\n",
    "print( me.get('neegzistuojantis_raktazodis', 'NEEGZISTUOJA') )\n",
    "print( me.get('city', 'NEEGZISTUOJA') )\n",
    "print( me.get('neegzistuojantis_raktas', 0) ) # error, returns 0\n",
    "print( me.get('name', 0) ) # No error, returns 0\n"
   ]
  },
  {
   "cell_type": "code",
   "execution_count": 138,
   "metadata": {},
   "outputs": [
    {
     "name": "stdout",
     "output_type": "stream",
     "text": [
      "{'name': 'Tomas', 'age': 28, 'city': 'Vilnius', 'hobbies': ['coding', 'reading', 'gaming']}\n",
      "{'name': 'Tomas', 'age': 29, 'city': 'Kaunas', 'hobbies': ['coding', 'reading', 'gaming'], 'car': 'Tesla'}\n"
     ]
    }
   ],
   "source": [
    "me = {'name': 'Tomas', 'age': 27, 'city': 'Vilnius', 'hobbies': ['coding', 'reading', 'gaming']}\n",
    "me[ 'age' ] = 28\n",
    "print( me )\n",
    "me.update( {'age': 29, 'city': 'Kaunas', 'car': 'Tesla'} )\n",
    "print( me )"
   ]
  },
  {
   "cell_type": "code",
   "execution_count": 146,
   "metadata": {},
   "outputs": [
    {
     "name": "stdout",
     "output_type": "stream",
     "text": [
      "dict_keys(['name', 'age', 'city', 'hobbies', 'car'])\n",
      "key is name and value is Tomas\n",
      "key is age and value is 29\n",
      "key is city and value is Kaunas\n",
      "key is hobbies and value is ['coding', 'reading', 'gaming']\n",
      "key is car and value is Tesla\n"
     ]
    }
   ],
   "source": [
    "print( me.keys() )\n",
    "\n",
    "# for key in me:\n",
    "#     print(key)\n",
    "# same\n",
    "for key in me.keys():\n",
    "    print(f'key is {key} and value is { me[ key ] }')"
   ]
  },
  {
   "cell_type": "code",
   "execution_count": 144,
   "metadata": {},
   "outputs": [
    {
     "name": "stdout",
     "output_type": "stream",
     "text": [
      "Tomas\n",
      "29\n",
      "Kaunas\n",
      "['coding', 'reading', 'gaming']\n",
      "Tesla\n"
     ]
    }
   ],
   "source": [
    "for value in me.values():\n",
    "    print(value)"
   ]
  },
  {
   "cell_type": "code",
   "execution_count": 145,
   "metadata": {},
   "outputs": [
    {
     "name": "stdout",
     "output_type": "stream",
     "text": [
      "key is name and value is Tomas\n",
      "key is age and value is 29\n",
      "key is city and value is Kaunas\n",
      "key is hobbies and value is ['coding', 'reading', 'gaming']\n",
      "key is car and value is Tesla\n"
     ]
    }
   ],
   "source": [
    "# for key, value in me.items():\n",
    "for k, v in me.items():\n",
    "    print(f'key is {k} and value is {v}')"
   ]
  },
  {
   "cell_type": "code",
   "execution_count": 148,
   "metadata": {},
   "outputs": [],
   "source": [
    "twitter_post = {\n",
    "  \"created_at\": \"Tue Feb 27 21:11:40 +0000 2018\",\n",
    "  \"id\": 968594506663669800,\n",
    "  \"text\": \"RT @honeydrop_506: 180222 ICN #백현 #BAEKHYUNnn나의 겨울과 너nn#iHeartAwards #BestFanArmy #EXOL @weareoneEXO https://t.co/hg7I3xAlBg\",\n",
    "  \"in_reply_to_screen_name\": None,\n",
    "  \"user\": {\n",
    "    \"id\": 4448809940,\n",
    "    \"id_str\": \"4448809940\",\n",
    "    \"name\": \"ayah\",\n",
    "    \"screen_name\": \"lovbyun\",\n",
    "    \"location\": \"bbh iu jjh pcy kjd dks\",\n",
    "    \"url\": \"https://curiouscat.me/baekhyun-l\",\n",
    "    \"description\": \"hi hello I love exo\",\n",
    "    \"followers_count\": 1142,\n",
    "    \"friends_count\": 125,\n",
    "    \"listed_count\": 20,\n",
    "    \"favourites_count\": 5712,\n",
    "    \"statuses_count\": 4011,\n",
    "    \"utc_offset\": -28800,\n",
    "    \"lang\": \"en\",\n",
    "    \"profile_background_image_url_https\": \"https://abs.twimg.com/images/themes/theme1/bg.png\",\n",
    "    \"profile_image_url\": \"http://pbs.twimg.com/profile_images/967130320259526656/0xZ-wxXJ_normal.jpg\",\n",
    "    \"notifications\": None\n",
    "  },\n",
    "}"
   ]
  },
  {
   "cell_type": "code",
   "execution_count": 153,
   "metadata": {},
   "outputs": [
    {
     "name": "stdout",
     "output_type": "stream",
     "text": [
      "<class 'dict'>\n",
      "{'id': 4448809940, 'id_str': '4448809940', 'name': 'ayah', 'screen_name': 'lovbyun', 'location': 'bbh iu jjh pcy kjd dks', 'url': 'https://curiouscat.me/baekhyun-l', 'description': 'hi hello I love exo', 'followers_count': 1142, 'friends_count': 125, 'listed_count': 20, 'favourites_count': 5712, 'statuses_count': 4011, 'utc_offset': -28800, 'lang': 'en', 'profile_background_image_url_https': 'https://abs.twimg.com/images/themes/theme1/bg.png', 'profile_image_url': 'http://pbs.twimg.com/profile_images/967130320259526656/0xZ-wxXJ_normal.jpg', 'notifications': None}\n",
      "<class 'dict'>\n",
      "125\n"
     ]
    }
   ],
   "source": [
    "# from twitter_post get friends_count\n",
    "print( type( twitter_post ) )\n",
    "print( twitter_post[ 'user' ] )\n",
    "print( type( twitter_post[ 'user' ] ) )\n",
    "print( twitter_post[ 'user' ][ 'friends_count' ] )"
   ]
  }
 ],
 "metadata": {
  "kernelspec": {
   "display_name": "Python 3",
   "language": "python",
   "name": "python3"
  },
  "language_info": {
   "codemirror_mode": {
    "name": "ipython",
    "version": 3
   },
   "file_extension": ".py",
   "mimetype": "text/x-python",
   "name": "python",
   "nbconvert_exporter": "python",
   "pygments_lexer": "ipython3",
   "version": "3.10.2"
  }
 },
 "nbformat": 4,
 "nbformat_minor": 2
}
