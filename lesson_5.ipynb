{
 "cells": [
  {
   "cell_type": "markdown",
   "metadata": {},
   "source": [
    "# List"
   ]
  },
  {
   "cell_type": "markdown",
   "metadata": {},
   "source": [
    "## operations"
   ]
  },
  {
   "cell_type": "code",
   "execution_count": 8,
   "metadata": {},
   "outputs": [
    {
     "name": "stdout",
     "output_type": "stream",
     "text": [
      "[1, 2, 3, 4, 5]\n",
      "[1, 2, 3, 4, 5, 6, 7, 8]\n",
      "[1, 2, 3, 4, 5, 1, 2, 3, 4, 5]\n",
      "[1, 2, 3, 4, 5, 1, 2, 3, 4, 5, 1, 2, 3, 4, 5, 1, 2, 3, 4, 5, 1, 2, 3, 4, 5, 1, 2, 3, 4, 5, 1, 2, 3, 4, 5, 1, 2, 3, 4, 5, 1, 2, 3, 4, 5, 1, 2, 3, 4, 5]\n"
     ]
    }
   ],
   "source": [
    "my_list = [1, 2, 3, 4, 5]\n",
    "print(my_list)\n",
    "print(my_list + [6, 7, 8] )\n",
    "# print(my_list - [4, 5]) # Error\n",
    "print(my_list * 2)\n",
    "print(my_list * 10)\n",
    "# print(my_list / 5) # Error\n",
    "# print(my_list / [4,5]) # Error"
   ]
  },
  {
   "cell_type": "markdown",
   "metadata": {},
   "source": [
    "## sum, min, max"
   ]
  },
  {
   "cell_type": "code",
   "execution_count": 16,
   "metadata": {},
   "outputs": [
    {
     "name": "stdout",
     "output_type": "stream",
     "text": [
      "[652, 45, 4, 3, -55]\n",
      "649\n",
      "sum = 649\n",
      "-55\n",
      "min = -55\n",
      "652\n",
      "max = 652\n"
     ]
    }
   ],
   "source": [
    "my_list = [652,45,4,3, -55]\n",
    "print(my_list)\n",
    "print( sum( my_list ) )\n",
    "print( f'sum = { sum( my_list ) }' )\n",
    "\n",
    "print( min( my_list ) )\n",
    "print( f'min = { min( my_list ) }' )\n",
    "\n",
    "print( max( my_list ) )\n",
    "print( f'max = { max( my_list ) }' )"
   ]
  },
  {
   "cell_type": "markdown",
   "metadata": {},
   "source": [
    "## mutable and immutable variables  \n",
    "https://medium.com/@meghamohan/mutable-and-immutable-side-of-python-c2145cf72747\n"
   ]
  },
  {
   "cell_type": "code",
   "execution_count": 25,
   "metadata": {},
   "outputs": [
    {
     "name": "stdout",
     "output_type": "stream",
     "text": [
      "before\n",
      "a 1\n",
      "b 1\n",
      "a address: 2663093174512\n",
      "b address: 2663093174512\n",
      "2663093174512\n",
      "after\n",
      "a 1\n",
      "b 6\n",
      "a address: 2663093174512\n",
      "b address: 2663093174672\n"
     ]
    }
   ],
   "source": [
    "# imutable variables\n",
    "a = 1\n",
    "b = a\n",
    "c = 1\n",
    "\n",
    "print('before')\n",
    "print('a', a)\n",
    "print('b', b)\n",
    "print( 'a address:', id(a) )\n",
    "print( 'b address:', id(b) )\n",
    "print( id(c) )\n",
    "\n",
    "b += 5\n",
    "print( 'after')\n",
    "print('a', a)\n",
    "print('b', b)\n",
    "print( 'a address:', id(a) )\n",
    "print( 'b address:', id(b) )\n",
    "\n",
    "# a_address = id(a)"
   ]
  },
  {
   "cell_type": "code",
   "execution_count": 27,
   "metadata": {},
   "outputs": [
    {
     "name": "stdout",
     "output_type": "stream",
     "text": [
      "before\n",
      "a [1, 2, 3]\n",
      "b [1, 2, 3]\n",
      "a address: 2663193359744\n",
      "b address: 2663193359744\n",
      "after\n",
      "a [1, 2, 3, 100]\n",
      "b [1, 2, 3, 100]\n",
      "a address: 2663193359744\n",
      "b address: 2663193359744\n"
     ]
    }
   ],
   "source": [
    "# mutable variables\n",
    "\n",
    "a = [1, 2, 3]\n",
    "b = a\n",
    "\n",
    "print('before')\n",
    "print('a', a)\n",
    "print('b', b)\n",
    "print( 'a address:', id(a) )\n",
    "print( 'b address:', id(b) )\n",
    "\n",
    "b.append(100)\n",
    "print( 'after')\n",
    "print('a', a)\n",
    "print('b', b)\n",
    "print( 'a address:', id(a) )\n",
    "print( 'b address:', id(b) )"
   ]
  },
  {
   "cell_type": "code",
   "execution_count": 29,
   "metadata": {},
   "outputs": [
    {
     "name": "stdout",
     "output_type": "stream",
     "text": [
      "before\n",
      "a [1, 2, 3]\n",
      "b [1, 2, 3]\n",
      "a address: 2663205978432\n",
      "b address: 2663206181376\n",
      "after\n",
      "a [1, 2, 3]\n",
      "b [1, 2, 3, 100]\n",
      "a address: 2663205978432\n",
      "b address: 2663206181376\n"
     ]
    }
   ],
   "source": [
    "# fix #1 \n",
    "a = [1,2,3]\n",
    "b = a.copy() # shallow copy\n",
    "print('before')\n",
    "print('a', a)\n",
    "print('b', b)\n",
    "print( 'a address:', id(a) )\n",
    "print( 'b address:', id(b) )\n",
    "\n",
    "b.append(100)\n",
    "print( 'after')\n",
    "print('a', a)\n",
    "print('b', b)\n",
    "print( 'a address:', id(a) )\n",
    "print( 'b address:', id(b) )"
   ]
  },
  {
   "cell_type": "code",
   "execution_count": 32,
   "metadata": {},
   "outputs": [
    {
     "name": "stdout",
     "output_type": "stream",
     "text": [
      "before\n",
      "a [1, 2, ['a', 'b', 'c']]\n",
      "b [1, 2, ['a', 'b', 'c']]\n",
      "a address: 2663205671680\n",
      "b address: 2663198097792\n",
      "after\n",
      "a [1, 2, ['a', 'b', 'c', 100]]\n",
      "b [1, 2, ['a', 'b', 'c', 100], 100]\n",
      "a address: 2663205671680\n",
      "b address: 2663198097792\n"
     ]
    }
   ],
   "source": [
    "# where fix #1 doesn't work\n",
    "a = [1,2, ['a', 'b', 'c'] ]\n",
    "b = a.copy()\n",
    "\n",
    "print('before')\n",
    "print('a', a)\n",
    "print('b', b)\n",
    "print( 'a address:', id(a) )\n",
    "print( 'b address:', id(b) )\n",
    "\n",
    "b[-1].append(100)\n",
    "b.append(100)\n",
    "print( 'after')\n",
    "print('a', a)\n",
    "print('b', b)\n",
    "print( 'a address:', id(a) )\n",
    "print( 'b address:', id(b) )"
   ]
  },
  {
   "cell_type": "code",
   "execution_count": 33,
   "metadata": {},
   "outputs": [
    {
     "name": "stdout",
     "output_type": "stream",
     "text": [
      "before\n",
      "a [1, 2, ['a', 'b', 'c']]\n",
      "b [1, 2, ['a', 'b', 'c']]\n",
      "a address: 2663198107136\n",
      "b address: 2663205995392\n",
      "after\n",
      "a [1, 2, ['a', 'b', 'c']]\n",
      "b [1, 2, ['a', 'b', 'c', 100], 100]\n",
      "a address: 2663198107136\n",
      "b address: 2663205995392\n"
     ]
    }
   ],
   "source": [
    "# fix #2 - recommended\n",
    "import copy\n",
    "a = [1,2,['a', 'b', 'c'] ]\n",
    "b = copy.deepcopy( a )\n",
    "\n",
    "print('before')\n",
    "print('a', a)\n",
    "print('b', b)\n",
    "print( 'a address:', id(a) )\n",
    "print( 'b address:', id(b) )\n",
    "\n",
    "b[-1].append(100)\n",
    "b.append(100)\n",
    "print( 'after')\n",
    "print('a', a)\n",
    "print('b', b)\n",
    "print( 'a address:', id(a) )\n",
    "print( 'b address:', id(b) )"
   ]
  },
  {
   "cell_type": "markdown",
   "metadata": {},
   "source": [
    "# Range"
   ]
  },
  {
   "cell_type": "code",
   "execution_count": 41,
   "metadata": {},
   "outputs": [
    {
     "name": "stdout",
     "output_type": "stream",
     "text": [
      "range(0, 10)\n",
      "[0, 1, 2, 3, 4, 5, 6, 7, 8, 9]\n",
      "[0, 1, 2, 3, 4, 5, 6, 7, 8, 9, 10]\n",
      "[1, 2, 3, 4, 5, 6, 7, 8, 9, 10]\n",
      "[25, 26, 27, 28, 29, 30, 31, 32, 33, 34, 35, 36, 37, 38, 39, 40, 41, 42, 43, 44, 45, 46, 47, 48, 49, 50, 51, 52, 53, 54, 55, 56, 57, 58, 59, 60, 61, 62, 63, 64, 65, 66, 67, 68, 69, 70, 71, 72, 73, 74, 75]\n",
      "[25, 30, 35, 40, 45, 50, 55, 60, 65, 70, 75]\n",
      "[25, 27, 29, 31, 33, 35, 37, 39, 41, 43, 45, 47, 49, 51, 53, 55, 57, 59, 61, 63, 65, 67, 69, 71, 73, 75]\n"
     ]
    }
   ],
   "source": [
    "print( range(10) )\n",
    "print( list( range(10) ) ) # range(end)\n",
    "print( list( range(11) ) )\n",
    "print( list( range(1, 11) ) ) # range(start, end)\n",
    "print( list( range(25, 76) ) )\n",
    "print( list( range(25, 76, 5) ) ) # range(start, end, step)\n",
    "print( list( range(26, 76, 2) ) )"
   ]
  },
  {
   "cell_type": "code",
   "execution_count": 45,
   "metadata": {},
   "outputs": [
    {
     "name": "stdout",
     "output_type": "stream",
     "text": [
      "25\n",
      "end of loop cycle\n",
      "30\n",
      "end of loop cycle\n",
      "35\n",
      "end of loop cycle\n",
      "40\n",
      "end of loop cycle\n",
      "45\n",
      "end of loop cycle\n",
      "50\n",
      "end of loop cycle\n",
      "55\n",
      "end of loop cycle\n",
      "60\n",
      "end of loop cycle\n",
      "65\n",
      "end of loop cycle\n",
      "70\n",
      "end of loop cycle\n",
      "75\n",
      "end of loop cycle\n",
      "end of loop\n",
      "hello\n"
     ]
    }
   ],
   "source": [
    "# for <any_name> in <list/sequence>:\n",
    "for number in range(25, 76, 5):\n",
    "    print(number)\n",
    "    print('end of loop cycle')\n",
    "print('end of loop')\n",
    "print('hello')"
   ]
  },
  {
   "cell_type": "code",
   "execution_count": 48,
   "metadata": {},
   "outputs": [
    {
     "name": "stdout",
     "output_type": "stream",
     "text": [
      "Vilnius yra nuostabus miestas!\n",
      "end of loop cycle\n",
      "Kaunas yra nuostabus miestas!\n",
      "end of loop cycle\n",
      "Klaipeda yra nuostabus miestas!\n",
      "end of loop cycle\n",
      "Siauliai yra nuostabus miestas!\n",
      "end of loop cycle\n"
     ]
    }
   ],
   "source": [
    "cities = [\n",
    "    'Vilnius',\n",
    "    'Kaunas',\n",
    "    'Klaipeda',\n",
    "    'Siauliai'\n",
    "]\n",
    "for city in cities:\n",
    "    print (f'{city} yra nuostabus miestas!')\n",
    "    print('end of loop cycle')\n",
    "    # cities.append('London') # infinite loop. Don't do this"
   ]
  },
  {
   "cell_type": "code",
   "execution_count": 49,
   "metadata": {},
   "outputs": [
    {
     "name": "stdout",
     "output_type": "stream",
     "text": [
      "Vilnius yra nuostabus miestas!\n",
      "end of loop cycle\n",
      "Kaunas yra nuostabus miestas!\n",
      "end of loop cycle\n",
      "Klaipeda yra nuostabus miestas!\n",
      "end of loop cycle\n",
      "Siauliai yra nuostabus miestas!\n",
      "end of loop cycle\n"
     ]
    }
   ],
   "source": [
    "x = [\n",
    "    'Vilnius',\n",
    "    'Kaunas',\n",
    "    'Klaipeda',\n",
    "    'Siauliai'\n",
    "]\n",
    "for y in x: # avoid ambiguous names\n",
    "    print (f'{y} yra nuostabus miestas!')\n",
    "    print('end of loop cycle')"
   ]
  },
  {
   "cell_type": "code",
   "execution_count": 63,
   "metadata": {},
   "outputs": [
    {
     "name": "stdout",
     "output_type": "stream",
     "text": [
      "25\n",
      "end of loop cycle\n",
      "30\n",
      "30 even \n",
      "end of loop cycle\n",
      "35\n",
      "end of loop cycle\n",
      "40\n",
      "40 even \n",
      "end of loop cycle\n",
      "45\n",
      "end of loop cycle\n",
      "50\n",
      "50 even \n",
      "end of loop cycle\n",
      "55\n",
      "end of loop cycle\n",
      "60\n",
      "60 even \n",
      "end of loop cycle\n",
      "65\n",
      "end of loop cycle\n",
      "70\n",
      "70 even \n",
      "end of loop cycle\n",
      "75\n",
      "end of loop cycle\n",
      "25\n",
      "end of loop cycle\n",
      "30\n",
      "30 even \n",
      "end of loop cycle\n",
      "35\n",
      "end of loop cycle\n",
      "40\n",
      "40 even \n",
      "end of loop cycle\n",
      "45\n",
      "end of loop cycle\n",
      "50\n",
      "50 even \n",
      "end of loop cycle\n",
      "55\n",
      "end of loop cycle\n",
      "60\n",
      "60 even \n",
      "end of loop cycle\n",
      "65\n",
      "end of loop cycle\n",
      "70\n",
      "70 even \n",
      "end of loop cycle\n",
      "75\n",
      "end of loop cycle\n"
     ]
    }
   ],
   "source": [
    "# for number in range(25, 76, 5):\n",
    "# for number in list( range(25, 76, 5) ) * 2:\n",
    "for number in range(25, 76, 5):\n",
    "    print(number)\n",
    "    if number % 2 == 0:\n",
    "        print(f'{number} even ')\n",
    "    print('end of loop cycle')"
   ]
  },
  {
   "cell_type": "code",
   "execution_count": 64,
   "metadata": {},
   "outputs": [
    {
     "name": "stdout",
     "output_type": "stream",
     "text": [
      "[0, 1]\n"
     ]
    }
   ],
   "source": [
    "print (list (range(2)) )"
   ]
  },
  {
   "cell_type": "code",
   "execution_count": 66,
   "metadata": {},
   "outputs": [
    {
     "name": "stdout",
     "output_type": "stream",
     "text": [
      "25\n",
      "end of inner loop cycle\n",
      "30\n",
      "30 even \n",
      "end of inner loop cycle\n",
      "35\n",
      "end of inner loop cycle\n",
      "40\n",
      "40 even \n",
      "end of inner loop cycle\n",
      "45\n",
      "end of inner loop cycle\n",
      "50\n",
      "50 even \n",
      "end of inner loop cycle\n",
      "55\n",
      "end of inner loop cycle\n",
      "60\n",
      "60 even \n",
      "end of inner loop cycle\n",
      "65\n",
      "end of inner loop cycle\n",
      "70\n",
      "70 even \n",
      "end of inner loop cycle\n",
      "75\n",
      "end of inner loop cycle\n",
      "end of OUTER loop cycle\n",
      "25\n",
      "end of inner loop cycle\n",
      "30\n",
      "30 even \n",
      "end of inner loop cycle\n",
      "35\n",
      "end of inner loop cycle\n",
      "40\n",
      "40 even \n",
      "end of inner loop cycle\n",
      "45\n",
      "end of inner loop cycle\n",
      "50\n",
      "50 even \n",
      "end of inner loop cycle\n",
      "55\n",
      "end of inner loop cycle\n",
      "60\n",
      "60 even \n",
      "end of inner loop cycle\n",
      "65\n",
      "end of inner loop cycle\n",
      "70\n",
      "70 even \n",
      "end of inner loop cycle\n",
      "75\n",
      "end of inner loop cycle\n",
      "end of OUTER loop cycle\n"
     ]
    }
   ],
   "source": [
    "for _ in range(2):\n",
    "    for number in range(25, 76, 5):\n",
    "        print(number)\n",
    "        if number % 2 == 0:\n",
    "            print(f'{number} even ')\n",
    "        print('end of inner loop cycle')\n",
    "    print('end of OUTER loop cycle')\n",
    "    "
   ]
  },
  {
   "cell_type": "code",
   "execution_count": 76,
   "metadata": {},
   "outputs": [
    {
     "name": "stdout",
     "output_type": "stream",
     "text": [
      "['Vilnius', 'Kaunas', 'Klaipeda', 'Siauliai']\n",
      "4\n",
      "Miestas Vilnius yra po indeksu 0\n",
      "Miestas Kaunas yra po indeksu 1\n",
      "Miestas Klaipeda yra po indeksu 2\n",
      "Miestas Siauliai yra po indeksu 3\n"
     ]
    }
   ],
   "source": [
    "print( cities)\n",
    "# ciklas per indeksus\n",
    "# for city in cities:\n",
    "#     print(city)\n",
    "print(len(cities))\n",
    "# idx - index (indeksas), i - index \n",
    "for idx in range( len(cities) ): # range(4) -> 0, 1, 2, 3\n",
    "    # print(f'indeksas: {idx}')\n",
    "    print( f'Miestas { cities[idx] } yra po indeksu {idx}') \n"
   ]
  },
  {
   "cell_type": "code",
   "execution_count": 77,
   "metadata": {},
   "outputs": [
    {
     "name": "stdout",
     "output_type": "stream",
     "text": [
      "Miestas 1 yra po indeksu 0\n",
      "Miestas 2 yra po indeksu 1\n",
      "Miestas 3 yra po indeksu 2\n",
      "Miestas 4 yra po indeksu 3\n",
      "Miestas 5 yra po indeksu 4\n",
      "Miestas 6 yra po indeksu 5\n"
     ]
    }
   ],
   "source": [
    "# better way \n",
    "for idx, city in enumerate(cities):\n",
    "# for idx, city in enumerate( range( 1,7 ) ):\n",
    "    print( f'Miestas { city } yra po indeksu {idx}')"
   ]
  },
  {
   "cell_type": "code",
   "execution_count": 78,
   "metadata": {},
   "outputs": [
    {
     "name": "stdout",
     "output_type": "stream",
     "text": [
      "1\n",
      "2\n",
      "3\n",
      "4\n",
      "5\n",
      "6\n",
      "7\n",
      "8\n",
      "9\n",
      "10\n",
      "11\n",
      "12\n",
      "13\n",
      "14\n",
      "15\n",
      "16\n",
      "17\n",
      "18\n",
      "19\n",
      "20\n",
      "21\n",
      "22\n",
      "23\n",
      "24\n",
      "25\n",
      "26\n",
      "27\n",
      "28\n",
      "29\n",
      "30\n",
      "31\n",
      "32\n",
      "33\n",
      "34\n",
      "35\n",
      "36\n",
      "37\n",
      "38\n",
      "39\n",
      "40\n",
      "41\n",
      "42\n",
      "43\n",
      "44\n",
      "45\n",
      "46\n",
      "47\n",
      "48\n",
      "49\n",
      "50\n"
     ]
    }
   ],
   "source": [
    "suma = 0\n",
    "for skaicius in range(1,51):\n",
    "    print(skaicius)\n"
   ]
  },
  {
   "cell_type": "code",
   "execution_count": null,
   "metadata": {},
   "outputs": [],
   "source": []
  }
 ],
 "metadata": {
  "kernelspec": {
   "display_name": "Python 3",
   "language": "python",
   "name": "python3"
  },
  "language_info": {
   "codemirror_mode": {
    "name": "ipython",
    "version": 3
   },
   "file_extension": ".py",
   "mimetype": "text/x-python",
   "name": "python",
   "nbconvert_exporter": "python",
   "pygments_lexer": "ipython3",
   "version": "3.10.2"
  }
 },
 "nbformat": 4,
 "nbformat_minor": 2
}
