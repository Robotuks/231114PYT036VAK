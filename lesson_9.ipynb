{
 "cells": [
  {
   "cell_type": "markdown",
   "metadata": {},
   "source": [
    "# OS library"
   ]
  },
  {
   "cell_type": "code",
   "execution_count": 36,
   "metadata": {},
   "outputs": [],
   "source": [
    "import os"
   ]
  },
  {
   "cell_type": "code",
   "execution_count": 37,
   "metadata": {},
   "outputs": [
    {
     "data": {
      "text/plain": [
       "'C:\\\\Users\\\\Robotux\\\\Documents\\\\Python\\\\231114PYT036VAK'"
      ]
     },
     "execution_count": 37,
     "metadata": {},
     "output_type": "execute_result"
    }
   ],
   "source": [
    "os.getcwd() # get current working directory"
   ]
  },
  {
   "cell_type": "code",
   "execution_count": 38,
   "metadata": {},
   "outputs": [
    {
     "ename": "FileNotFoundError",
     "evalue": "[WinError 2] The system cannot find the file specified: 'C:\\\\Users\\\\Robotux\\\\Desktop\\\\naujas_aplankalas'",
     "output_type": "error",
     "traceback": [
      "\u001b[1;31m---------------------------------------------------------------------------\u001b[0m",
      "\u001b[1;31mFileNotFoundError\u001b[0m                         Traceback (most recent call last)",
      "Input \u001b[1;32mIn [38]\u001b[0m, in \u001b[0;36m<module>\u001b[1;34m\u001b[0m\n\u001b[1;32m----> 1\u001b[0m \u001b[43mos\u001b[49m\u001b[38;5;241;43m.\u001b[39;49m\u001b[43mchdir\u001b[49m\u001b[43m(\u001b[49m\u001b[38;5;124;43m'\u001b[39;49m\u001b[38;5;124;43mC:\u001b[39;49m\u001b[38;5;130;43;01m\\\\\u001b[39;49;00m\u001b[38;5;124;43mUsers\u001b[39;49m\u001b[38;5;130;43;01m\\\\\u001b[39;49;00m\u001b[38;5;124;43mRobotux\u001b[39;49m\u001b[38;5;130;43;01m\\\\\u001b[39;49;00m\u001b[38;5;124;43mDesktop\u001b[39;49m\u001b[38;5;130;43;01m\\\\\u001b[39;49;00m\u001b[38;5;124;43mnaujas_aplankalas\u001b[39;49m\u001b[38;5;124;43m'\u001b[39;49m\u001b[43m)\u001b[49m\n",
      "\u001b[1;31mFileNotFoundError\u001b[0m: [WinError 2] The system cannot find the file specified: 'C:\\\\Users\\\\Robotux\\\\Desktop\\\\naujas_aplankalas'"
     ]
    }
   ],
   "source": [
    "os.chdir('C:\\\\Users\\\\Robotux\\\\Desktop\\\\naujas_aplankalas') # change directory. Absolute path\n",
    "# os.chdir('C:/Users/Robotux/Desktop/naujas_aplankalas') # change directory. Absolute path SAME AS ABOVE\n",
    "# os.chdir('../../Desktop/naujas_aplankalas/') # change directory. Relative path. USE ONLY ONCE"
   ]
  },
  {
   "cell_type": "code",
   "execution_count": null,
   "metadata": {},
   "outputs": [
    {
     "data": {
      "text/plain": [
       "'C:\\\\Users\\\\Robotux\\\\Desktop\\\\naujas_aplankalas'"
      ]
     },
     "execution_count": 5,
     "metadata": {},
     "output_type": "execute_result"
    }
   ],
   "source": [
    "os.getcwd() # get current working directory"
   ]
  },
  {
   "cell_type": "code",
   "execution_count": null,
   "metadata": {},
   "outputs": [
    {
     "data": {
      "text/plain": [
       "['New Text Document.txt']"
      ]
     },
     "execution_count": 8,
     "metadata": {},
     "output_type": "execute_result"
    }
   ],
   "source": [
    "os.listdir() # list all files and folders in current working directory"
   ]
  },
  {
   "cell_type": "code",
   "execution_count": null,
   "metadata": {},
   "outputs": [
    {
     "data": {
      "text/plain": [
       "['.git',\n",
       " '.gitignore',\n",
       " 'example.py',\n",
       " 'lesson_2.ipynb',\n",
       " 'lesson_3.ipynb',\n",
       " 'lesson_4.ipynb',\n",
       " 'lesson_5.ipynb',\n",
       " 'lesson_6.ipynb',\n",
       " 'lesson_7.ipynb',\n",
       " 'lesson_8.ipynb',\n",
       " 'lesson_9.ipynb',\n",
       " 'papildomos_užduotys',\n",
       " 'README.md',\n",
       " 'script.py',\n",
       " 'test_python.py',\n",
       " 'text.txt',\n",
       " 'truth_table.webp']"
      ]
     },
     "execution_count": 9,
     "metadata": {},
     "output_type": "execute_result"
    }
   ],
   "source": [
    "os.listdir('C:/Users/Robotux/Documents/Python/231114PYT036VAK')"
   ]
  },
  {
   "cell_type": "code",
   "execution_count": null,
   "metadata": {},
   "outputs": [],
   "source": [
    "# /home/\n",
    "# '/Users/eugenijuskurmis/naujas_aplankalas'\n",
    "# '~/naujas_aplankalas'"
   ]
  },
  {
   "cell_type": "code",
   "execution_count": null,
   "metadata": {},
   "outputs": [],
   "source": [
    "os.makedirs('folder_1/folder_2/folder_3', exist_ok=True) # create folder and subfolders. Raises error if folder already exists by default"
   ]
  },
  {
   "cell_type": "code",
   "execution_count": null,
   "metadata": {},
   "outputs": [],
   "source": [
    "os.removedirs('folder_1/folder_2/folder_3') # remove folder and subfolders. Only empty folders can be removed"
   ]
  },
  {
   "cell_type": "code",
   "execution_count": null,
   "metadata": {},
   "outputs": [
    {
     "data": {
      "text/plain": [
       "<generator object _walk at 0x0000025597E2C040>"
      ]
     },
     "execution_count": 20,
     "metadata": {},
     "output_type": "execute_result"
    }
   ],
   "source": [
    "os.walk('.')"
   ]
  },
  {
   "cell_type": "code",
   "execution_count": null,
   "metadata": {},
   "outputs": [
    {
     "name": "stdout",
     "output_type": "stream",
     "text": [
      "root: .\n",
      "dirs: ['folder_1']\n",
      "files: ['New Text Document.txt']\n",
      "loop ended\n",
      "\n",
      "root: .\\folder_1\n",
      "dirs: []\n",
      "files: ['my_text.txt']\n",
      "loop ended\n",
      "\n"
     ]
    }
   ],
   "source": [
    "for root, dirs, files in os.walk('.'):\n",
    "    print (f'root: {root}')\n",
    "    print (f'dirs: {dirs}') # directories == folder\n",
    "    print (f'files: {files}')\n",
    "    print('loop ended\\n')"
   ]
  },
  {
   "cell_type": "code",
   "execution_count": null,
   "metadata": {},
   "outputs": [
    {
     "name": "stdout",
     "output_type": "stream",
     "text": [
      "root: c:\\Users\\Robotux\\Documents\\Python\\231114PYT036VAK\n",
      "dirs: ['.git', 'papildomos_užduotys']\n",
      "files: ['.gitignore', 'example.py', 'lesson_2.ipynb', 'lesson_3.ipynb', 'lesson_4.ipynb', 'lesson_5.ipynb', 'lesson_6.ipynb', 'lesson_7.ipynb', 'lesson_8.ipynb', 'lesson_9.ipynb', 'README.md', 'script.py', 'test_python.py', 'text.txt', 'truth_table.webp']\n",
      "loop ended\n",
      "\n",
      "root: c:\\Users\\Robotux\\Documents\\Python\\231114PYT036VAK\\.git\n",
      "dirs: ['hooks', 'info', 'logs', 'objects', 'refs']\n",
      "files: ['COMMIT_EDITMSG', 'config', 'description', 'FETCH_HEAD', 'HEAD', 'index', 'ORIG_HEAD', 'packed-refs']\n",
      "loop ended\n",
      "\n",
      "root: c:\\Users\\Robotux\\Documents\\Python\\231114PYT036VAK\\.git\\hooks\n",
      "dirs: []\n",
      "files: ['applypatch-msg.sample', 'commit-msg.sample', 'fsmonitor-watchman.sample', 'post-update.sample', 'pre-applypatch.sample', 'pre-commit.sample', 'pre-merge-commit.sample', 'pre-push.sample', 'pre-rebase.sample', 'pre-receive.sample', 'prepare-commit-msg.sample', 'push-to-checkout.sample', 'update.sample']\n",
      "loop ended\n",
      "\n",
      "root: c:\\Users\\Robotux\\Documents\\Python\\231114PYT036VAK\\.git\\info\n",
      "dirs: []\n",
      "files: ['exclude']\n",
      "loop ended\n",
      "\n",
      "root: c:\\Users\\Robotux\\Documents\\Python\\231114PYT036VAK\\.git\\logs\n",
      "dirs: ['refs']\n",
      "files: ['HEAD']\n",
      "loop ended\n",
      "\n",
      "root: c:\\Users\\Robotux\\Documents\\Python\\231114PYT036VAK\\.git\\logs\\refs\n",
      "dirs: ['heads', 'remotes']\n",
      "files: []\n",
      "loop ended\n",
      "\n",
      "root: c:\\Users\\Robotux\\Documents\\Python\\231114PYT036VAK\\.git\\logs\\refs\\heads\n",
      "dirs: []\n",
      "files: ['main']\n",
      "loop ended\n",
      "\n",
      "root: c:\\Users\\Robotux\\Documents\\Python\\231114PYT036VAK\\.git\\logs\\refs\\remotes\n",
      "dirs: ['origin']\n",
      "files: []\n",
      "loop ended\n",
      "\n",
      "root: c:\\Users\\Robotux\\Documents\\Python\\231114PYT036VAK\\.git\\logs\\refs\\remotes\\origin\n",
      "dirs: []\n",
      "files: ['HEAD', 'main']\n",
      "loop ended\n",
      "\n",
      "root: c:\\Users\\Robotux\\Documents\\Python\\231114PYT036VAK\\.git\\objects\n",
      "dirs: ['01', '0a', '0c', '10', '24', '25', '2c', '36', '39', '3a', '3e', '40', '45', '49', '4e', '4f', '50', '55', '57', '5a', '61', '66', '69', '70', '77', '7b', '83', '84', '86', '95', 'a0', 'a6', 'ad', 'bb', 'c3', 'c5', 'e0', 'e5', 'e6', 'ee', 'f4', 'f6', 'fe', 'ff', 'info', 'pack']\n",
      "files: []\n",
      "loop ended\n",
      "\n",
      "root: c:\\Users\\Robotux\\Documents\\Python\\231114PYT036VAK\\.git\\objects\\01\n",
      "dirs: []\n",
      "files: ['1e58c6c995cf6b2b3c273912c41025ad3a3c7a']\n",
      "loop ended\n",
      "\n",
      "root: c:\\Users\\Robotux\\Documents\\Python\\231114PYT036VAK\\.git\\objects\\0a\n",
      "dirs: []\n",
      "files: ['d5c501e97abf47e36bcf0b7f8e10ef4f1abce4']\n",
      "loop ended\n",
      "\n",
      "root: c:\\Users\\Robotux\\Documents\\Python\\231114PYT036VAK\\.git\\objects\\0c\n",
      "dirs: []\n",
      "files: ['9ef4a7a34ac911afc915602d14b616f640d176']\n",
      "loop ended\n",
      "\n",
      "root: c:\\Users\\Robotux\\Documents\\Python\\231114PYT036VAK\\.git\\objects\\10\n",
      "dirs: []\n",
      "files: ['37829848cbfa840be09512837f71818fee2d20']\n",
      "loop ended\n",
      "\n",
      "root: c:\\Users\\Robotux\\Documents\\Python\\231114PYT036VAK\\.git\\objects\\24\n",
      "dirs: []\n",
      "files: ['467d69de93a7fd4626db72b69f9044b7f86576']\n",
      "loop ended\n",
      "\n",
      "root: c:\\Users\\Robotux\\Documents\\Python\\231114PYT036VAK\\.git\\objects\\25\n",
      "dirs: []\n",
      "files: ['6856663dff59352d8de9ccee91ea842fda4aba']\n",
      "loop ended\n",
      "\n",
      "root: c:\\Users\\Robotux\\Documents\\Python\\231114PYT036VAK\\.git\\objects\\2c\n",
      "dirs: []\n",
      "files: ['5928df751622e6e1002f21ebe693f1417a519f']\n",
      "loop ended\n",
      "\n",
      "root: c:\\Users\\Robotux\\Documents\\Python\\231114PYT036VAK\\.git\\objects\\36\n",
      "dirs: []\n",
      "files: ['256fad27c3bdc65b0891ff60a40a7fc2652a80']\n",
      "loop ended\n",
      "\n",
      "root: c:\\Users\\Robotux\\Documents\\Python\\231114PYT036VAK\\.git\\objects\\39\n",
      "dirs: []\n",
      "files: ['1a9630d6723d58116ba05d5a42caa109832922']\n",
      "loop ended\n",
      "\n",
      "root: c:\\Users\\Robotux\\Documents\\Python\\231114PYT036VAK\\.git\\objects\\3a\n",
      "dirs: []\n",
      "files: ['06fe8bb9f86d9b7b60751c96fb52a4319b053f']\n",
      "loop ended\n",
      "\n",
      "root: c:\\Users\\Robotux\\Documents\\Python\\231114PYT036VAK\\.git\\objects\\3e\n",
      "dirs: []\n",
      "files: ['e6c235e7fdf21ab1aaf025c4bf5a0d229e4347']\n",
      "loop ended\n",
      "\n",
      "root: c:\\Users\\Robotux\\Documents\\Python\\231114PYT036VAK\\.git\\objects\\40\n",
      "dirs: []\n",
      "files: ['46d9228bc106b56180143a07007ea61e901121']\n",
      "loop ended\n",
      "\n",
      "root: c:\\Users\\Robotux\\Documents\\Python\\231114PYT036VAK\\.git\\objects\\45\n",
      "dirs: []\n",
      "files: ['efd24cf12a0424eec7ac793c1659a1a14d90c0']\n",
      "loop ended\n",
      "\n",
      "root: c:\\Users\\Robotux\\Documents\\Python\\231114PYT036VAK\\.git\\objects\\49\n",
      "dirs: []\n",
      "files: ['214825f173eca9b6d70e264c8f2d6689121fe4']\n",
      "loop ended\n",
      "\n",
      "root: c:\\Users\\Robotux\\Documents\\Python\\231114PYT036VAK\\.git\\objects\\4e\n",
      "dirs: []\n",
      "files: ['8d5e2ded09b093b8debd10a9974642bb1ff61b']\n",
      "loop ended\n",
      "\n",
      "root: c:\\Users\\Robotux\\Documents\\Python\\231114PYT036VAK\\.git\\objects\\4f\n",
      "dirs: []\n",
      "files: ['9c06803b2beca833b7a1ed9fcdcbd9aa8d0ac3']\n",
      "loop ended\n",
      "\n",
      "root: c:\\Users\\Robotux\\Documents\\Python\\231114PYT036VAK\\.git\\objects\\50\n",
      "dirs: []\n",
      "files: ['c13d547335f9a4f759662a2692fcd6592cd1c2']\n",
      "loop ended\n",
      "\n",
      "root: c:\\Users\\Robotux\\Documents\\Python\\231114PYT036VAK\\.git\\objects\\55\n",
      "dirs: []\n",
      "files: ['517c86c378eb0f92648bcab610feb7e0e95327']\n",
      "loop ended\n",
      "\n",
      "root: c:\\Users\\Robotux\\Documents\\Python\\231114PYT036VAK\\.git\\objects\\57\n",
      "dirs: []\n",
      "files: ['dd0cc236423c40923ab51f00526f04d262c66a']\n",
      "loop ended\n",
      "\n",
      "root: c:\\Users\\Robotux\\Documents\\Python\\231114PYT036VAK\\.git\\objects\\5a\n",
      "dirs: []\n",
      "files: ['2aa91e931ff8f2017096076217856e0286790f']\n",
      "loop ended\n",
      "\n",
      "root: c:\\Users\\Robotux\\Documents\\Python\\231114PYT036VAK\\.git\\objects\\61\n",
      "dirs: []\n",
      "files: ['320952486ed92b3b033362ecd6086dfdcc911f', '3c279b7174e03b3cf83657e7f53ef8f571042f']\n",
      "loop ended\n",
      "\n",
      "root: c:\\Users\\Robotux\\Documents\\Python\\231114PYT036VAK\\.git\\objects\\66\n",
      "dirs: []\n",
      "files: ['620517abf214acccdb557dbcd62f88b57f5747', '907977241dd2955e59a8c5a80f516ab3fde73d']\n",
      "loop ended\n",
      "\n",
      "root: c:\\Users\\Robotux\\Documents\\Python\\231114PYT036VAK\\.git\\objects\\69\n",
      "dirs: []\n",
      "files: ['aa210d6e5e8f2f92293e55e19e5e91bbf411a9']\n",
      "loop ended\n",
      "\n",
      "root: c:\\Users\\Robotux\\Documents\\Python\\231114PYT036VAK\\.git\\objects\\70\n",
      "dirs: []\n",
      "files: ['7614e4622519d9e7d9ca27acf1ff4299dc25c7']\n",
      "loop ended\n",
      "\n",
      "root: c:\\Users\\Robotux\\Documents\\Python\\231114PYT036VAK\\.git\\objects\\77\n",
      "dirs: []\n",
      "files: ['a1776cb36c158fae12b5f3bf340ab9b9760d8f']\n",
      "loop ended\n",
      "\n",
      "root: c:\\Users\\Robotux\\Documents\\Python\\231114PYT036VAK\\.git\\objects\\7b\n",
      "dirs: []\n",
      "files: ['6771a6cec19016a203394d3746fe9539d8db63', '802f9c82eefaf4d391f56220e1aeac5dc9f662']\n",
      "loop ended\n",
      "\n",
      "root: c:\\Users\\Robotux\\Documents\\Python\\231114PYT036VAK\\.git\\objects\\83\n",
      "dirs: []\n",
      "files: ['8649de7cdceba1fa677c9432b0170c7a3f97f7']\n",
      "loop ended\n",
      "\n",
      "root: c:\\Users\\Robotux\\Documents\\Python\\231114PYT036VAK\\.git\\objects\\84\n",
      "dirs: []\n",
      "files: ['9c57fe2d4585048cdd59b972f724c5bee21b2f']\n",
      "loop ended\n",
      "\n",
      "root: c:\\Users\\Robotux\\Documents\\Python\\231114PYT036VAK\\.git\\objects\\86\n",
      "dirs: []\n",
      "files: ['d2eb803b905448662573bdf15424013304053e']\n",
      "loop ended\n",
      "\n",
      "root: c:\\Users\\Robotux\\Documents\\Python\\231114PYT036VAK\\.git\\objects\\95\n",
      "dirs: []\n",
      "files: ['63d9db1c14820c97468c5ab2ba3810bee0587d']\n",
      "loop ended\n",
      "\n",
      "root: c:\\Users\\Robotux\\Documents\\Python\\231114PYT036VAK\\.git\\objects\\a0\n",
      "dirs: []\n",
      "files: ['e322d2542abde28b17c267f6360d80fefb1b3d']\n",
      "loop ended\n",
      "\n",
      "root: c:\\Users\\Robotux\\Documents\\Python\\231114PYT036VAK\\.git\\objects\\a6\n",
      "dirs: []\n",
      "files: ['dc409197871c03986c5805c3915fb5ad3e6007']\n",
      "loop ended\n",
      "\n",
      "root: c:\\Users\\Robotux\\Documents\\Python\\231114PYT036VAK\\.git\\objects\\ad\n",
      "dirs: []\n",
      "files: ['1d28527f79149a514146cac2daca8dd76608b9']\n",
      "loop ended\n",
      "\n",
      "root: c:\\Users\\Robotux\\Documents\\Python\\231114PYT036VAK\\.git\\objects\\bb\n",
      "dirs: []\n",
      "files: ['753a4c43b8c031e3bde41cb21fe78be8f56f40']\n",
      "loop ended\n",
      "\n",
      "root: c:\\Users\\Robotux\\Documents\\Python\\231114PYT036VAK\\.git\\objects\\c3\n",
      "dirs: []\n",
      "files: ['0fe67315491235e8df2a6cbcbcff0ba5368f53']\n",
      "loop ended\n",
      "\n",
      "root: c:\\Users\\Robotux\\Documents\\Python\\231114PYT036VAK\\.git\\objects\\c5\n",
      "dirs: []\n",
      "files: ['b5953076b0bdaf8c193fd7b511dd4591e6b9e9']\n",
      "loop ended\n",
      "\n",
      "root: c:\\Users\\Robotux\\Documents\\Python\\231114PYT036VAK\\.git\\objects\\e0\n",
      "dirs: []\n",
      "files: ['369f70fef50b78c9a6658e4f3c67ade92aa8e4']\n",
      "loop ended\n",
      "\n",
      "root: c:\\Users\\Robotux\\Documents\\Python\\231114PYT036VAK\\.git\\objects\\e5\n",
      "dirs: []\n",
      "files: ['72b1c4952792c3911f59e7038bd0c5aeb5d348', '8e602f7dd6529d86715e047b068e3f022db92c', 'b9167860a39d0143ec02b447bd4329657ceb07']\n",
      "loop ended\n",
      "\n",
      "root: c:\\Users\\Robotux\\Documents\\Python\\231114PYT036VAK\\.git\\objects\\e6\n",
      "dirs: []\n",
      "files: ['b997174c34ccf02adc86e80b3f825610e12d0e']\n",
      "loop ended\n",
      "\n",
      "root: c:\\Users\\Robotux\\Documents\\Python\\231114PYT036VAK\\.git\\objects\\ee\n",
      "dirs: []\n",
      "files: ['1286d5ddaae4f8b395f8d3b41b59ee53747030', 'cd427cbf616a91794bc905c28d4d4c5da7dff1']\n",
      "loop ended\n",
      "\n",
      "root: c:\\Users\\Robotux\\Documents\\Python\\231114PYT036VAK\\.git\\objects\\f4\n",
      "dirs: []\n",
      "files: ['ed449d44ae100811d4b9a9f94370070c2221bf']\n",
      "loop ended\n",
      "\n",
      "root: c:\\Users\\Robotux\\Documents\\Python\\231114PYT036VAK\\.git\\objects\\f6\n",
      "dirs: []\n",
      "files: ['e9d2a7c2f580d89387245ccde089849da0e024']\n",
      "loop ended\n",
      "\n",
      "root: c:\\Users\\Robotux\\Documents\\Python\\231114PYT036VAK\\.git\\objects\\fe\n",
      "dirs: []\n",
      "files: ['bfeb2fbcbbb2153a232e16d561ae081bb2beec']\n",
      "loop ended\n",
      "\n",
      "root: c:\\Users\\Robotux\\Documents\\Python\\231114PYT036VAK\\.git\\objects\\ff\n",
      "dirs: []\n",
      "files: ['186afecdab7890e926c6a84e2b1eed76d56da0']\n",
      "loop ended\n",
      "\n",
      "root: c:\\Users\\Robotux\\Documents\\Python\\231114PYT036VAK\\.git\\objects\\info\n",
      "dirs: []\n",
      "files: []\n",
      "loop ended\n",
      "\n",
      "root: c:\\Users\\Robotux\\Documents\\Python\\231114PYT036VAK\\.git\\objects\\pack\n",
      "dirs: []\n",
      "files: ['pack-ee7df042cf21b745b59ae8b6c44e4f2cc37e4a8a.idx', 'pack-ee7df042cf21b745b59ae8b6c44e4f2cc37e4a8a.pack']\n",
      "loop ended\n",
      "\n",
      "root: c:\\Users\\Robotux\\Documents\\Python\\231114PYT036VAK\\.git\\refs\n",
      "dirs: ['heads', 'remotes', 'tags']\n",
      "files: []\n",
      "loop ended\n",
      "\n",
      "root: c:\\Users\\Robotux\\Documents\\Python\\231114PYT036VAK\\.git\\refs\\heads\n",
      "dirs: []\n",
      "files: ['main']\n",
      "loop ended\n",
      "\n",
      "root: c:\\Users\\Robotux\\Documents\\Python\\231114PYT036VAK\\.git\\refs\\remotes\n",
      "dirs: ['origin']\n",
      "files: []\n",
      "loop ended\n",
      "\n",
      "root: c:\\Users\\Robotux\\Documents\\Python\\231114PYT036VAK\\.git\\refs\\remotes\\origin\n",
      "dirs: []\n",
      "files: ['HEAD', 'main']\n",
      "loop ended\n",
      "\n",
      "root: c:\\Users\\Robotux\\Documents\\Python\\231114PYT036VAK\\.git\\refs\\tags\n",
      "dirs: []\n",
      "files: []\n",
      "loop ended\n",
      "\n",
      "root: c:\\Users\\Robotux\\Documents\\Python\\231114PYT036VAK\\papildomos_užduotys\n",
      "dirs: []\n",
      "files: ['nr_2.ipynb', 'nr_3.ipynb', 'nr_4.ipynb', 'nr_5.ipynb', 'nr_6.ipynb']\n",
      "loop ended\n",
      "\n"
     ]
    }
   ],
   "source": [
    "for root, dirs, files in os.walk('c:\\\\Users\\\\Robotux\\\\Documents\\\\Python\\\\231114PYT036VAK'):\n",
    "    print (f'root: {root}')\n",
    "    print (f'dirs: {dirs}') # directories == folder\n",
    "    print (f'files: {files}')\n",
    "    print('loop ended\\n')"
   ]
  },
  {
   "cell_type": "markdown",
   "metadata": {},
   "source": [
    "## Read a document"
   ]
  },
  {
   "cell_type": "code",
   "execution_count": null,
   "metadata": {},
   "outputs": [
    {
     "name": "stdout",
     "output_type": "stream",
     "text": [
      "Hello from text file!\n"
     ]
    },
    {
     "ename": "ValueError",
     "evalue": "I/O operation on closed file.",
     "output_type": "error",
     "traceback": [
      "\u001b[1;31m---------------------------------------------------------------------------\u001b[0m",
      "\u001b[1;31mValueError\u001b[0m                                Traceback (most recent call last)",
      "Input \u001b[1;32mIn [26]\u001b[0m, in \u001b[0;36m<module>\u001b[1;34m\u001b[0m\n\u001b[0;32m      2\u001b[0m     text \u001b[38;5;241m=\u001b[39m fr\u001b[38;5;241m.\u001b[39mread()\n\u001b[0;32m      4\u001b[0m \u001b[38;5;28mprint\u001b[39m(text)\n\u001b[1;32m----> 5\u001b[0m \u001b[43mfr\u001b[49m\u001b[38;5;241;43m.\u001b[39;49m\u001b[43mread\u001b[49m\u001b[43m(\u001b[49m\u001b[43m)\u001b[49m\n",
      "\u001b[1;31mValueError\u001b[0m: I/O operation on closed file."
     ]
    }
   ],
   "source": [
    "with open('folder_1/my_text.txt', 'r') as fr: # file read. Can be any name\n",
    "    text = fr.read()\n",
    "\n",
    "print(text)\n",
    "# fr.read() # error because file is closed"
   ]
  },
  {
   "cell_type": "markdown",
   "metadata": {},
   "source": [
    "## Document write"
   ]
  },
  {
   "cell_type": "code",
   "execution_count": null,
   "metadata": {},
   "outputs": [],
   "source": [
    "with open('folder_1/my_python_text.txt', 'w') as fw: # file write. Can be any name\n",
    "    fw.write('Hello world from Python!\\n') # \\n - new line\n",
    "    fw.write('Second line written!\\n')"
   ]
  },
  {
   "cell_type": "code",
   "execution_count": null,
   "metadata": {},
   "outputs": [],
   "source": [
    "# C:\\Users\\Robotux\\Documents\\Python\\231114PYT036VAK\n",
    "with open('C:/Users/Robotux/Documents/Python/231114PYT036VAK/my_python_text.txt', 'w') as fw: # file write. Can be any name\n",
    "    fw.write('Hello world from Python!\\n') # \\n - new line\n",
    "    fw.write('Second line written!\\n')"
   ]
  },
  {
   "cell_type": "code",
   "execution_count": null,
   "metadata": {},
   "outputs": [
    {
     "name": "stdout",
     "output_type": "stream",
     "text": [
      "['My', 'Documents']\n",
      "['My_Documents']\n"
     ]
    }
   ],
   "source": [
    "print('My Documents'.split() )\n",
    "print('My_Documents'.split())"
   ]
  },
  {
   "cell_type": "markdown",
   "metadata": {},
   "source": [
    "## Delete folder with all content inside "
   ]
  },
  {
   "cell_type": "code",
   "execution_count": null,
   "metadata": {},
   "outputs": [
    {
     "data": {
      "text/plain": [
       "'C:\\\\Users\\\\Robotux\\\\Documents\\\\Python\\\\231114PYT036VAK'"
      ]
     },
     "execution_count": 31,
     "metadata": {},
     "output_type": "execute_result"
    }
   ],
   "source": [
    "os.chdir('C:/Users/Robotux/Documents/Python/231114PYT036VAK')\n",
    "os.getcwd()"
   ]
  },
  {
   "cell_type": "code",
   "execution_count": null,
   "metadata": {},
   "outputs": [],
   "source": [
    "import shutil\n",
    "\n",
    "# BE CAREFUL WITH THIS COMMANDS\n",
    "shutil.rmtree('C:/Users/Robotux/Desktop/naujas_aplankalas') # remove folder and subfolders. All files and folders will be removed"
   ]
  },
  {
   "cell_type": "markdown",
   "metadata": {},
   "source": [
    "## JSON"
   ]
  },
  {
   "cell_type": "code",
   "execution_count": 35,
   "metadata": {},
   "outputs": [],
   "source": [
    "my_dict = {\n",
    "    'name': 'Eugenijus',\n",
    "    'surname': 'Kurmis',\n",
    "    'hobbies': ['Python', 'Linux', 'Raspberry Pi', 'Mac'],\n",
    "    'age': 30,\n",
    "    'is_married': True,\n",
    "    'address': {\n",
    "        'city': 'Vilnius',\n",
    "        'street': 'Gedimino pr.',\n",
    "        'number': 1\n",
    "    },\n",
    "    'car': None\n",
    "}"
   ]
  },
  {
   "cell_type": "code",
   "execution_count": 39,
   "metadata": {},
   "outputs": [],
   "source": [
    "import json\n",
    "\n",
    "with open('my_json.json', 'w') as fw:\n",
    "    json.dump(my_dict, fw)"
   ]
  },
  {
   "cell_type": "code",
   "execution_count": 40,
   "metadata": {},
   "outputs": [],
   "source": [
    "\n",
    "with open('my_json.json', 'r') as fr:\n",
    "    my_dict_from_json = json.load(fr)"
   ]
  },
  {
   "cell_type": "code",
   "execution_count": 42,
   "metadata": {},
   "outputs": [
    {
     "data": {
      "text/plain": [
       "{'name': 'Eugenijus',\n",
       " 'surname': 'Kurmis',\n",
       " 'hobbies': ['Python', 'Linux', 'Raspberry Pi', 'Mac'],\n",
       " 'age': 30,\n",
       " 'is_married': True,\n",
       " 'address': {'city': 'Vilnius', 'street': 'Gedimino pr.', 'number': 1},\n",
       " 'car': None}"
      ]
     },
     "execution_count": 42,
     "metadata": {},
     "output_type": "execute_result"
    }
   ],
   "source": [
    "my_dict_from_json"
   ]
  },
  {
   "cell_type": "markdown",
   "metadata": {},
   "source": [
    "## YAML"
   ]
  },
  {
   "cell_type": "markdown",
   "metadata": {},
   "source": [
    "import yaml # Need to install"
   ]
  },
  {
   "cell_type": "code",
   "execution_count": 43,
   "metadata": {},
   "outputs": [
    {
     "name": "stdout",
     "output_type": "stream",
     "text": [
      "Requirement already satisfied: PyYAML in c:\\users\\robotux\\appdata\\local\\programs\\python\\python310\\lib\\site-packages (6.0)\n",
      "Note: you may need to restart the kernel to use updated packages.\n"
     ]
    },
    {
     "name": "stderr",
     "output_type": "stream",
     "text": [
      "DEPRECATION: textract 1.6.4 has a non-standard dependency specifier extract-msg<=0.29.*. pip 24.0 will enforce this behaviour change. A possible replacement is to upgrade to a newer version of textract or contact the author to suggest that they release a version with a conforming dependency specifiers. Discussion can be found at https://github.com/pypa/pip/issues/12063\n"
     ]
    }
   ],
   "source": [
    "%pip install PyYAML"
   ]
  },
  {
   "cell_type": "code",
   "execution_count": 44,
   "metadata": {},
   "outputs": [],
   "source": [
    "import yaml"
   ]
  },
  {
   "cell_type": "code",
   "execution_count": 45,
   "metadata": {},
   "outputs": [],
   "source": [
    "with open('my_yaml.yaml', 'w') as fw:\n",
    "    yaml.dump(my_dict, fw)"
   ]
  },
  {
   "cell_type": "code",
   "execution_count": 46,
   "metadata": {},
   "outputs": [
    {
     "data": {
      "text/plain": [
       "{'address': {'city': 'Vilnius', 'number': 1, 'street': 'Gedimino pr.'},\n",
       " 'age': 30,\n",
       " 'car': None,\n",
       " 'hobbies': ['Python', 'Linux', 'Raspberry Pi', 'Mac'],\n",
       " 'is_married': True,\n",
       " 'name': 'Eugenijus',\n",
       " 'surname': 'Kurmis'}"
      ]
     },
     "execution_count": 46,
     "metadata": {},
     "output_type": "execute_result"
    }
   ],
   "source": [
    "with open('my_yaml.yaml', 'r') as fr:\n",
    "    my_dict_from_yaml = yaml.safe_load(fr)\n",
    "\n",
    "my_dict_from_yaml"
   ]
  },
  {
   "cell_type": "markdown",
   "metadata": {},
   "source": [
    "# Error types"
   ]
  },
  {
   "cell_type": "markdown",
   "metadata": {},
   "source": [
    "EOF - end of file  \n",
    "EOL - end of line"
   ]
  },
  {
   "cell_type": "markdown",
   "metadata": {},
   "source": [
    "## Raise an error"
   ]
  },
  {
   "cell_type": "code",
   "execution_count": 47,
   "metadata": {},
   "outputs": [
    {
     "ename": "ValueError",
     "evalue": "My error message",
     "output_type": "error",
     "traceback": [
      "\u001b[1;31m---------------------------------------------------------------------------\u001b[0m",
      "\u001b[1;31mValueError\u001b[0m                                Traceback (most recent call last)",
      "Input \u001b[1;32mIn [47]\u001b[0m, in \u001b[0;36m<module>\u001b[1;34m\u001b[0m\n\u001b[1;32m----> 1\u001b[0m \u001b[38;5;28;01mraise\u001b[39;00m \u001b[38;5;167;01mValueError\u001b[39;00m(\u001b[38;5;124m'\u001b[39m\u001b[38;5;124mMy error message\u001b[39m\u001b[38;5;124m'\u001b[39m)\n",
      "\u001b[1;31mValueError\u001b[0m: My error message"
     ]
    }
   ],
   "source": [
    "raise ValueError('My error message')"
   ]
  },
  {
   "cell_type": "code",
   "execution_count": 56,
   "metadata": {},
   "outputs": [
    {
     "name": "stdout",
     "output_type": "stream",
     "text": [
      "False\n"
     ]
    },
    {
     "ename": "ValueError",
     "evalue": "x is not a number",
     "output_type": "error",
     "traceback": [
      "\u001b[1;31m---------------------------------------------------------------------------\u001b[0m",
      "\u001b[1;31mValueError\u001b[0m                                Traceback (most recent call last)",
      "Input \u001b[1;32mIn [56]\u001b[0m, in \u001b[0;36m<module>\u001b[1;34m\u001b[0m\n\u001b[0;32m      3\u001b[0m \u001b[38;5;28mprint\u001b[39m(\u001b[38;5;28misinstance\u001b[39m(x, \u001b[38;5;28mint\u001b[39m ) \u001b[38;5;129;01mor\u001b[39;00m \u001b[38;5;28misinstance\u001b[39m(x, \u001b[38;5;28mfloat\u001b[39m ))\n\u001b[0;32m      5\u001b[0m \u001b[38;5;28;01mif\u001b[39;00m \u001b[38;5;129;01mnot\u001b[39;00m (\u001b[38;5;28misinstance\u001b[39m(x, \u001b[38;5;28mint\u001b[39m ) \u001b[38;5;129;01mor\u001b[39;00m \u001b[38;5;28misinstance\u001b[39m(x, \u001b[38;5;28mfloat\u001b[39m ) ):\n\u001b[0;32m      6\u001b[0m     \u001b[38;5;66;03m# print('x is not a number')\u001b[39;00m\n\u001b[1;32m----> 7\u001b[0m     \u001b[38;5;28;01mraise\u001b[39;00m \u001b[38;5;167;01mValueError\u001b[39;00m(\u001b[38;5;124m'\u001b[39m\u001b[38;5;124mx is not a number\u001b[39m\u001b[38;5;124m'\u001b[39m)\n\u001b[0;32m      9\u001b[0m \u001b[38;5;28mprint\u001b[39m(\u001b[38;5;124m'\u001b[39m\u001b[38;5;124mend of script\u001b[39m\u001b[38;5;124m'\u001b[39m)\n",
      "\u001b[1;31mValueError\u001b[0m: x is not a number"
     ]
    }
   ],
   "source": [
    "x = '545'\n",
    "\n",
    "print(isinstance(x, int ) or isinstance(x, float ))\n",
    "\n",
    "if not (isinstance(x, int ) or isinstance(x, float ) ):\n",
    "    # print('x is not a number')\n",
    "    raise ValueError('x is not a number')\n",
    "\n",
    "print('end of script')"
   ]
  },
  {
   "cell_type": "markdown",
   "metadata": {},
   "source": [
    "# Try/except"
   ]
  },
  {
   "cell_type": "code",
   "execution_count": 62,
   "metadata": {},
   "outputs": [
    {
     "name": "stdout",
     "output_type": "stream",
     "text": [
      "start of try block\n",
      "end of try block\n",
      "end of code\n"
     ]
    }
   ],
   "source": [
    "a = 5\n",
    "b = 2\n",
    "\n",
    "try:\n",
    "    print('start of try block')\n",
    "    c = a / b # possible error\n",
    "    print('end of try block')\n",
    "except: # BAD PRACTICE\n",
    "    print('Division by zero is not allowed!')\n",
    "    c = 0\n",
    "\n",
    "print('end of code')"
   ]
  },
  {
   "cell_type": "code",
   "execution_count": 65,
   "metadata": {},
   "outputs": [
    {
     "name": "stdout",
     "output_type": "stream",
     "text": [
      "Division by zero is not allowed!\n",
      "end of code\n"
     ]
    }
   ],
   "source": [
    "a = 5\n",
    "b = 2\n",
    "\n",
    "try:\n",
    "    print(k)\n",
    "    print('start of try block')\n",
    "    c = a / b # possible error\n",
    "    print('end of try block')\n",
    "except: # BAD PRACTICE\n",
    "    print('Division by zero is not allowed!')\n",
    "    c = 0\n",
    "\n",
    "print('end of code')"
   ]
  },
  {
   "cell_type": "code",
   "execution_count": 68,
   "metadata": {},
   "outputs": [
    {
     "name": "stdout",
     "output_type": "stream",
     "text": [
      "start of try block\n",
      "Division by zero is not allowed!\n",
      "end of code\n"
     ]
    }
   ],
   "source": [
    "a = 5\n",
    "b = 0\n",
    "\n",
    "try:\n",
    "    # print(k)\n",
    "    print('start of try block')\n",
    "    c = a / b # possible error\n",
    "    print('end of try block')\n",
    "except ZeroDivisionError: # GOOD PRACTICE\n",
    "    print('Division by zero is not allowed!')\n",
    "    c = 0\n",
    "\n",
    "print('end of code')"
   ]
  },
  {
   "cell_type": "code",
   "execution_count": 73,
   "metadata": {},
   "outputs": [
    {
     "name": "stdout",
     "output_type": "stream",
     "text": [
      "start of try block\n",
      "Division by zero is not allowed!\n",
      "end of code\n"
     ]
    }
   ],
   "source": [
    "a = 5\n",
    "b = 0\n",
    "\n",
    "x = '546'\n",
    "try:\n",
    "    # print(k)\n",
    "    print('start of try block')\n",
    "    d = int(x) # possible error\n",
    "    c = a / b # possible error\n",
    "    print('end of try block')\n",
    "except ZeroDivisionError: # GOOD PRACTICE\n",
    "    print('Division by zero is not allowed!')\n",
    "    c = 0\n",
    "except ValueError:\n",
    "    print('Value error with int(x)')\n",
    "    d = 0\n",
    "\n",
    "print('end of code')"
   ]
  },
  {
   "cell_type": "code",
   "execution_count": 77,
   "metadata": {},
   "outputs": [
    {
     "name": "stdout",
     "output_type": "stream",
     "text": [
      "This code will always run!\n"
     ]
    },
    {
     "ename": "NameError",
     "evalue": "name 'k' is not defined",
     "output_type": "error",
     "traceback": [
      "\u001b[1;31m---------------------------------------------------------------------------\u001b[0m",
      "\u001b[1;31mNameError\u001b[0m                                 Traceback (most recent call last)",
      "Input \u001b[1;32mIn [77]\u001b[0m, in \u001b[0;36m<module>\u001b[1;34m\u001b[0m\n\u001b[0;32m      4\u001b[0m x \u001b[38;5;241m=\u001b[39m \u001b[38;5;124m'\u001b[39m\u001b[38;5;124ma\u001b[39m\u001b[38;5;124m'\u001b[39m\n\u001b[0;32m      5\u001b[0m \u001b[38;5;28;01mtry\u001b[39;00m:\n\u001b[1;32m----> 6\u001b[0m     \u001b[38;5;28mprint\u001b[39m(\u001b[43mk\u001b[49m)\n\u001b[0;32m      7\u001b[0m     \u001b[38;5;28mprint\u001b[39m(\u001b[38;5;124m'\u001b[39m\u001b[38;5;124mstart of try block\u001b[39m\u001b[38;5;124m'\u001b[39m)\n\u001b[0;32m      8\u001b[0m     d \u001b[38;5;241m=\u001b[39m \u001b[38;5;28mint\u001b[39m(x) \u001b[38;5;66;03m# possible error\u001b[39;00m\n",
      "\u001b[1;31mNameError\u001b[0m: name 'k' is not defined"
     ]
    }
   ],
   "source": [
    "a = 5\n",
    "b = 0\n",
    "\n",
    "x = 'a'\n",
    "try:\n",
    "    print(k)\n",
    "    print('start of try block')\n",
    "    d = int(x) # possible error\n",
    "    c = a / b # possible error\n",
    "    print('end of try block')\n",
    "except ZeroDivisionError: # GOOD PRACTICE\n",
    "    print('Division by zero is not allowed!')\n",
    "    c = 0\n",
    "except ValueError:\n",
    "    print('Value error with int(x)')\n",
    "    d = 0\n",
    "finally:\n",
    "    print('This code will always run!')\n",
    "\n",
    "print('end of code')"
   ]
  },
  {
   "cell_type": "markdown",
   "metadata": {},
   "source": [
    "## Usually can get away without try/except"
   ]
  },
  {
   "cell_type": "code",
   "execution_count": 81,
   "metadata": {},
   "outputs": [
    {
     "name": "stdout",
     "output_type": "stream",
     "text": [
      "1.0\n"
     ]
    }
   ],
   "source": [
    "a = 5\n",
    "b = 5\n",
    "\n",
    "if b == 0:\n",
    "    b = 1\n",
    "\n",
    "c = a / b\n",
    "print(c)"
   ]
  },
  {
   "cell_type": "code",
   "execution_count": 90,
   "metadata": {},
   "outputs": [
    {
     "name": "stdout",
     "output_type": "stream",
     "text": [
      "True\n",
      "0\n"
     ]
    }
   ],
   "source": [
    "x = 'zodis'\n",
    "print( isinstance(x, str) and not x.isdigit() )\n",
    "if isinstance(x, str) and not x.isdigit():\n",
    "    x = 0\n",
    "\n",
    "d = int(x) # possible error\n",
    "print(d)"
   ]
  },
  {
   "cell_type": "code",
   "execution_count": 92,
   "metadata": {},
   "outputs": [
    {
     "data": {
      "text/plain": [
       "46"
      ]
     },
     "execution_count": 92,
     "metadata": {},
     "output_type": "execute_result"
    }
   ],
   "source": [
    "int('46')"
   ]
  },
  {
   "cell_type": "code",
   "execution_count": null,
   "metadata": {},
   "outputs": [],
   "source": []
  }
 ],
 "metadata": {
  "kernelspec": {
   "display_name": "Python 3",
   "language": "python",
   "name": "python3"
  },
  "language_info": {
   "codemirror_mode": {
    "name": "ipython",
    "version": 3
   },
   "file_extension": ".py",
   "mimetype": "text/x-python",
   "name": "python",
   "nbconvert_exporter": "python",
   "pygments_lexer": "ipython3",
   "version": "3.10.2"
  }
 },
 "nbformat": 4,
 "nbformat_minor": 2
}
