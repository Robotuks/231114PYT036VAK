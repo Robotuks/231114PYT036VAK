{
 "cells": [
  {
   "cell_type": "markdown",
   "metadata": {},
   "source": [
    "# Class"
   ]
  },
  {
   "cell_type": "code",
   "execution_count": 19,
   "metadata": {},
   "outputs": [],
   "source": [
    "class Dog:\n",
    "    # simple form of init\n",
    "    # def __init__(self): # initialize the object - constructor\n",
    "    #     pass\n",
    "\n",
    "    def __init__(self, name, age ): # initialize the object - constructor\n",
    "        self.name = name # attribute\n",
    "        self.age = age # attribute\n",
    "\n",
    "        self.hunger_level = 50 # attribute\n",
    "\n",
    "    # method\n",
    "    def say(self):\n",
    "        return f\"{self.name} says: woof!\"\n",
    "    \n",
    "    # method\n",
    "    def eat(self, food):\n",
    "        if food == 'meat':\n",
    "            self.hunger_level += -10\n",
    "        elif food == 'bread':\n",
    "            self.hunger_level += -5\n",
    "        else:\n",
    "            self.hunger_level += -1\n",
    "        return f\"{self.name} eats {food}\"\n",
    "    \n",
    "    # method\n",
    "    def get_hunger_level(self):\n",
    "        return self.hunger_level\n",
    "    \n",
    "    def increase_hunger_level(self):\n",
    "        self.hunger_level += 1\n",
    "\n",
    "# class Cat:\n",
    "#     # simple form of init\n",
    "#     # def __init__(self): # initialize the object - constructor\n",
    "#     #     pass\n",
    "\n",
    "#     def __init__(self, name, age ): # initialize the object - constructor\n",
    "#         self.name = name\n",
    "#         self.age = age\n"
   ]
  },
  {
   "cell_type": "code",
   "execution_count": 20,
   "metadata": {},
   "outputs": [
    {
     "name": "stdout",
     "output_type": "stream",
     "text": [
      "<__main__.Dog object at 0x000001ABF5D99A80>\n",
      "Rex 2\n",
      "Dog name is Rex and age is 2\n",
      "Dog name is Fred and age is 3\n",
      "Rex says: woof!\n",
      "Fred says: woof!\n",
      "Dog Rex hunger level is 50\n",
      "Rex eats meat\n",
      "Dog Rex hunger level is 40\n",
      "Dog Fred hunger level is 50\n",
      "Fred eats fish\n",
      "Dog Fred hunger level is 49\n"
     ]
    }
   ],
   "source": [
    "dog_1 = Dog(\"Rex\", 2)\n",
    "dog_2 = Dog(\"Fred\", 3)\n",
    "\n",
    "print(dog_1)\n",
    "print(dog_1.name, dog_1.age)\n",
    "print(f'Dog name is {dog_1.name} and age is {dog_1.age}')\n",
    "\n",
    "print(f'Dog name is {dog_2.name} and age is {dog_2.age}')\n",
    "\n",
    "print( dog_1.say() )\n",
    "print( dog_2.say() )\n",
    "\n",
    "print(f'Dog {dog_1.name} hunger level is {dog_1.get_hunger_level()}'  )\n",
    "print( dog_1.eat('meat'))\n",
    "print(f'Dog {dog_1.name} hunger level is {dog_1.get_hunger_level()}'  )\n",
    "\n",
    "print(f'Dog {dog_2.name} hunger level is {dog_2.get_hunger_level()}'  )\n",
    "print( dog_2.eat('fish'))\n",
    "print(f'Dog {dog_2.name} hunger level is {dog_2.get_hunger_level()}'  )\n"
   ]
  },
  {
   "cell_type": "code",
   "execution_count": 26,
   "metadata": {},
   "outputs": [
    {
     "name": "stdout",
     "output_type": "stream",
     "text": [
      "Iteration 0\n",
      "Dog Rex hunger level is 91\n",
      "Dog Fred hunger level is 100\n",
      "Iteration 1\n",
      "Dog Rex hunger level is 92\n",
      "Dog Fred hunger level is 101\n",
      "Iteration 2\n",
      "Dog Rex hunger level is 93\n",
      "Dog Fred hunger level is 102\n",
      "Iteration 3\n",
      "Dog Rex hunger level is 94\n",
      "Dog Fred hunger level is 103\n",
      "Iteration 4\n",
      "Dog Rex hunger level is 95\n",
      "Dog Fred hunger level is 104\n",
      "Iteration 5\n",
      "Dog Rex hunger level is 96\n",
      "Dog Fred hunger level is 105\n",
      "Iteration 6\n",
      "Dog Rex hunger level is 97\n",
      "Dog Fred hunger level is 106\n",
      "Iteration 7\n",
      "Dog Rex hunger level is 98\n",
      "Dog Fred hunger level is 107\n",
      "Iteration 8\n",
      "Dog Rex hunger level is 99\n",
      "Dog Fred hunger level is 108\n",
      "Iteration 9\n",
      "Dog Rex hunger level is 100\n",
      "Dog Fred hunger level is 109\n"
     ]
    }
   ],
   "source": [
    "for i in range(10):\n",
    "    print(f'Iteration {i}')\n",
    "    for dog in [dog_1, dog_2]:\n",
    "        dog.increase_hunger_level()\n",
    "    \n",
    "    print(f'Dog {dog_1.name} hunger level is {dog_1.get_hunger_level()}'  )\n",
    "    print(f'Dog {dog_2.name} hunger level is {dog_2.get_hunger_level()}'  )"
   ]
  },
  {
   "cell_type": "code",
   "execution_count": 43,
   "metadata": {},
   "outputs": [],
   "source": [
    "class SquarePipe:\n",
    "    def __init__(self, width, height):\n",
    "        self.width = width\n",
    "        self.height = height\n",
    "    \n",
    "    def cross_section(self):\n",
    "        return self.width * self.height\n",
    "    \n",
    "    def flow_rate(self, velocity):\n",
    "        return self.cross_section() * velocity"
   ]
  },
  {
   "cell_type": "code",
   "execution_count": 44,
   "metadata": {},
   "outputs": [],
   "source": [
    "class RoundPipe:\n",
    "    def __init__(self, radius):\n",
    "        self.radius = radius\n",
    "    \n",
    "    def cross_section(self):\n",
    "        return 3.14 * self.radius ** 2\n",
    "    \n",
    "    def flow_rate(self, velocity):\n",
    "        return self.cross_section() * velocity"
   ]
  },
  {
   "cell_type": "code",
   "execution_count": 37,
   "metadata": {},
   "outputs": [
    {
     "name": "stdout",
     "output_type": "stream",
     "text": [
      "<__main__.SquarePipe object at 0x000001ABF6DFEEC0>\n",
      "10\n",
      "20\n",
      "200\n"
     ]
    }
   ],
   "source": [
    "pipe_1 = SquarePipe(10, 20)\n",
    "print(pipe_1)\n",
    "print(pipe_1.width)\n",
    "print(pipe_1.height)\n",
    "\n",
    "print(pipe_1.cross_section() )\n"
   ]
  },
  {
   "cell_type": "code",
   "execution_count": 48,
   "metadata": {},
   "outputs": [
    {
     "name": "stdout",
     "output_type": "stream",
     "text": [
      "315\n",
      "787.5\n"
     ]
    }
   ],
   "source": [
    "pipe_2 = SquarePipe(21, 15)\n",
    "print(pipe_2.cross_section() )\n",
    "print(pipe_2.flow_rate(2.5) )"
   ]
  },
  {
   "cell_type": "code",
   "execution_count": 47,
   "metadata": {},
   "outputs": [
    {
     "name": "stdout",
     "output_type": "stream",
     "text": [
      "314.0\n",
      "<__main__.RoundPipe object at 0x000001ABF7035F60>\n",
      "<class '__main__.RoundPipe'>\n",
      "785.0\n"
     ]
    }
   ],
   "source": [
    "round_pipe_1 = RoundPipe(10)\n",
    "print(round_pipe_1.cross_section() )\n",
    "print(round_pipe_1)\n",
    "print(type(round_pipe_1))\n",
    "print(round_pipe_1.flow_rate(2.5) )"
   ]
  },
  {
   "cell_type": "markdown",
   "metadata": {},
   "source": [
    "## Inheritance"
   ]
  },
  {
   "cell_type": "code",
   "execution_count": 78,
   "metadata": {},
   "outputs": [],
   "source": [
    "# abstract class a.k.a. inteface\n",
    "class Pipe: # parent\n",
    "    def cross_section(self):\n",
    "        raise NotImplementedError\n",
    "\n",
    "    def flow_rate(self, velocity=2.5) -> float:\n",
    "        return self.cross_section() * velocity\n",
    "    \n",
    "    def __lt__(self, other): # lower than\n",
    "        return self.cross_section() < other.cross_section()\n",
    "    \n",
    "    def __repr__(self) -> str: # typing - https://docs.python.org/3/library/typing.html \n",
    "        return 'This is pipe'\n",
    "\n",
    "\n",
    "class SquarePipe(Pipe): # child \n",
    "    def __init__(self, width, height):\n",
    "        self.width = width\n",
    "        self.height = height\n",
    "    \n",
    "    def cross_section(self):\n",
    "        return self.width * self.height\n",
    "\n",
    "\n",
    "class RoundPipe(Pipe): # child \n",
    "    def __init__(self, radius):\n",
    "        self.radius = radius\n",
    "    \n",
    "    def cross_section(self):\n",
    "        return 3.14 * self.radius ** 2\n",
    "    \n",
    "    def __repr__(self) -> str:\n",
    "        return f'This is a round pipe with radius of {self.radius}'"
   ]
  },
  {
   "cell_type": "code",
   "execution_count": 79,
   "metadata": {},
   "outputs": [
    {
     "name": "stdout",
     "output_type": "stream",
     "text": [
      "314.0\n",
      "This is a round pipe with radius of 10\n",
      "<class '__main__.RoundPipe'>\n",
      "785.0\n"
     ]
    }
   ],
   "source": [
    "round_pipe_1 = RoundPipe(10)\n",
    "print(round_pipe_1.cross_section() )\n",
    "print(round_pipe_1)\n",
    "print(type(round_pipe_1))\n",
    "print(round_pipe_1.flow_rate() )"
   ]
  },
  {
   "cell_type": "code",
   "execution_count": 80,
   "metadata": {},
   "outputs": [
    {
     "name": "stdout",
     "output_type": "stream",
     "text": [
      "315\n",
      "787.5\n"
     ]
    }
   ],
   "source": [
    "pipe_2 = SquarePipe(21, 15)\n",
    "print(pipe_2.cross_section() )\n",
    "print(pipe_2.flow_rate() )"
   ]
  },
  {
   "cell_type": "code",
   "execution_count": 81,
   "metadata": {},
   "outputs": [
    {
     "name": "stdout",
     "output_type": "stream",
     "text": [
      "This is pipe\n"
     ]
    }
   ],
   "source": [
    "abstract_pipe = Pipe()\n",
    "print(abstract_pipe)\n",
    "# abstract_pipe.flow_rate() # error"
   ]
  },
  {
   "cell_type": "code",
   "execution_count": 82,
   "metadata": {},
   "outputs": [
    {
     "data": {
      "text/plain": [
       "True"
      ]
     },
     "execution_count": 82,
     "metadata": {},
     "output_type": "execute_result"
    }
   ],
   "source": [
    "pipe_2 > round_pipe_1"
   ]
  },
  {
   "cell_type": "code",
   "execution_count": 83,
   "metadata": {},
   "outputs": [
    {
     "name": "stdout",
     "output_type": "stream",
     "text": [
      "379.94\n"
     ]
    },
    {
     "data": {
      "text/plain": [
       "False"
      ]
     },
     "execution_count": 83,
     "metadata": {},
     "output_type": "execute_result"
    }
   ],
   "source": [
    "round_pipe_2 = RoundPipe(11)\n",
    "print(round_pipe_2.cross_section())\n",
    "pipe_2 > round_pipe_2"
   ]
  },
  {
   "cell_type": "code",
   "execution_count": null,
   "metadata": {},
   "outputs": [],
   "source": [
    "team_1 = {\n",
    "    'name': 'Rytas',\n",
    "    'city': 'Vilnius'\n",
    "}"
   ]
  }
 ],
 "metadata": {
  "kernelspec": {
   "display_name": "Python 3",
   "language": "python",
   "name": "python3"
  },
  "language_info": {
   "codemirror_mode": {
    "name": "ipython",
    "version": 3
   },
   "file_extension": ".py",
   "mimetype": "text/x-python",
   "name": "python",
   "nbconvert_exporter": "python",
   "pygments_lexer": "ipython3",
   "version": "3.10.2"
  }
 },
 "nbformat": 4,
 "nbformat_minor": 2
}
