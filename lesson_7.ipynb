{
 "cells": [
  {
   "cell_type": "markdown",
   "metadata": {},
   "source": [
    "# Set"
   ]
  },
  {
   "cell_type": "code",
   "execution_count": 2,
   "metadata": {},
   "outputs": [
    {
     "name": "stdout",
     "output_type": "stream",
     "text": [
      "{98, 4, 5, 10, 47}\n",
      "<class 'set'>\n"
     ]
    }
   ],
   "source": [
    "my_set = {10, 47 ,4 ,98,5 ,5 ,5 ,5}\n",
    "print(my_set)\n",
    "print( type(my_set) )"
   ]
  },
  {
   "cell_type": "code",
   "execution_count": 6,
   "metadata": {},
   "outputs": [
    {
     "name": "stdout",
     "output_type": "stream",
     "text": [
      "['Petras', 'Jonas', 'Antanas', 'Ona', 'Jonas', 'Petras', 'Petras', 'Ona', 'Antana']\n",
      "{'Petras', 'Antana', 'Jonas', 'Antanas', 'Ona'}\n",
      "['Petras', 'Antana', 'Jonas', 'Antanas', 'Ona']\n",
      "5\n"
     ]
    }
   ],
   "source": [
    "dalyviai = [ 'Petras', 'Jonas', 'Antanas', 'Ona', 'Jonas', 'Petras', 'Petras', 'Ona', 'Antana']\n",
    "print(dalyviai)\n",
    "unikalus_dalyviai = set( dalyviai )\n",
    "print( unikalus_dalyviai )\n",
    "unikalus_dalyviai_list = list( unikalus_dalyviai )\n",
    "print( unikalus_dalyviai_list )\n",
    "print( len(unikalus_dalyviai) )"
   ]
  },
  {
   "cell_type": "code",
   "execution_count": 7,
   "metadata": {},
   "outputs": [
    {
     "ename": "TypeError",
     "evalue": "'set' object is not subscriptable",
     "output_type": "error",
     "traceback": [
      "\u001b[1;31m---------------------------------------------------------------------------\u001b[0m",
      "\u001b[1;31mTypeError\u001b[0m                                 Traceback (most recent call last)",
      "\u001b[1;32mc:\\Users\\Robotux\\Documents\\Python\\231114PYT036VAK\\lesson_7.ipynb Cell 4\u001b[0m line \u001b[0;36m<module>\u001b[1;34m\u001b[0m\n\u001b[1;32m----> <a href='vscode-notebook-cell:/c%3A/Users/Robotux/Documents/Python/231114PYT036VAK/lesson_7.ipynb#W3sZmlsZQ%3D%3D?line=0'>1</a>\u001b[0m my_set[\u001b[39m0\u001b[39;49m]\n",
      "\u001b[1;31mTypeError\u001b[0m: 'set' object is not subscriptable"
     ]
    }
   ],
   "source": [
    "my_set[0] # error, no indexing"
   ]
  },
  {
   "cell_type": "markdown",
   "metadata": {},
   "source": [
    "set can only have immutable elements"
   ]
  },
  {
   "cell_type": "code",
   "execution_count": 8,
   "metadata": {},
   "outputs": [
    {
     "ename": "TypeError",
     "evalue": "unhashable type: 'list'",
     "output_type": "error",
     "traceback": [
      "\u001b[1;31m---------------------------------------------------------------------------\u001b[0m",
      "\u001b[1;31mTypeError\u001b[0m                                 Traceback (most recent call last)",
      "\u001b[1;32mc:\\Users\\Robotux\\Documents\\Python\\231114PYT036VAK\\lesson_7.ipynb Cell 5\u001b[0m line \u001b[0;36m<module>\u001b[1;34m\u001b[0m\n\u001b[1;32m----> <a href='vscode-notebook-cell:/c%3A/Users/Robotux/Documents/Python/231114PYT036VAK/lesson_7.ipynb#W4sZmlsZQ%3D%3D?line=0'>1</a>\u001b[0m non_valid_set \u001b[39m=\u001b[39m { [\u001b[39m1\u001b[39m,\u001b[39m2\u001b[39m,\u001b[39m3\u001b[39m], \u001b[39m4\u001b[39m, \u001b[39m5\u001b[39m, \u001b[39m6\u001b[39m }\n",
      "\u001b[1;31mTypeError\u001b[0m: unhashable type: 'list'"
     ]
    }
   ],
   "source": [
    "non_valid_set = { [1,2,3], 4, 5, 6 } # error, no list, dict in set"
   ]
  },
  {
   "cell_type": "code",
   "execution_count": 11,
   "metadata": {},
   "outputs": [
    {
     "name": "stdout",
     "output_type": "stream",
     "text": [
      "{98, 4, 5, 10, 47}\n",
      "True\n",
      "False\n",
      "5\n"
     ]
    }
   ],
   "source": [
    "print(my_set)\n",
    "print( 10 in my_set )\n",
    "print( 50 in my_set )\n",
    "print( len( my_set ) )"
   ]
  },
  {
   "cell_type": "code",
   "execution_count": 25,
   "metadata": {},
   "outputs": [
    {
     "name": "stdout",
     "output_type": "stream",
     "text": [
      "{False, True, 98, 4, 5, 'a', ('22', '22'), 10, 47}\n",
      "{False, True, 98, 4, 5, 'a', ('22', '22'), 100, 10, 47}\n",
      "{False, True, 98, 4, 5, 'a', ('22', '22'), 100, 10, 47}\n",
      "{False, True, 98, 4, 5, 'a', ('22', '22'), 100, 7, 10, -50, 47}\n",
      "{False, True, 98, 4, 5, 'a', ('22', '22'), 100, 7, 10, -51, -50, 47}\n",
      "{False, True, 98, 4, 5, 'a', ('22', '22'), 100, 7, 10, -51, -50, 47, (100, 1)}\n",
      "{False, True, 98, 4, 5, 'a', ('22', '22'), 100, 7, 10, -51, -50, 47, (100, 2), (100, 1)}\n",
      "{False, True, 98, 4, 5, 'a', ('22', '22'), 100, 7, 10, -52, -51, -50, 47, (100, 2), (100, 1)}\n"
     ]
    }
   ],
   "source": [
    "my_set = {10, 47 ,4 ,98,5 , 'a', True, False, ('22', '22') }\n",
    "print(my_set)\n",
    "my_set.add( 100 )\n",
    "print(my_set)\n",
    "my_set.add( 100 )\n",
    "print(my_set)\n",
    "\n",
    "my_set.update( [100, -50 , 7] )\n",
    "print(my_set)\n",
    "my_set.update( (100, -51 , 7) )\n",
    "print(my_set)\n",
    "my_set.update( ( (100, 1), -51 , 7) )\n",
    "print(my_set)\n",
    "my_set.add( (100, 2) )\n",
    "print(my_set)\n",
    "my_set.update( {100, -52 , 7} )\n",
    "print(my_set)\n",
    "# my_set.add( {'raktas': 'verte'} )# error, no list, dict in set\n"
   ]
  },
  {
   "cell_type": "code",
   "execution_count": 27,
   "metadata": {},
   "outputs": [
    {
     "name": "stdout",
     "output_type": "stream",
     "text": [
      "{False, True, 4, 5, 'a', 7, 10, -52, -51, -50, (100, 2), 98, ('22', '22'), 100, 47, (100, 1)}\n",
      "{False, True, 4, 5, 'a', 7, 10, -52, -51, -50, (100, 2), 98, ('22', '22'), 47, (100, 1)}\n"
     ]
    },
    {
     "ename": "KeyError",
     "evalue": "100",
     "output_type": "error",
     "traceback": [
      "\u001b[1;31m---------------------------------------------------------------------------\u001b[0m",
      "\u001b[1;31mKeyError\u001b[0m                                  Traceback (most recent call last)",
      "\u001b[1;32mc:\\Users\\Robotux\\Documents\\Python\\231114PYT036VAK\\lesson_7.ipynb Cell 9\u001b[0m line \u001b[0;36m<module>\u001b[1;34m\u001b[0m\n\u001b[0;32m      <a href='vscode-notebook-cell:/c%3A/Users/Robotux/Documents/Python/231114PYT036VAK/lesson_7.ipynb#X11sZmlsZQ%3D%3D?line=2'>3</a>\u001b[0m my_set\u001b[39m.\u001b[39mremove( \u001b[39m100\u001b[39m )\n\u001b[0;32m      <a href='vscode-notebook-cell:/c%3A/Users/Robotux/Documents/Python/231114PYT036VAK/lesson_7.ipynb#X11sZmlsZQ%3D%3D?line=3'>4</a>\u001b[0m \u001b[39mprint\u001b[39m(my_set)\n\u001b[1;32m----> <a href='vscode-notebook-cell:/c%3A/Users/Robotux/Documents/Python/231114PYT036VAK/lesson_7.ipynb#X11sZmlsZQ%3D%3D?line=4'>5</a>\u001b[0m my_set\u001b[39m.\u001b[39;49mremove( \u001b[39m100\u001b[39;49m )\n\u001b[0;32m      <a href='vscode-notebook-cell:/c%3A/Users/Robotux/Documents/Python/231114PYT036VAK/lesson_7.ipynb#X11sZmlsZQ%3D%3D?line=5'>6</a>\u001b[0m \u001b[39mprint\u001b[39m(my_set)\n",
      "\u001b[1;31mKeyError\u001b[0m: 100"
     ]
    }
   ],
   "source": [
    "my_set = {False, True, 98, 4, 5, 'a', ('22', '22'), 100, 7, 10, -52, -51, -50, 47, (100, 2), (100, 1)}\n",
    "print(my_set)\n",
    "my_set.remove( 100 )\n",
    "print(my_set)\n",
    "my_set.remove( 100 ) # error\n",
    "print(my_set)"
   ]
  },
  {
   "cell_type": "code",
   "execution_count": 37,
   "metadata": {},
   "outputs": [
    {
     "name": "stdout",
     "output_type": "stream",
     "text": [
      "{False, True, 4, 5, 'a', 7, 10, -52, -51, -50, (100, 2), 98, ('22', '22'), 100, 47, (100, 1)}\n",
      "{False, True, 4, 5, 'a', 7, 10, -52, -51, -50, (100, 2), 98, ('22', '22'), 47, (100, 1)}\n",
      "{False, True, 4, 5, 'a', 7, 10, -52, -51, -50, (100, 2), 98, ('22', '22'), 47, (100, 1)}\n",
      "False\n",
      "{True, 4, 5, 'a', 7, 10, -52, -51, -50, (100, 2), 98, ('22', '22'), 47, (100, 1)}\n",
      "True\n",
      "{4, 5, 'a', 7, 10, -52, -51, -50, (100, 2), 98, ('22', '22'), 47, (100, 1)}\n",
      "4\n",
      "{5, 'a', 7, 10, -52, -51, -50, (100, 2), 98, ('22', '22'), 47, (100, 1)}\n",
      "5\n",
      "{'a', 7, 10, -52, -51, -50, (100, 2), 98, ('22', '22'), 47, (100, 1)}\n"
     ]
    }
   ],
   "source": [
    "my_set = {False, True, 98, 4, 5, 'a', ('22', '22'), 100, 7, 10, -52, -51, -50, 47, (100, 2), (100, 1)}\n",
    "print(my_set)\n",
    "my_set.discard( 100 )\n",
    "print(my_set)\n",
    "my_set.discard( 100 ) # no error\n",
    "my_set.discard( 100 ) # no error\n",
    "my_set.discard( 100 ) # no error\n",
    "# my_set = {100}\n",
    "print(my_set)\n",
    "print( my_set.pop() )\n",
    "print(my_set)\n",
    "print( my_set.pop() )\n",
    "print(my_set)\n",
    "print( my_set.pop() )\n",
    "print(my_set)\n",
    "popped_value = my_set.pop()\n",
    "print( popped_value )\n",
    "print(my_set)\n"
   ]
  },
  {
   "cell_type": "code",
   "execution_count": 42,
   "metadata": {},
   "outputs": [
    {
     "name": "stdout",
     "output_type": "stream",
     "text": [
      "union {1, 2, 3, 4, 6, 7, 8, 9, 10}\n",
      "diff_1 {1, 2, 3, 4}\n",
      "diff_2 {8, 9, 10, 7}\n",
      "intersection {6}\n"
     ]
    }
   ],
   "source": [
    "number_set  = { 1,2,3,4, 6}\n",
    "number_set_2 = {6,7,8,9,10}\n",
    "print('union', number_set.union( number_set_2 ) )\n",
    "print('diff_1', number_set.difference( number_set_2 ) )\n",
    "print('diff_2', number_set_2.difference( number_set ) )\n",
    "print('intersection', number_set.intersection( number_set_2 ) )\n"
   ]
  },
  {
   "cell_type": "code",
   "execution_count": 46,
   "metadata": {},
   "outputs": [
    {
     "name": "stdout",
     "output_type": "stream",
     "text": [
      "small_set.issubset( big_set ): True\n",
      "small_set_2.issubset( big_set ): False\n",
      "big_set.issuperset( small_set ): True\n",
      "big_set.issuperset( small_set_2 ): False\n"
     ]
    }
   ],
   "source": [
    "small_set = {4,5}\n",
    "small_set_2 = {2, 4,5}\n",
    "big_set = {1,3,4,5,6,7,8}\n",
    "\n",
    "print('small_set.issubset( big_set ):', small_set.issubset( big_set ))\n",
    "print('small_set_2.issubset( big_set ):', small_set_2.issubset( big_set ))\n",
    "\n",
    "print('big_set.issuperset( small_set ):', big_set.issuperset( small_set ))\n",
    "print('big_set.issuperset( small_set_2 ):', big_set.issuperset( small_set_2 ))\n"
   ]
  },
  {
   "cell_type": "code",
   "execution_count": 47,
   "metadata": {},
   "outputs": [
    {
     "name": "stdout",
     "output_type": "stream",
     "text": [
      "{'banana', 'pineapple', 'apple', 'orange', 'mango'}\n"
     ]
    }
   ],
   "source": [
    "fruits = set( ['apple', 'banana', 'orange', 'pineapple', 'mango'] )\n",
    "print( fruits )"
   ]
  },
  {
   "cell_type": "code",
   "execution_count": 49,
   "metadata": {},
   "outputs": [
    {
     "name": "stdout",
     "output_type": "stream",
     "text": [
      "(1, 2, 3)\n",
      "(1, 2, 3)\n",
      "1\n",
      "2\n",
      "3\n"
     ]
    }
   ],
   "source": [
    "this_is_tuple = (1,2,3)\n",
    "this_is_also_tuple = 1,2,3\n",
    "print( this_is_tuple )\n",
    "print( this_is_also_tuple )\n",
    "\n",
    "a, b, c = 1,2,3 \n",
    "print(a)\n",
    "print(b)\n",
    "print(c)"
   ]
  },
  {
   "cell_type": "code",
   "execution_count": 50,
   "metadata": {},
   "outputs": [
    {
     "name": "stdout",
     "output_type": "stream",
     "text": [
      "{'bannana', 'apple', 'cherry'}\n",
      "{('nauja_reiksme', 5), 'bannana', 'apple', 'cherry'}\n"
     ]
    }
   ],
   "source": [
    "fruits = {\"apple\",\"bannana\",\"cherry\"}\n",
    "print( fruits )\n",
    "fruits.add( (\"nauja_reiksme\", 5) )\n",
    "print( fruits )\n"
   ]
  },
  {
   "cell_type": "code",
   "execution_count": 52,
   "metadata": {},
   "outputs": [
    {
     "name": "stdout",
     "output_type": "stream",
     "text": [
      "{'bannana', 'apple', 'cherry'}\n",
      "{'bannana', 'cherry'}\n",
      "{'bannana', 'watermelon', 'cherry'}\n"
     ]
    }
   ],
   "source": [
    "fruits = {\"apple\",\"bannana\",\"cherry\"}\n",
    "print( fruits )\n",
    "\n",
    "fruits.discard( \"apple\" )\n",
    "print( fruits )\n",
    "fruits.add('watermelon')\n",
    "print( fruits )"
   ]
  },
  {
   "cell_type": "code",
   "execution_count": 54,
   "metadata": {},
   "outputs": [
    {
     "name": "stdout",
     "output_type": "stream",
     "text": [
      "['bannana', 'apple', 'cherry']\n",
      "['bannana', 'watermelon', 'cherry']\n",
      "{'cherry', 'bannana', 'watermelon'}\n"
     ]
    }
   ],
   "source": [
    "fruits = {\"apple\",\"bannana\",\"cherry\"}\n",
    "fruits_list = list( fruits )\n",
    "print( fruits_list )\n",
    "fruits_list[1] = 'watermelon'\n",
    "print( fruits_list )\n",
    "fruits = set( fruits_list )\n",
    "print( fruits )"
   ]
  },
  {
   "cell_type": "code",
   "execution_count": 58,
   "metadata": {},
   "outputs": [
    {
     "name": "stdout",
     "output_type": "stream",
     "text": [
      "{'bannana', 'apple', 'watermelon', 'cherry'}\n",
      "{'bannana', 'C', 'watermelon', 'cherry', 'D', 'E', 'apple', 'A', 'B'}\n",
      "{'bannana', 'C', 'watermelon', 'cherry', 'D', 'E', 'A', 'B'}\n",
      "8\n",
      "8\n"
     ]
    }
   ],
   "source": [
    "fruits = {\"apple\",\"bannana\",\"cherry\"}\n",
    "fruits.add( 'watermelon' )\n",
    "\n",
    "print( fruits )\n",
    "fruits.update( (\"A\",\"B\",\"C\", \"D\", \"E\") )\n",
    "print( fruits )\n",
    "fruits.discard( \"apple\" )\n",
    "print( fruits )\n",
    "print( len(fruits) )\n",
    "fruits.add( 'watermelon' )\n",
    "print( len(fruits) )"
   ]
  },
  {
   "cell_type": "markdown",
   "metadata": {},
   "source": [
    "# Functions"
   ]
  },
  {
   "cell_type": "code",
   "execution_count": 66,
   "metadata": {},
   "outputs": [],
   "source": [
    "# def - define\n",
    "def hi():\n",
    "    print('Hello beutiful World')"
   ]
  },
  {
   "cell_type": "code",
   "execution_count": 67,
   "metadata": {},
   "outputs": [
    {
     "name": "stdout",
     "output_type": "stream",
     "text": [
      "Hello beutiful World\n",
      "Hello beutiful World\n",
      "Hello beutiful World\n"
     ]
    }
   ],
   "source": [
    "hi()\n",
    "hi()\n",
    "hi()\n",
    "\n",
    "# hi(5) # error"
   ]
  },
  {
   "cell_type": "code",
   "execution_count": 69,
   "metadata": {},
   "outputs": [
    {
     "data": {
      "text/plain": [
       "<function __main__.hi()>"
      ]
     },
     "execution_count": 69,
     "metadata": {},
     "output_type": "execute_result"
    }
   ],
   "source": [
    "# does not run function without ()\n",
    "hi"
   ]
  },
  {
   "cell_type": "code",
   "execution_count": 74,
   "metadata": {},
   "outputs": [
    {
     "ename": "NameError",
     "evalue": "name 'hi_3' is not defined",
     "output_type": "error",
     "traceback": [
      "\u001b[1;31m---------------------------------------------------------------------------\u001b[0m",
      "\u001b[1;31mNameError\u001b[0m                                 Traceback (most recent call last)",
      "\u001b[1;32mc:\\Users\\Robotux\\Documents\\Python\\231114PYT036VAK\\lesson_7.ipynb Cell 23\u001b[0m line \u001b[0;36m<module>\u001b[1;34m\u001b[0m\n\u001b[1;32m----> <a href='vscode-notebook-cell:/c%3A/Users/Robotux/Documents/Python/231114PYT036VAK/lesson_7.ipynb#X31sZmlsZQ%3D%3D?line=0'>1</a>\u001b[0m hi_3()\n\u001b[0;32m      <a href='vscode-notebook-cell:/c%3A/Users/Robotux/Documents/Python/231114PYT036VAK/lesson_7.ipynb#X31sZmlsZQ%3D%3D?line=2'>3</a>\u001b[0m \u001b[39mdef\u001b[39;00m \u001b[39mhi_3\u001b[39m():\n\u001b[0;32m      <a href='vscode-notebook-cell:/c%3A/Users/Robotux/Documents/Python/231114PYT036VAK/lesson_7.ipynb#X31sZmlsZQ%3D%3D?line=3'>4</a>\u001b[0m     \u001b[39mprint\u001b[39m(\u001b[39m'\u001b[39m\u001b[39mHello beutiful World\u001b[39m\u001b[39m'\u001b[39m)\n",
      "\u001b[1;31mNameError\u001b[0m: name 'hi_3' is not defined"
     ]
    }
   ],
   "source": [
    "hi_3()\n",
    "\n",
    "def hi_3():\n",
    "    print('Hello beutiful World')"
   ]
  },
  {
   "cell_type": "code",
   "execution_count": 72,
   "metadata": {},
   "outputs": [
    {
     "ename": "NameError",
     "evalue": "name 'x' is not defined",
     "output_type": "error",
     "traceback": [
      "\u001b[1;31m---------------------------------------------------------------------------\u001b[0m",
      "\u001b[1;31mNameError\u001b[0m                                 Traceback (most recent call last)",
      "\u001b[1;32mc:\\Users\\Robotux\\Documents\\Python\\231114PYT036VAK\\lesson_7.ipynb Cell 24\u001b[0m line \u001b[0;36m<module>\u001b[1;34m\u001b[0m\n\u001b[1;32m----> <a href='vscode-notebook-cell:/c%3A/Users/Robotux/Documents/Python/231114PYT036VAK/lesson_7.ipynb#X32sZmlsZQ%3D%3D?line=0'>1</a>\u001b[0m \u001b[39mprint\u001b[39m(x)\n\u001b[0;32m      <a href='vscode-notebook-cell:/c%3A/Users/Robotux/Documents/Python/231114PYT036VAK/lesson_7.ipynb#X32sZmlsZQ%3D%3D?line=2'>3</a>\u001b[0m x \u001b[39m=\u001b[39m \u001b[39m5\u001b[39m\n",
      "\u001b[1;31mNameError\u001b[0m: name 'x' is not defined"
     ]
    }
   ],
   "source": [
    "print(x)\n",
    "\n",
    "x = 5"
   ]
  },
  {
   "cell_type": "markdown",
   "metadata": {},
   "source": [
    "## functions with mandatory/possitional arguments"
   ]
  },
  {
   "cell_type": "code",
   "execution_count": 75,
   "metadata": {},
   "outputs": [],
   "source": [
    "\n",
    "def hello_to( name ):\n",
    "    print( f'Hello {name}!' )"
   ]
  },
  {
   "cell_type": "code",
   "execution_count": 81,
   "metadata": {},
   "outputs": [
    {
     "name": "stdout",
     "output_type": "stream",
     "text": [
      "Hello Petras!\n",
      "Hello Jonas!\n",
      "Hello Antanas!\n",
      "Hello 5!\n",
      "Hello [1, 2, 3]!\n"
     ]
    }
   ],
   "source": [
    "hello_to('Petras')\n",
    "hello_to('Jonas')\n",
    "hello_to('Antanas')\n",
    "# hello_to()# error\n",
    "hello_to( 5 ) # no error\n",
    "hello_to( [1,2,3] ) # no error"
   ]
  },
  {
   "cell_type": "code",
   "execution_count": 91,
   "metadata": {},
   "outputs": [],
   "source": [
    "def substract( number_1, number_2 ):\n",
    "    aa = number_1 - number_2\n",
    "    print( aa )\n",
    "    # print( number_1 - number_2 )"
   ]
  },
  {
   "cell_type": "code",
   "execution_count": 94,
   "metadata": {},
   "outputs": [
    {
     "name": "stdout",
     "output_type": "stream",
     "text": [
      "6\n",
      "-5\n",
      "-5\n",
      "None\n",
      "-5\n",
      "None\n"
     ]
    }
   ],
   "source": [
    "# substract()# error\n",
    "substract( 11, 5 )\n",
    "substract( 0, 5 )\n",
    "print( substract( 0, 5 ) )\n",
    "number = substract( 0, 5 )\n",
    "print( number )\n",
    "# number_1 = 11\n",
    "# substract( )\n",
    "\n"
   ]
  },
  {
   "cell_type": "code",
   "execution_count": 99,
   "metadata": {},
   "outputs": [],
   "source": [
    "def substract( number_1, number_2 ):\n",
    "    result = number_1 - number_2\n",
    "    return result\n",
    "    print('THIS will not be printed')"
   ]
  },
  {
   "cell_type": "code",
   "execution_count": 103,
   "metadata": {},
   "outputs": [
    {
     "ename": "SyntaxError",
     "evalue": "positional argument follows keyword argument (2406906721.py, line 8)",
     "output_type": "error",
     "traceback": [
      "\u001b[1;36m  Input \u001b[1;32mIn [103]\u001b[1;36m\u001b[0m\n\u001b[1;33m    print( substract( number_1=0, 5 ) ) # error\u001b[0m\n\u001b[1;37m                                    ^\u001b[0m\n\u001b[1;31mSyntaxError\u001b[0m\u001b[1;31m:\u001b[0m positional argument follows keyword argument\n"
     ]
    }
   ],
   "source": [
    "print( substract( 11, 5 ) )\n",
    "print( substract( 0, 5 ) )\n",
    "number = substract( 0, 5 )\n",
    "print('number is:', number )\n",
    "print( substract( number_2=5, number_1=0 ) )\n",
    "print( substract( number_1=0, number_2=5 ) )\n",
    "print( substract( 0, number_2=5 ) )\n",
    "# print( substract( number_1=0, 5 ) ) # error\n"
   ]
  },
  {
   "cell_type": "markdown",
   "metadata": {},
   "source": [
    "## Optional arguments"
   ]
  },
  {
   "cell_type": "code",
   "execution_count": 104,
   "metadata": {},
   "outputs": [],
   "source": [
    "def substract( number_1, number_2=10 ):\n",
    "    result = number_1 - number_2\n",
    "    return result\n",
    "    print('THIS will not be printed')"
   ]
  },
  {
   "cell_type": "code",
   "execution_count": 110,
   "metadata": {},
   "outputs": [
    {
     "name": "stdout",
     "output_type": "stream",
     "text": [
      "6\n",
      "-5\n",
      "1\n",
      "12\n",
      "19\n",
      "-19\n"
     ]
    }
   ],
   "source": [
    "print( substract( 11, 5 ) )\n",
    "print( substract( 0, 5 ) )\n",
    "print( substract( 11 ) )\n",
    "print( substract( 22 ) )\n",
    "print( substract( number_1=22, number_2=3 ) )\n",
    "print( substract( number_2=22, number_1=3 ) )"
   ]
  },
  {
   "cell_type": "code",
   "execution_count": 108,
   "metadata": {},
   "outputs": [
    {
     "ename": "SyntaxError",
     "evalue": "non-default argument follows default argument (1053926015.py, line 2)",
     "output_type": "error",
     "traceback": [
      "\u001b[1;36m  Input \u001b[1;32mIn [108]\u001b[1;36m\u001b[0m\n\u001b[1;33m    def substract(num_2=10, num_1):\u001b[0m\n\u001b[1;37m                            ^\u001b[0m\n\u001b[1;31mSyntaxError\u001b[0m\u001b[1;31m:\u001b[0m non-default argument follows default argument\n"
     ]
    }
   ],
   "source": [
    "# Neveiks. Pirma eina butinieji argumentai\n",
    "# def substract(num_2=10, num_1):\n",
    "#     result = num_1 - num_2\n",
    "#     return result"
   ]
  },
  {
   "cell_type": "code",
   "execution_count": 111,
   "metadata": {},
   "outputs": [
    {
     "ename": "TypeError",
     "evalue": "unsupported operand type(s) for -: 'str' and 'str'",
     "output_type": "error",
     "traceback": [
      "\u001b[1;31m---------------------------------------------------------------------------\u001b[0m",
      "\u001b[1;31mTypeError\u001b[0m                                 Traceback (most recent call last)",
      "\u001b[1;32mc:\\Users\\Robotux\\Documents\\Python\\231114PYT036VAK\\lesson_7.ipynb Cell 36\u001b[0m line \u001b[0;36m<module>\u001b[1;34m\u001b[0m\n\u001b[1;32m----> <a href='vscode-notebook-cell:/c%3A/Users/Robotux/Documents/Python/231114PYT036VAK/lesson_7.ipynb#X50sZmlsZQ%3D%3D?line=0'>1</a>\u001b[0m \u001b[39mprint\u001b[39m( substract( \u001b[39m'\u001b[39;49m\u001b[39m0\u001b[39;49m\u001b[39m'\u001b[39;49m, \u001b[39m'\u001b[39;49m\u001b[39m5\u001b[39;49m\u001b[39m'\u001b[39;49m ) )\n",
      "\u001b[1;32mc:\\Users\\Robotux\\Documents\\Python\\231114PYT036VAK\\lesson_7.ipynb Cell 36\u001b[0m line \u001b[0;36msubstract\u001b[1;34m(number_1, number_2)\u001b[0m\n\u001b[0;32m      <a href='vscode-notebook-cell:/c%3A/Users/Robotux/Documents/Python/231114PYT036VAK/lesson_7.ipynb#X50sZmlsZQ%3D%3D?line=0'>1</a>\u001b[0m \u001b[39mdef\u001b[39;00m \u001b[39msubstract\u001b[39m( number_1, number_2\u001b[39m=\u001b[39m\u001b[39m10\u001b[39m ):\n\u001b[1;32m----> <a href='vscode-notebook-cell:/c%3A/Users/Robotux/Documents/Python/231114PYT036VAK/lesson_7.ipynb#X50sZmlsZQ%3D%3D?line=1'>2</a>\u001b[0m     result \u001b[39m=\u001b[39m number_1 \u001b[39m-\u001b[39;49m number_2\n\u001b[0;32m      <a href='vscode-notebook-cell:/c%3A/Users/Robotux/Documents/Python/231114PYT036VAK/lesson_7.ipynb#X50sZmlsZQ%3D%3D?line=2'>3</a>\u001b[0m     \u001b[39mreturn\u001b[39;00m result\n\u001b[0;32m      <a href='vscode-notebook-cell:/c%3A/Users/Robotux/Documents/Python/231114PYT036VAK/lesson_7.ipynb#X50sZmlsZQ%3D%3D?line=3'>4</a>\u001b[0m     \u001b[39mprint\u001b[39m(\u001b[39m'\u001b[39m\u001b[39mTHIS will not be printed\u001b[39m\u001b[39m'\u001b[39m)\n",
      "\u001b[1;31mTypeError\u001b[0m: unsupported operand type(s) for -: 'str' and 'str'"
     ]
    }
   ],
   "source": [
    "print( substract( '0', '5' ) )"
   ]
  },
  {
   "cell_type": "code",
   "execution_count": 112,
   "metadata": {},
   "outputs": [],
   "source": [
    "def substract_check(num_1, num_2=10):\n",
    "    if not isinstance(num_1, int):\n",
    "        print('num_1 is not int.')\n",
    "        return \n",
    "        # return None\n",
    "    result = num_1 - num_2\n",
    "    return result"
   ]
  },
  {
   "cell_type": "code",
   "execution_count": 117,
   "metadata": {},
   "outputs": [
    {
     "name": "stdout",
     "output_type": "stream",
     "text": [
      "6\n",
      "num_1 is not int.\n",
      "None\n"
     ]
    }
   ],
   "source": [
    "print (substract_check( 11, 5 ) )\n",
    "print (substract_check( '11', 5 ) )\n",
    "# print (substract_check( 11, '5' ) ) # error, no handling for 2nd argument"
   ]
  },
  {
   "cell_type": "markdown",
   "metadata": {},
   "source": [
    "## args"
   ]
  },
  {
   "cell_type": "code",
   "execution_count": 118,
   "metadata": {},
   "outputs": [],
   "source": [
    "def substract_all( num_1, num_2=10, num_3=5 ):\n",
    "    result = num_1 - num_2 - num_3\n",
    "    return result"
   ]
  },
  {
   "cell_type": "code",
   "execution_count": 121,
   "metadata": {},
   "outputs": [
    {
     "name": "stdout",
     "output_type": "stream",
     "text": [
      "5\n",
      "-5\n"
     ]
    },
    {
     "ename": "TypeError",
     "evalue": "substract_all() takes from 1 to 3 positional arguments but 4 were given",
     "output_type": "error",
     "traceback": [
      "\u001b[1;31m---------------------------------------------------------------------------\u001b[0m",
      "\u001b[1;31mTypeError\u001b[0m                                 Traceback (most recent call last)",
      "\u001b[1;32mc:\\Users\\Robotux\\Documents\\Python\\231114PYT036VAK\\lesson_7.ipynb Cell 41\u001b[0m line \u001b[0;36m<module>\u001b[1;34m\u001b[0m\n\u001b[0;32m      <a href='vscode-notebook-cell:/c%3A/Users/Robotux/Documents/Python/231114PYT036VAK/lesson_7.ipynb#X53sZmlsZQ%3D%3D?line=0'>1</a>\u001b[0m \u001b[39mprint\u001b[39m( substract_all(\u001b[39m10\u001b[39m,\u001b[39m2\u001b[39m,\u001b[39m3\u001b[39m) )\n\u001b[0;32m      <a href='vscode-notebook-cell:/c%3A/Users/Robotux/Documents/Python/231114PYT036VAK/lesson_7.ipynb#X53sZmlsZQ%3D%3D?line=1'>2</a>\u001b[0m \u001b[39mprint\u001b[39m( substract_all(\u001b[39m10\u001b[39m) )\n\u001b[1;32m----> <a href='vscode-notebook-cell:/c%3A/Users/Robotux/Documents/Python/231114PYT036VAK/lesson_7.ipynb#X53sZmlsZQ%3D%3D?line=2'>3</a>\u001b[0m \u001b[39mprint\u001b[39m( substract_all(\u001b[39m10\u001b[39;49m,\u001b[39m2\u001b[39;49m,\u001b[39m3\u001b[39;49m,\u001b[39m50\u001b[39;49m) )\n",
      "\u001b[1;31mTypeError\u001b[0m: substract_all() takes from 1 to 3 positional arguments but 4 were given"
     ]
    }
   ],
   "source": [
    "print( substract_all(10,2,3) )\n",
    "print( substract_all(10) )\n",
    "# print( substract_all(10,2,3,50) ) # error, too many arguments"
   ]
  },
  {
   "cell_type": "code",
   "execution_count": 131,
   "metadata": {},
   "outputs": [],
   "source": [
    "def substract_all( *args ): # *args (arguments) - tuple\n",
    "    # print( args )\n",
    "    if len(args) == 0:\n",
    "        return None\n",
    "    \n",
    "    result = args[0]\n",
    "    for num in args[1:]:\n",
    "        result -= num\n",
    "        # result = result - num\n",
    "    \n",
    "    return result"
   ]
  },
  {
   "cell_type": "code",
   "execution_count": 132,
   "metadata": {},
   "outputs": [
    {
     "name": "stdout",
     "output_type": "stream",
     "text": [
      "None\n",
      "5\n",
      "-5\n",
      "-3380\n"
     ]
    }
   ],
   "source": [
    "print( substract_all() )\n",
    "print( substract_all(5) )\n",
    "print( substract_all(5, 10) )\n",
    "print( substract_all(5, 10, 15,564,984,64,64,897,3,784) )\n",
    "\n"
   ]
  },
  {
   "cell_type": "markdown",
   "metadata": {},
   "source": [
    "## kwargs - key arguments"
   ]
  },
  {
   "cell_type": "code",
   "execution_count": 133,
   "metadata": {},
   "outputs": [],
   "source": [
    "def kwargs_f( **kwargs ):\n",
    "    print(kwargs)"
   ]
  },
  {
   "cell_type": "code",
   "execution_count": 138,
   "metadata": {},
   "outputs": [
    {
     "name": "stdout",
     "output_type": "stream",
     "text": [
      "{}\n",
      "{'a': 5}\n",
      "{'a': 5, 'name': 'Darius', 'is_teacher': True}\n"
     ]
    }
   ],
   "source": [
    "kwargs_f()\n",
    "# kwargs_f(5) # error\n",
    "kwargs_f( a=5 )\n",
    "kwargs_f( a=5, name='Darius', is_teacher=True )"
   ]
  },
  {
   "cell_type": "code",
   "execution_count": 139,
   "metadata": {},
   "outputs": [],
   "source": [
    "def function_1(a=1, b=2, c=3):\n",
    "    print(a, b, c)\n",
    "\n",
    "\n",
    "def function_2(number, **kwargs):\n",
    "    print(f'number is {number}')\n",
    "    function_1(**kwargs)\n"
   ]
  },
  {
   "cell_type": "code",
   "execution_count": 142,
   "metadata": {},
   "outputs": [
    {
     "name": "stdout",
     "output_type": "stream",
     "text": [
      "number is 100\n",
      "1 2 3\n",
      "number is 100\n",
      "1 5 3\n"
     ]
    }
   ],
   "source": [
    "# function_2() # error\n",
    "function_2(100)\n",
    "function_2(100, b=5)"
   ]
  },
  {
   "cell_type": "code",
   "execution_count": 146,
   "metadata": {},
   "outputs": [],
   "source": [
    "def kwargs_f( **kwargs ):\n",
    "    # print(kwargs)\n",
    "    for k, v in kwargs.items(): # k - key, v - value\n",
    "        if 'name' in k:\n",
    "            print(f'Hello {v}!')\n",
    "        print(f'key \"{k}\" has a value of {v}')"
   ]
  },
  {
   "cell_type": "code",
   "execution_count": 148,
   "metadata": {},
   "outputs": [
    {
     "name": "stdout",
     "output_type": "stream",
     "text": [
      "Hello Darius!\n",
      "key \"name\" has a value of Darius\n",
      "key \"is_teacher\" has a value of True\n",
      "Hello Jonas!\n",
      "key \"name_2\" has a value of Jonas\n"
     ]
    }
   ],
   "source": [
    "kwargs_f()\n",
    "kwargs_f( name='Darius', is_teacher=True, name_2='Jonas' )"
   ]
  },
  {
   "cell_type": "code",
   "execution_count": null,
   "metadata": {},
   "outputs": [],
   "source": []
  }
 ],
 "metadata": {
  "kernelspec": {
   "display_name": "Python 3",
   "language": "python",
   "name": "python3"
  },
  "language_info": {
   "codemirror_mode": {
    "name": "ipython",
    "version": 3
   },
   "file_extension": ".py",
   "mimetype": "text/x-python",
   "name": "python",
   "nbconvert_exporter": "python",
   "pygments_lexer": "ipython3",
   "version": "3.10.2"
  }
 },
 "nbformat": 4,
 "nbformat_minor": 2
}
