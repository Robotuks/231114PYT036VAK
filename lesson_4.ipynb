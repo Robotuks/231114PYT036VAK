{
 "cells": [
  {
   "cell_type": "markdown",
   "metadata": {},
   "source": [
    "# Variable names\n",
    "\n",
    "Style Guide for Python Code  \n",
    "https://peps.python.org/pep-0008 "
   ]
  },
  {
   "cell_type": "code",
   "execution_count": 51,
   "metadata": {},
   "outputs": [
    {
     "name": "stdout",
     "output_type": "stream",
     "text": [
      "10\n"
     ]
    }
   ],
   "source": [
    "number = 4\n",
    "# 1st_number = 5 # Error\n",
    "first_number = 5 \n",
    "number_1 = 5\n",
    "# 1_number = 5 # Error\n",
    "\n",
    "# len = 10 # DON'T DO THIS. len is a built-in function\n",
    "\n",
    "MY_CONSTANT = 10 # Constants are usually written in all caps\n",
    "print(MY_CONSTANT)\n",
    "# MY_CONSTANT = 20 # You can change the value of a constant, but it's not recommended\n",
    "# print(MY_CONSTANT)"
   ]
  },
  {
   "cell_type": "markdown",
   "metadata": {},
   "source": [
    "# Bool (continuation)"
   ]
  },
  {
   "cell_type": "markdown",
   "metadata": {},
   "source": [
    "\n",
    "<img src=\"truth_table.webp\" alt=\"drawing\" width=\"400\"/>"
   ]
  },
  {
   "cell_type": "code",
   "execution_count": 52,
   "metadata": {},
   "outputs": [
    {
     "name": "stdout",
     "output_type": "stream",
     "text": [
      "False\n",
      "True\n"
     ]
    }
   ],
   "source": [
    "print( not True)\n",
    "print( not False)"
   ]
  },
  {
   "cell_type": "code",
   "execution_count": 53,
   "metadata": {},
   "outputs": [
    {
     "name": "stdout",
     "output_type": "stream",
     "text": [
      "and\n",
      "True\n",
      "False\n",
      "False\n",
      "or\n",
      "True\n",
      "True\n",
      "False\n"
     ]
    }
   ],
   "source": [
    "print( 'and' )\n",
    "print( 20 > 10 and 10 > 5)\n",
    "print( 20 > 10 and 10 < 5)\n",
    "print( 20 > 100 and 10 < 5)\n",
    "\n",
    "print( 'or' )\n",
    "print( 20 > 10 or 10 > 5)\n",
    "print( 20 > 10 or 10 < 5)\n",
    "print( 20 > 100 or 10 < 5)"
   ]
  },
  {
   "cell_type": "code",
   "execution_count": 54,
   "metadata": {},
   "outputs": [
    {
     "data": {
      "text/plain": [
       "True"
      ]
     },
     "execution_count": 54,
     "metadata": {},
     "output_type": "execute_result"
    }
   ],
   "source": [
    "not True and 5>22 or bool('spam') or ('a' in 'banana')\n",
    "False and False or True or True\n",
    "False or True or True"
   ]
  },
  {
   "cell_type": "code",
   "execution_count": 55,
   "metadata": {},
   "outputs": [
    {
     "data": {
      "text/plain": [
       "True"
      ]
     },
     "execution_count": 55,
     "metadata": {},
     "output_type": "execute_result"
    }
   ],
   "source": [
    "('a' in 'banana')"
   ]
  },
  {
   "cell_type": "markdown",
   "metadata": {},
   "source": [
    "# If condition"
   ]
  },
  {
   "cell_type": "code",
   "execution_count": 56,
   "metadata": {},
   "outputs": [
    {
     "name": "stdout",
     "output_type": "stream",
     "text": [
      "You are an adult\n",
      "You can vote\n",
      "end\n"
     ]
    }
   ],
   "source": [
    "\n",
    "age = 18\n",
    "# if <salyga>:\n",
    "\n",
    "if age >= 18:\n",
    "    print('You are an adult')\n",
    "\n",
    "    print('You can vote')\n",
    " \n",
    "print('end')"
   ]
  },
  {
   "cell_type": "code",
   "execution_count": 57,
   "metadata": {},
   "outputs": [
    {
     "name": "stdout",
     "output_type": "stream",
     "text": [
      "You are a child\n",
      "end\n"
     ]
    }
   ],
   "source": [
    "age = 15\n",
    "# if <salyga>:\n",
    "\n",
    "if age >= 18:\n",
    "    print('You are an adult')\n",
    "else:\n",
    "    print('You are a child')\n",
    "\n",
    "print('end')"
   ]
  },
  {
   "cell_type": "code",
   "execution_count": 58,
   "metadata": {},
   "outputs": [
    {
     "name": "stdout",
     "output_type": "stream",
     "text": [
      "You are a child\n",
      "end\n"
     ]
    }
   ],
   "source": [
    "age = 5\n",
    "# if <salyga>:\n",
    "\n",
    "if age >= 65:\n",
    "    print('You are a senior')\n",
    "elif age > 30: # else if\n",
    "    print('You are older than middle age adult')\n",
    "elif age >= 18:\n",
    "    print('You are an adult')\n",
    "else:\n",
    "    print('You are a child')\n",
    "\n",
    "print('end')"
   ]
  },
  {
   "cell_type": "code",
   "execution_count": 60,
   "metadata": {},
   "outputs": [
    {
     "name": "stdout",
     "output_type": "stream",
     "text": [
      "You are a child\n",
      "end\n"
     ]
    }
   ],
   "source": [
    "age = 15\n",
    "# if <salyga>:\n",
    "\n",
    "if age >= 65:\n",
    "    print('You are a senior')\n",
    "if age > 30 and age < 65: # else if\n",
    "    print('You are older than middle age adult')\n",
    "if age >= 18 and age < 30:\n",
    "    print('You are an adult')\n",
    "if age < 18:\n",
    "    print('You are a child')\n",
    "\n",
    "print('end')"
   ]
  },
  {
   "cell_type": "code",
   "execution_count": 65,
   "metadata": {},
   "outputs": [
    {
     "name": "stdout",
     "output_type": "stream",
     "text": [
      "cia yra nelyginis skaicius\n"
     ]
    }
   ],
   "source": [
    "# atspausdinti 'cia yra lyginis skaicius' jei skaicius lyginis, kitu atveju atspausdinti 'cia yra nelyginis skaicius'\n",
    "number = 15274845321\n",
    "\n",
    "# paprasta dalyba - /, dalybe (sveikoji dalis) //, sveikasis dalybos rezultatas (liekana) %\n",
    "# 5 % 2 = 1\n",
    "# 6 % 2 = 0\n",
    "# 7 % 2 = 1\n",
    "# 8 % 2 = 0\n",
    "if number % 2 == 0:\n",
    "    print('cia yra lyginis skaicius')\n",
    "else:\n",
    "    print('cia yra nelyginis skaicius')\n"
   ]
  },
  {
   "cell_type": "code",
   "execution_count": 68,
   "metadata": {},
   "outputs": [
    {
     "name": "stdout",
     "output_type": "stream",
     "text": [
      "0\n",
      "skaicius dalinasi is 7\n"
     ]
    }
   ],
   "source": [
    "number = 15274845320\n",
    "\n",
    "print(number % 7)\n",
    "if number % 7 == 0:\n",
    "    print('skaicius dalinasi is 7')\n",
    "else:\n",
    "    print('skaicius nesidalina is 7')"
   ]
  },
  {
   "cell_type": "markdown",
   "metadata": {},
   "source": [
    "# List"
   ]
  },
  {
   "cell_type": "code",
   "execution_count": 71,
   "metadata": {},
   "outputs": [
    {
     "name": "stdout",
     "output_type": "stream",
     "text": [
      "[1, 2, 3, 4, 5]\n"
     ]
    },
    {
     "data": {
      "text/plain": [
       "5"
      ]
     },
     "execution_count": 71,
     "metadata": {},
     "output_type": "execute_result"
    }
   ],
   "source": [
    "my_list = [1, 2, 3, 4, 5]\n",
    "print(my_list)\n",
    "len(my_list)"
   ]
  },
  {
   "cell_type": "code",
   "execution_count": 70,
   "metadata": {},
   "outputs": [
    {
     "name": "stdout",
     "output_type": "stream",
     "text": [
      "['item1', 'item2']\n"
     ]
    },
    {
     "data": {
      "text/plain": [
       "2"
      ]
     },
     "execution_count": 70,
     "metadata": {},
     "output_type": "execute_result"
    }
   ],
   "source": [
    "my_list = ['item1', 'item2'] \n",
    "print(my_list)\n",
    "len(my_list)\n"
   ]
  },
  {
   "cell_type": "code",
   "execution_count": 73,
   "metadata": {},
   "outputs": [
    {
     "name": "stdout",
     "output_type": "stream",
     "text": [
      "<class 'list'>\n",
      "<class 'list'>\n"
     ]
    }
   ],
   "source": [
    "print( type( my_list ) )\n",
    "\n",
    "print( type( [] ) )"
   ]
  },
  {
   "cell_type": "code",
   "execution_count": 75,
   "metadata": {},
   "outputs": [
    {
     "name": "stdout",
     "output_type": "stream",
     "text": [
      "5\n",
      "1\n"
     ]
    }
   ],
   "source": [
    "print( len( \"item1\" ) )\n",
    "print( len( [\"item1\"] ) )"
   ]
  },
  {
   "cell_type": "code",
   "execution_count": 85,
   "metadata": {},
   "outputs": [
    {
     "name": "stdout",
     "output_type": "stream",
     "text": [
      "1\n",
      "5\n",
      "<class 'list'>\n",
      "<class 'int'>\n",
      "slicing [1, 2, 3]\n",
      "slicing [4, 5]\n",
      "[1, 2, 3, 4, 5]\n",
      "[1, 2, 7, 4, 5]\n",
      "[1, 2, 7, 'Ne skaicius', 5]\n"
     ]
    }
   ],
   "source": [
    "my_list = [1, 2, 3, 4, 5]\n",
    "print(my_list[0] )\n",
    "print(my_list[-1] )\n",
    "print( type(my_list) )\n",
    "print( type( my_list[0] ) )\n",
    "print( 'slicing', my_list[0:3] ) # [start:end:step]\n",
    "print( 'slicing', my_list[3:] )\n",
    "\n",
    "print(my_list)\n",
    "my_list[2] = 7\n",
    "print(my_list)\n",
    "my_list[3] = 'Ne skaicius'\n",
    "print(my_list)"
   ]
  },
  {
   "cell_type": "code",
   "execution_count": 87,
   "metadata": {},
   "outputs": [
    {
     "name": "stdout",
     "output_type": "stream",
     "text": [
      "[1, 2, 3, 4, 5, 10, 34, 876]\n",
      "[1, 2, 3, 4, 5, 10, 34, 876, 50]\n",
      "[1, 2, 3, 4, 5, 10, 34, 876, 50, 60]\n"
     ]
    }
   ],
   "source": [
    "numbers = [ 1, 2, 3, 4, 5, 10, 34, 876]\n",
    "print(numbers)\n",
    "numbers.append(50)\n",
    "print(numbers)\n",
    "numbers.append(60)\n",
    "print(numbers)\n"
   ]
  },
  {
   "cell_type": "code",
   "execution_count": 118,
   "metadata": {},
   "outputs": [
    {
     "name": "stdout",
     "output_type": "stream",
     "text": [
      "[1, 2, 3, 4, 5, 10, 34, 876, 50, 60, 60, 60, 60, 60, 60, 60, 60, 60, 60, 60, 60, 60, 60, 60, 60, 60, 60, 60, 60, 60, 60, 60, 60, 60, 60, 60, 60, 60, 60, 60, 60]\n"
     ]
    }
   ],
   "source": [
    "numbers.append(60)\n",
    "print(numbers)\n"
   ]
  },
  {
   "cell_type": "code",
   "execution_count": 124,
   "metadata": {},
   "outputs": [
    {
     "name": "stdout",
     "output_type": "stream",
     "text": [
      "[1, 2, 3, 4, 5, 10, 34, 876]\n",
      "[1, 2, 3, 4, 5, 10, 34, 876, 50, 60, 70]\n",
      "[1, 2, 3, 4, 5, 10, 34, 876, 50, 60, 70, 50, 60, 70, 50, 60, 70, 50, 60, 70, 50, 60, 70, 50, 60, 70]\n",
      "26\n",
      "count 10: 1\n",
      "count 50: 6\n"
     ]
    }
   ],
   "source": [
    "numbers = [ 1, 2, 3, 4, 5, 10, 34, 876]\n",
    "print(numbers)\n",
    "numbers.extend( [50, 60, 70] )\n",
    "print(numbers)\n",
    "numbers.extend( [50, 60, 70] * 5 )\n",
    "print(numbers)\n",
    "print( len( numbers ) )\n",
    "print( 'count 10:', numbers.count(10) )\n",
    "print( 'count 50:', numbers.count(50) )\n"
   ]
  },
  {
   "cell_type": "code",
   "execution_count": 127,
   "metadata": {},
   "outputs": [
    {
     "data": {
      "text/plain": [
       "[34,\n",
       " 876,\n",
       " 50,\n",
       " 60,\n",
       " 70,\n",
       " 50,\n",
       " 60,\n",
       " 70,\n",
       " 50,\n",
       " 60,\n",
       " 70,\n",
       " 50,\n",
       " 60,\n",
       " 70,\n",
       " 50,\n",
       " 60,\n",
       " 70,\n",
       " 50,\n",
       " 60,\n",
       " 70]"
      ]
     },
     "execution_count": 127,
     "metadata": {},
     "output_type": "execute_result"
    }
   ],
   "source": [
    "my_list = [1, 2, 3, 4, 5, 10, 34, 876, 50, 60, 70, 50, 60, 70, 50, 60, 70, 50, 60, 70, 50, 60, 70, 50, 60, 70]\n",
    "list( filter( lambda x: x > 10, my_list ) )"
   ]
  },
  {
   "cell_type": "code",
   "execution_count": 135,
   "metadata": {},
   "outputs": [
    {
     "name": "stdout",
     "output_type": "stream",
     "text": [
      "[1, 2, 3, 4, 5, 10, 34, 876, 50, 60, 70, 50, 60, 70, 50, 60, 70, 50, 60, 70, 50, 60, 70, 50, 60, 70]\n",
      "None\n",
      "[70, 60, 50, 70, 60, 50, 70, 60, 50, 70, 60, 50, 70, 60, 50, 70, 60, 50, 876, 34, 10, 5, 4, 3, 2, 1]\n",
      "[70, 60, 50, 70, 60, 50, 70, 60, 50, 70, 60, 50, 70, 60, 50, 70, 60, 50, 876, 34, 10, 5, 4, 3, 2, 1]\n",
      "None\n",
      "[1, 2, 3, 4, 5, 10, 34, 876, 50, 60, 70, 50, 60, 70, 50, 60, 70, 50, 60, 70, 50, 60, 70, 50, 60, 70]\n",
      "with slicing\n",
      "[70, 60, 50, 70, 60, 50, 70, 60, 50, 70, 60, 50, 70, 60, 50, 70, 60, 50, 876, 34, 10, 5, 4, 3, 2, 1]\n",
      "[1, 2, 3, 4, 5, 10, 34, 876, 50, 60, 70, 50, 60, 70, 50, 60, 70, 50, 60, 70, 50, 60, 70, 50, 60, 70]\n",
      "[70, 60, 50, 70, 60, 50, 70, 60, 50, 70, 60, 50, 70, 60, 50, 70, 60, 50, 876, 34, 10, 5, 4, 3, 2, 1]\n"
     ]
    }
   ],
   "source": [
    "my_list = [1, 2, 3, 4, 5, 10, 34, 876, 50, 60, 70, 50, 60, 70, 50, 60, 70, 50, 60, 70, 50, 60, 70, 50, 60, 70]\n",
    "print(my_list)\n",
    "print( my_list.reverse() )\n",
    "# print( my_list.reverse ) # does not run the method\n",
    "print(my_list)\n",
    "print(my_list)\n",
    "print( my_list.reverse() )\n",
    "print(my_list)\n",
    "print('with slicing')\n",
    "print(  my_list[::-1] ) # [start:end:step]\n",
    "print(my_list)\n",
    "print('overwriting the list with slicing')\n",
    "my_list = my_list[::-1]\n",
    "print(my_list)\n"
   ]
  },
  {
   "cell_type": "code",
   "execution_count": 142,
   "metadata": {},
   "outputs": [
    {
     "name": "stdout",
     "output_type": "stream",
     "text": [
      "[1, 2, 3, 4, 5, 10, 34, 876, 50, 60, 70, 50, 60, 70, 50, 60, 70, 50, 60, 70, 50, 60, 70, 50, 60, 70]\n",
      "None\n",
      "[1, 2, 3, 4, 5, 10, 34, 50, 50, 50, 50, 50, 50, 60, 60, 60, 60, 60, 60, 70, 70, 70, 70, 70, 70, 876]\n",
      "None\n",
      "[876, 70, 70, 70, 70, 70, 70, 60, 60, 60, 60, 60, 60, 50, 50, 50, 50, 50, 50, 34, 10, 5, 4, 3, 2, 1]\n",
      "sorted function\n",
      "[1, 2, 3, 4, 5, 10, 34, 50, 50, 50, 50, 50, 50, 60, 60, 60, 60, 60, 60, 70, 70, 70, 70, 70, 70, 876]\n",
      "[876, 70, 70, 70, 70, 70, 70, 60, 60, 60, 60, 60, 60, 50, 50, 50, 50, 50, 50, 34, 10, 5, 4, 3, 2, 1]\n",
      "sorted function with reverse\n",
      "[1, 2, 3, 4, 5, 10, 34, 876, 50, 60, 70, 50, 60, 70, 50, 60, 70, 50, 60, 70, 50, 60, 70, 50, 60, 70]\n",
      "[876, 70, 70, 70, 70, 70, 70, 60, 60, 60, 60, 60, 60, 50, 50, 50, 50, 50, 50, 34, 10, 5, 4, 3, 2, 1]\n"
     ]
    }
   ],
   "source": [
    "my_list = [1, 2, 3, 4, 5, 10, 34, 876, 50, 60, 70, 50, 60, 70, 50, 60, 70, 50, 60, 70, 50, 60, 70, 50, 60, 70]\n",
    "print(my_list)\n",
    "print( my_list.sort() )\n",
    "print(my_list)\n",
    "print( my_list.sort(reverse=True) )\n",
    "print(my_list)\n",
    "\n",
    "print('sorted function')\n",
    "print( sorted(my_list) ) # recommended\n",
    "print(my_list)\n",
    "\n",
    "print('sorted function with reverse')\n",
    "my_list = [1, 2, 3, 4, 5, 10, 34, 876, 50, 60, 70, 50, 60, 70, 50, 60, 70, 50, 60, 70, 50, 60, 70, 50, 60, 70]\n",
    "print(my_list)\n",
    "print( sorted(my_list, reverse=True) )"
   ]
  },
  {
   "cell_type": "code",
   "execution_count": 146,
   "metadata": {},
   "outputs": [
    {
     "name": "stdout",
     "output_type": "stream",
     "text": [
      "before [1, 2, 3, 4, 5, 10, 34, 70, 50, 60, 70, 50, 60, 70, 50, 60, 70, 50, 60, 70]\n",
      "after [1, 2, 3, 4, 10, 34, 70, 50, 60, 70, 50, 60, 70, 50, 60, 70, 50, 60, 70]\n",
      "before pop [1, 2, 3, 4, 10, 34, 70, 50, 60, 70, 50, 60, 70, 50, 60, 70, 50, 60, 70]\n",
      "after pop [1, 2, 3, 4, 10, 34, 70, 50, 60, 70, 50, 60, 70, 50, 60, 70, 50, 60]\n",
      "after pop(10) [1, 2, 3, 4, 10, 34, 70, 50, 60, 70, 60, 70, 50, 60, 70, 50, 60]\n"
     ]
    }
   ],
   "source": [
    "my_list = [1, 2, 3, 4, 5, 10, 34, 70, 50, 60, 70, 50, 60, 70, 50, 60, 70, 50, 60, 70]\n",
    "print('before', my_list)\n",
    "my_list.remove(5)\n",
    "print('after', my_list)\n",
    "# my_list.remove(5) # error if not found\n",
    "\n",
    "print('before pop', my_list)\n",
    "my_list.pop()\n",
    "print('after pop', my_list)\n",
    "my_list.pop(10)\n",
    "print('after pop(10)', my_list)\n"
   ]
  },
  {
   "cell_type": "code",
   "execution_count": 156,
   "metadata": {},
   "outputs": [
    {
     "name": "stdout",
     "output_type": "stream",
     "text": [
      "[1, 2, 10, 3]\n",
      "[1, 50, 2, 10, 3]\n",
      "[1, 50, 2, 10, 3, 10, 20]\n",
      "[1, 50, 2, 10, 3, 10, 20, [10, 20]]\n",
      "20\n",
      "[10, 20]\n",
      "[1, 50, 2, 10, 3, 10, 20]\n",
      "smaller_list=[10, 20]\n"
     ]
    }
   ],
   "source": [
    "numbers = [ 1, 2, 3]\n",
    "numbers.insert(2, 10)\n",
    "print(numbers)\n",
    "numbers.insert(1, 50)\n",
    "print(numbers)\n",
    "numbers.extend( [10, 20] )\n",
    "print(numbers)\n",
    "numbers.append( [10, 20] )\n",
    "print(numbers)\n",
    "\n",
    "print(numbers[-2])\n",
    "print(numbers[-1])\n",
    "smaller_list = numbers.pop()\n",
    "print(numbers)\n",
    "print(f'{smaller_list=}')\n"
   ]
  },
  {
   "cell_type": "code",
   "execution_count": 171,
   "metadata": {},
   "outputs": [
    {
     "name": "stdout",
     "output_type": "stream",
     "text": [
      "[[[48, [['65']]], 57]]\n",
      "[[48, [['65']]], 57]\n",
      "[48, [['65']]]\n",
      "[['65']]\n",
      "['65']\n",
      "65\n",
      "65\n"
     ]
    }
   ],
   "source": [
    "nested_list = [654, [[[48, [['65']]], 57]]]\n",
    "# atspausdinti `65`\n",
    "print(nested_list[1] )\n",
    "print(nested_list[1][0] )\n",
    "print(nested_list[1][0][0] )\n",
    "# print(nested_list)\n",
    "print(nested_list[1][0][0][1] )\n",
    "print(nested_list[1][0][0][1][0] )\n",
    "print(nested_list[1][0][0][1][0][0] )\n",
    "\n",
    "print(nested_list[-1][0][0][-1][-1][-1] )"
   ]
  },
  {
   "cell_type": "markdown",
   "metadata": {},
   "source": [
    "Standard functions: https://docs.python.org/3/library/functions.html\n",
    "\n",
    "Standard libraries: https://docs.python.org/3/library/index.html"
   ]
  },
  {
   "cell_type": "code",
   "execution_count": 174,
   "metadata": {},
   "outputs": [],
   "source": [
    "name = input('Enter your name: ')\n"
   ]
  },
  {
   "cell_type": "code",
   "execution_count": 175,
   "metadata": {},
   "outputs": [
    {
     "name": "stdout",
     "output_type": "stream",
     "text": [
      "Tomas\n"
     ]
    }
   ],
   "source": [
    "print(name)"
   ]
  },
  {
   "cell_type": "code",
   "execution_count": 184,
   "metadata": {},
   "outputs": [
    {
     "name": "stdout",
     "output_type": "stream",
     "text": [
      "['Vilnius', 'Kaunas', 'Klaipeda', 'Siauliai', 'Panevezys']\n",
      "True\n",
      "False\n",
      "False\n",
      "False\n"
     ]
    }
   ],
   "source": [
    "cities = ['Vilnius', 'Kaunas', 'Klaipeda', 'Siauliai', 'Panevezys']\n",
    "print(cities)\n",
    "print( 'Vilnius' in cities)\n",
    "print( 'Vilnius' not in cities)\n",
    "print( 'vilnius' in cities)\n",
    "print( 'London' in cities)\n"
   ]
  },
  {
   "cell_type": "code",
   "execution_count": 178,
   "metadata": {},
   "outputs": [
    {
     "name": "stdout",
     "output_type": "stream",
     "text": [
      "150\n",
      "<class 'str'>\n",
      "160\n"
     ]
    }
   ],
   "source": [
    "number = input('Enter number: ')\n",
    "# number = int( input('Enter number: ') )\n",
    "number = int(number)\n",
    "print(number)\n",
    "print(type(number))\n",
    "# print( number + 10 ) # error\n",
    "print( int(number) + 10 )\n",
    "print()"
   ]
  },
  {
   "cell_type": "code",
   "execution_count": 185,
   "metadata": {},
   "outputs": [
    {
     "name": "stdout",
     "output_type": "stream",
     "text": [
      "['1', '8', '8', '5', '5', '5', '5', '5']\n",
      "8\n",
      "['1', '8', '8', '5', '5', '5', '5', '5', '+iurkė']\n"
     ]
    }
   ],
   "source": [
    "list_vardai = [\"1\", \"8\" , \"8\", \"5\" , \"5\" ,\"5\", \"5\", \"5\"]\n",
    "print(list_vardai)  \n",
    "print( len( list_vardai ) )\n",
    "list_vardai.append(\"+iurkė\")\n",
    "print(list_vardai)"
   ]
  },
  {
   "cell_type": "code",
   "execution_count": 187,
   "metadata": {},
   "outputs": [
    {
     "name": "stdout",
     "output_type": "stream",
     "text": [
      "True\n",
      "False\n"
     ]
    }
   ],
   "source": [
    "print (\"8\" in list_vardai)\n",
    "print (8 in list_vardai)"
   ]
  },
  {
   "cell_type": "code",
   "execution_count": 193,
   "metadata": {},
   "outputs": [
    {
     "name": "stdout",
     "output_type": "stream",
     "text": [
      "['1', '8', '5', '5', '5', '5', '5', '+iurkė']\n",
      "['8', '5', '5', '5', '5', '5', '+iurkė']\n",
      "['8', '5', '5', '5', '5', '5', '+iurkė', 'tikras']\n",
      "['+iurkė', '5', '5', '5', '5', '5', '8', 'tikras']\n",
      "5\n"
     ]
    }
   ],
   "source": [
    "list_vardai = [\"1\", \"8\" , \"8\", \"5\" , \"5\" ,\"5\", \"5\", \"5\", \"+iurkė\"]\n",
    "list_vardai.remove(\"8\")\n",
    "print(list_vardai)\n",
    "list_vardai.pop(0)\n",
    "print(list_vardai)\n",
    "list_vardai.append(\"tikras\")\n",
    "print(list_vardai)\n",
    "list_vardai.sort()\n",
    "print(list_vardai)\n",
    "print( list_vardai.count('5') )"
   ]
  },
  {
   "cell_type": "code",
   "execution_count": null,
   "metadata": {},
   "outputs": [],
   "source": []
  }
 ],
 "metadata": {
  "kernelspec": {
   "display_name": "Python 3",
   "language": "python",
   "name": "python3"
  },
  "language_info": {
   "codemirror_mode": {
    "name": "ipython",
    "version": 3
   },
   "file_extension": ".py",
   "mimetype": "text/x-python",
   "name": "python",
   "nbconvert_exporter": "python",
   "pygments_lexer": "ipython3",
   "version": "3.10.2"
  }
 },
 "nbformat": 4,
 "nbformat_minor": 2
}
